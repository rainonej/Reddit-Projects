{
 "cells": [
  {
   "cell_type": "markdown",
   "source": [
    "\n"
   ],
   "metadata": {
    "collapsed": false
   }
  },
  {
   "cell_type": "markdown",
   "source": [
    "# Subreddit Predictor\n",
    "\n",
    "We will try to train a ML model which can predict which subreddit a specific post belongs to.\n",
    "For simplicity we will select a small number of subreddits that our model will have to choose between.\n",
    "top_subreddits = ['announcements', 'funny', 'AskReddit', 'dataisbeautiful', 'Awww', 'datascience', 'pics', 'science', 'worldnews', 'videos', 'AmItheAsshole']"
   ],
   "metadata": {
    "collapsed": false
   }
  },
  {
   "cell_type": "code",
   "execution_count": 74,
   "outputs": [],
   "source": [
    "import pandas as pd\n",
    "import praw\n",
    "import secrets\n",
    "from sklearn.preprocessing import LabelEncoder\n",
    "import numpy as np\n",
    "from sklearn.model_selection import train_test_split\n",
    "from sklearn.feature_extraction.text import CountVectorizer\n",
    "from gensim.models.doc2vec import Doc2Vec, TaggedDocument\n",
    "from sklearn.svm import SVC\n",
    "import matplotlib.pyplot as plt\n"
   ],
   "metadata": {
    "collapsed": false
   }
  },
  {
   "cell_type": "markdown",
   "source": [
    "## Gather the Data\n",
    "PushShift is down, which means we will stick with praw and are limited on the amount of data we can gather.\n",
    "We will hand select a"
   ],
   "metadata": {
    "collapsed": false
   }
  },
  {
   "cell_type": "code",
   "execution_count": 75,
   "outputs": [],
   "source": [
    "user_agent = \"Subreddit-Predictor 0.2 by /u/IsThisATrollBot\"\n",
    "\n",
    "reddit = praw.Reddit(\n",
    "    client_id=secrets.client_ID,\n",
    "    client_secret=secrets.client_secret,\n",
    "    password=secrets.password,\n",
    "    user_agent=user_agent,\n",
    "    username=secrets.username,\n",
    ")"
   ],
   "metadata": {
    "collapsed": false
   }
  },
  {
   "cell_type": "code",
   "execution_count": 3,
   "outputs": [],
   "source": [
    "# Start with a list of subreddits\n",
    "top_subreddits = ['announcements', 'funny', 'AskReddit', 'dataisbeautiful', 'Awww', 'datascience', 'pics', 'science', 'worldnews', 'videos', 'AmItheAsshole']"
   ],
   "metadata": {
    "collapsed": false
   }
  },
  {
   "cell_type": "code",
   "execution_count": 4,
   "outputs": [],
   "source": [
    "# Create an empty list to store the posts\n",
    "posts = []\n",
    "\n",
    "# Iterate through the subreddits and get the last 1000 posts from each\n",
    "for sub in top_subreddits:\n",
    "    subreddit_posts = reddit.subreddit(sub).new(limit=1000)\n",
    "    for post in subreddit_posts:\n",
    "        posts.append(post)"
   ],
   "metadata": {
    "collapsed": false
   }
  },
  {
   "cell_type": "code",
   "execution_count": 62,
   "outputs": [
    {
     "data": {
      "text/plain": "           id                                              title  \\\n0      t93ec3  This subreddit is closed for new posts and com...   \n1      pg006s          COVID denialism and policy clarifications   \n2      pbmy5y             Debate, dissent, and protest on Reddit   \n3      nw2hs6           Sunsetting Secret Santa and Reddit Gifts   \n4      mi01fg                                             Second   \n...       ...                                                ...   \n9558  10cjfn2  AITA for telling my mom \"then maybe you should...   \n9559  10cj3d0              AITA for not wanting to do even split   \n9560  10cj0xw       AITA for not letting BIL sleep in \"my\" room?   \n9561  10cix7j  AITA for telling my half sisters they need to ...   \n9562  10cirgw       AITA for choosing where to go on a roadtrip?   \n\n          subreddit  \n0     announcements  \n1     announcements  \n2     announcements  \n3     announcements  \n4     announcements  \n...             ...  \n9558  AmItheAsshole  \n9559  AmItheAsshole  \n9560  AmItheAsshole  \n9561  AmItheAsshole  \n9562  AmItheAsshole  \n\n[9563 rows x 3 columns]",
      "text/html": "<div>\n<style scoped>\n    .dataframe tbody tr th:only-of-type {\n        vertical-align: middle;\n    }\n\n    .dataframe tbody tr th {\n        vertical-align: top;\n    }\n\n    .dataframe thead th {\n        text-align: right;\n    }\n</style>\n<table border=\"1\" class=\"dataframe\">\n  <thead>\n    <tr style=\"text-align: right;\">\n      <th></th>\n      <th>id</th>\n      <th>title</th>\n      <th>subreddit</th>\n    </tr>\n  </thead>\n  <tbody>\n    <tr>\n      <th>0</th>\n      <td>t93ec3</td>\n      <td>This subreddit is closed for new posts and com...</td>\n      <td>announcements</td>\n    </tr>\n    <tr>\n      <th>1</th>\n      <td>pg006s</td>\n      <td>COVID denialism and policy clarifications</td>\n      <td>announcements</td>\n    </tr>\n    <tr>\n      <th>2</th>\n      <td>pbmy5y</td>\n      <td>Debate, dissent, and protest on Reddit</td>\n      <td>announcements</td>\n    </tr>\n    <tr>\n      <th>3</th>\n      <td>nw2hs6</td>\n      <td>Sunsetting Secret Santa and Reddit Gifts</td>\n      <td>announcements</td>\n    </tr>\n    <tr>\n      <th>4</th>\n      <td>mi01fg</td>\n      <td>Second</td>\n      <td>announcements</td>\n    </tr>\n    <tr>\n      <th>...</th>\n      <td>...</td>\n      <td>...</td>\n      <td>...</td>\n    </tr>\n    <tr>\n      <th>9558</th>\n      <td>10cjfn2</td>\n      <td>AITA for telling my mom \"then maybe you should...</td>\n      <td>AmItheAsshole</td>\n    </tr>\n    <tr>\n      <th>9559</th>\n      <td>10cj3d0</td>\n      <td>AITA for not wanting to do even split</td>\n      <td>AmItheAsshole</td>\n    </tr>\n    <tr>\n      <th>9560</th>\n      <td>10cj0xw</td>\n      <td>AITA for not letting BIL sleep in \"my\" room?</td>\n      <td>AmItheAsshole</td>\n    </tr>\n    <tr>\n      <th>9561</th>\n      <td>10cix7j</td>\n      <td>AITA for telling my half sisters they need to ...</td>\n      <td>AmItheAsshole</td>\n    </tr>\n    <tr>\n      <th>9562</th>\n      <td>10cirgw</td>\n      <td>AITA for choosing where to go on a roadtrip?</td>\n      <td>AmItheAsshole</td>\n    </tr>\n  </tbody>\n</table>\n<p>9563 rows × 3 columns</p>\n</div>"
     },
     "execution_count": 62,
     "metadata": {},
     "output_type": "execute_result"
    }
   ],
   "source": [
    "# Create a list of dictionaries containing the data for each post\n",
    "data = [{'id': post.id, 'title': post.title, 'subreddit': post.subreddit.display_name} for post in posts]\n",
    "\n",
    "# Create a Pandas dataframe from the list of dictionaries\n",
    "df = pd.DataFrame(data)\n",
    "\n",
    "df"
   ],
   "metadata": {
    "collapsed": false
   }
  },
  {
   "cell_type": "markdown",
   "source": [
    "# Class: Subreddit_Predictor\n",
    "\n",
    "Objects of this class contain attributes and Methods that can be broken up into three categories: **Data**, **Collections**, and **Processing**\n",
    "\n",
    "## Data\n",
    "Pandas DataFrames and methods to update and clean the data.\n",
    "\n",
    "**Attributes:**\n",
    "\n",
    "| Name      |   Type    |             Description             |\n",
    "|:----------|:---------:|:-----------------------------------|\n",
    "| raw_data  | DataFrame |      The raw unprocessed data       |\n",
    "| full_data | DataFrame |         The processed data          |\n",
    "| subreddits |   list    | A list of subreddits. Extraced from full_data. |\n",
    "| X_train   | pd.Series | the X portion of the training data  |\n",
    "| Y_train   | np.array  | the Y portion of the training data  |\n",
    "| X_test    | pd.Series |   the X portion of the test data    |\n",
    "| Y_test    | np.array  |   the Y portion of the test data    |\n",
    "\n",
    "**Methods:**\n",
    "\n",
    "| Name (with input/output typing) | Description                                                                                                                               |\n",
    "|---------------------------------| ------------------------------------------------------------------------------------------------------------------------------------------|\n",
    "| add_data(df: DataFrame)         | Updates the raw_data attribute                                                                                                            |\n",
    "| ready_data()                    | Cleans the data and does a test train split. <br/> Overwrites the full_data attribute. <br/> Creates the X_train, Y_train, X_test, and Y_test attributes. |\n",
    "\n",
    "## Collections\n",
    "Contains dictionaries of vectorizers, classifiers, and models\n",
    "\n",
    "**Attributes:**\n",
    "\n",
    "| Name        | Type                  | Description                                                                                                                                |\n",
    "|:------------|:----------------------|:-------------------------------------------------------------------------------------------------------------------------------------------|\n",
    "| Vectorizers | dict | Dictionary of Vectorizer objects                                                                                                           |\n",
    "| Feature_Vectors | dict | Dictionary of the vectorized full_data |\n",
    "| Classifiers | dict | Dictionary of Classifier objects                                                                                                           |\n",
    "| Models      | dict | Dictionary of trained Classifier objects                                                                                                   |\n",
    "| Models_info | dict        | Dictionary containing a description of each model in Models.                                                                               |\n",
    "| Predictions | DataFrame   | A DataFrame with all the titles and actual subreddits in X_test and Y_test <br/> There is a column for each model that has the predictions |\n",
    "| Results | dict | Dictionary of DataFrames for each model. Each row and column is a subreddit. Shows the number of false classifications |\n",
    "\n",
    "**Methods:**\n",
    "\n",
    "| Name (with input/output typing)                                                                                  | Description                                                                                                                                                                                |\n",
    "|------------------------------------------------------------------------------------------------------------------|--------------------------------------------------------------------------------------------------------------------------------------------------------------------------------------------|\n",
    "| add_vectorizer(model: Vectorizer)                                                                                | Trains the vectorizer. <br/>Adds (key = model.name, value = model) to Vectorizers                                                                                                               |\n",
    "| add_feature_vectors(vectorizerName: str)| Embeds X_train as vectors and creates a dataframe for the new feature vectors. <br/> Adds this dataFrame to Feature_Vectors |\n",
    "| add_classifier(model: Classifier)                                                                                | Adds (key = model.name, value = model) to Classifiers                                                                                                                                      |\n",
    "| train_model(<br/>modelName: str, <br/>vectorizerName: str, <br/>classifierName: str, <br/>description = '' :str) | Takes vectorizer and classifer from Vectorizers and Classifiers. <br/>Trains the classifier.<br/>Names and adds the trained model to Models.<br/>Adds the description text to Models_info. |\n",
    "| test_model(modelName: str) | Runs the model against X_test and Y_test. <br/> Updates Predictions and Results                                                                                                            |\n",
    "\n",
    "## Processing\n",
    "\n",
    "**Methods:**\n",
    "\n",
    "| Name (with input/output typing)                       | Description                                                                                   |\n",
    "|-------------------------------------------------------|-----------------------------------------------------------------------------------------------|\n",
    "| predict(modelName:str, title: str, titles: iter[str]) | Given a model, enter a title or a list/dataframe of titles. Will return the model prediction. |\n",
    "| compare(models: list[str])                            | Creates a bar chart comparing each of the models on each of the subreddits. |                  |"
   ],
   "metadata": {
    "collapsed": false
   }
  },
  {
   "cell_type": "code",
   "execution_count": 71,
   "outputs": [],
   "source": [
    "class Subreddit_Predictor:\n",
    "\n",
    "    def __init__(self):\n",
    "\n",
    "        #Data\n",
    "        self.raw_data = pd.DataFrame({'id': [], 'title': [], 'subreddit': []})\n",
    "        self.full_data = pd.DataFrame({'id': [], 'title': [], 'subreddit': []}).set_index('id')\n",
    "        self.subreddits = []\n",
    "\n",
    "        #Collections\n",
    "        self.Vectorizers = {}\n",
    "        self.Feature_Vectors = {}\n",
    "        self.Classifiers = {}\n",
    "        self.Models = {}\n",
    "        self.Models_info = {}\n",
    "        #self.Predictions = {}\n",
    "        self.Results = {}\n",
    "\n",
    "    #### Data ####\n",
    "\n",
    "    def add_data(self, df):\n",
    "        \"\"\"df is a pandas DataFrame with columns={'title':[], 'subreddit':[]}. It will be merged with the existing raw_data\"\"\"\n",
    "        self.raw_data = pd.concat([self.raw_data, df]).drop_duplicates(subset='id')\n",
    "\n",
    "    def ready_data(self, test_size=.2, seed=42):\n",
    "        \"\"\"Splits and encodes the data. Saves is in X_train, Y_train, X_test, Y_test.\"\"\"\n",
    "\n",
    "        # Clean the data\n",
    "        self._clean_data()\n",
    "\n",
    "        # Update the subreddits attribute\n",
    "        self.subreddits = self.full_data['subreddit'].unique().tolist()\n",
    "\n",
    "        # Encode the subreddits\n",
    "        self._le = LabelEncoder()\n",
    "        self.full_data['subreddit_num'] = self._le.fit_transform(self.full_data['subreddit'])\n",
    "\n",
    "        # Split the data\n",
    "        self.X_train, self.X_test, self.Y_train, self.Y_test = train_test_split(self.full_data['title'],\n",
    "                                                                                self._le.fit_transform(\n",
    "                                                                                    self.full_data['subreddit']),\n",
    "                                                                                test_size=test_size, random_state=seed)\n",
    "        # Record the indices\n",
    "        self._train_index = self.X_train.index\n",
    "        self._test_index = self.X_test.index\n",
    "\n",
    "        # Update Predictions\n",
    "        df = self.full_data\n",
    "        df = df.drop(columns=['subreddit_num'])\n",
    "        df = df.loc[obj._test_index]\n",
    "        df = df.rename(columns={'subreddit':'actual'})\n",
    "        self.Predictions = df\n",
    "\n",
    "    def _clean_data(self):\n",
    "        \"\"\"Cleans the data in raw_data and updates self.data\"\"\"\n",
    "\n",
    "        df = self.raw_data\n",
    "\n",
    "        # Remove all non-alpha-numeric characters\n",
    "        df['title'] = df['title'].str.replace(r'[^a-zA-Z0-9 ]', '', regex=True)\n",
    "\n",
    "        # Make all the text lowercase\n",
    "        df['title'] = df['title'].str.lower()\n",
    "\n",
    "        # Remove empty rows\n",
    "        df['title'] = df['title'].str.strip()\n",
    "        filter = df['title'] == ''\n",
    "        df = df.drop(df[filter].index)\n",
    "\n",
    "        # Store it as\n",
    "        self.full_data = df\n",
    "\n",
    "        # Change the index\n",
    "        self.full_data = self.full_data.set_index('id')\n",
    "\n",
    "\n",
    "    #### Collections ####\n",
    "\n",
    "    def add_vectorizer(self, vectorizer):\n",
    "        \"\"\"This is how we add a vectorizers to our collection\"\"\"\n",
    "        vectorizer.train(self.X_train)\n",
    "        self.Vectorizers[vectorizer.vectorizerName] = vectorizer\n",
    "\n",
    "    def add_feature_vectors(self, vectorizerName):\n",
    "        \"\"\"Updates Feature_Vectors\"\"\"\n",
    "        vectorizer = self.Vectorizers[vectorizerName]\n",
    "        self.Feature_Vectors[vectorizerName] = vectorizer.embed(self.full_data['title'])\n",
    "\n",
    "    def add_classifier(self, classifier):\n",
    "        \"\"\"We add the classifier to our collection, self.Classifiers\"\"\"\n",
    "        self.Classifiers[classifier.classifierName] = classifier\n",
    "\n",
    "    def train_model(self, modelName, vectorizerName, classifierName, description = ''):\n",
    "        \"\"\"\n",
    "        :param modelName: The name of this model\n",
    "        :param vectorizerName: Which feature vectors are we using?\n",
    "        :param classifierName: Which classifier are we using?\n",
    "        :param description: Write a short discription of the model (optional).\n",
    "        :return: Adds a trained object of the classifier class to self.Models\n",
    "        \"\"\"\n",
    "\n",
    "        self.Models_info[modelName] = {'vectorizerName':vectorizerName, 'classifierName':classifierName, 'description':description}\n",
    "\n",
    "        X_train = self.Feature_Vectors[vectorizerName].loc[self._train_index]\n",
    "        Y_train = self.Y_train\n",
    "        classifier = self.Classifiers[classifierName]\n",
    "        classifier.train(X_train, Y_train)\n",
    "\n",
    "        self.Models[modelName] = classifier\n",
    "\n",
    "    def test_model(self, modelName):\n",
    "        \"\"\"Tests the model using X_test and Y_test. Updates Predictions and Results\"\"\"\n",
    "\n",
    "        model = self.Models[modelName]\n",
    "\n",
    "        vectorizerName = self.Models_info[modelName]['vectorizerName']\n",
    "        X_test = self.Feature_Vectors[vectorizerName].loc[self._test_index]\n",
    "\n",
    "        yhat = model.predict(X_test)\n",
    "        yhat = self._le.inverse_transform(yhat)\n",
    "        self.Predictions[modelName] = yhat\n",
    "\n",
    "\n",
    "        df = self.Predictions\n",
    "        results_matrix = pd.DataFrame(columns = self.subreddits)\n",
    "        for actual_sub in self.subreddits:\n",
    "            row = []\n",
    "            filter = df['actual'] == actual_sub\n",
    "            temp_df = df[filter]\n",
    "            total = len(temp_df)\n",
    "            for predicted_sub in self.subreddits:\n",
    "                filter = temp_df[modelName] == predicted_sub\n",
    "                count = len(temp_df[filter])\n",
    "                row.append(count/total)\n",
    "\n",
    "                #print('actual_sub', actual_sub, 'predicted_sub', predicted_sub)\n",
    "\n",
    "            results_matrix.loc[actual_sub] = row\n",
    "\n",
    "        self.Results[modelName] = results_matrix\n",
    "\n",
    "\n",
    "    #### Processing ####\n",
    "\n",
    "    def predict(self, modelName, titles):\n",
    "        \"\"\"\n",
    "        :param modelName: Which model are we using?\n",
    "        :param titles: A list or series of titles\n",
    "        :return: A data frame of 'title' and 'prediction'\n",
    "        \"\"\"\n",
    "\n",
    "        model = self.Models[modelName]\n",
    "\n",
    "        vectorizerName = self.Models_info[modelName]['vectorizerName']\n",
    "        vectorizer = self.Vectorizers[vectorizerName]\n",
    "\n",
    "        title_vectors = vectorizer.embed(titles)\n",
    "\n",
    "        array = model.predict(title_vectors)\n",
    "        df = pd.DataFrame(array)\n",
    "        df['title'] = titles\n",
    "        df['prediction'] = self._le.inverse_transform(array)\n",
    "        df = df.drop(columns=[0])\n",
    "        return df\n",
    "\n",
    "\n",
    "    def compare(self, list_of_models):\n",
    "        \"\"\"Creates a bar chart comparing the predictions from a list of models\"\"\"\n",
    "\n",
    "        num_models = len(list_of_models)\n",
    "\n",
    "        # Set the width of the bars\n",
    "        bar_width = 1 / (num_models + 1)\n",
    "\n",
    "        Results = self.Results\n",
    "\n",
    "        keys = list(list(Results.items())[0][1].keys())\n",
    "        x_pos = [i for i, _ in enumerate(keys)]\n",
    "\n",
    "        for key, val in Results.items():\n",
    "            correct = []\n",
    "            for sub in self.subreddits: correct.append(val.loc[sub][sub])\n",
    "            plt.bar(x_pos, correct, bar_width, label=key)\n",
    "            x_pos = [i + bar_width for i in x_pos]\n",
    "\n",
    "        x_pos = [i - bar_width for i in x_pos]\n",
    "\n",
    "        # Set the x-axis tick labels\n",
    "        plt.xticks(x_pos, keys, rotation=45, ha='right')\n",
    "\n",
    "        # Add a title and axis labels\n",
    "        plt.title('Which Subreddits were easiest to predict?')\n",
    "        plt.xlabel('Subreddit')\n",
    "        plt.ylabel('% Correct')\n",
    "\n",
    "        # Add a legend\n",
    "        plt.legend()\n",
    "\n",
    "        # Show the plot\n",
    "        plt.show()\n",
    "\n"
   ],
   "metadata": {
    "collapsed": false
   }
  },
  {
   "cell_type": "markdown",
   "source": [
    "# Class: Vectorizer\n",
    "\n",
    "Objects of this class are vectorizers, like Bag-of-Words or Doc2Vec. They have very few attributes and methods.\n",
    "All of the attributes and methods will be overwritten by each object of this class.\n",
    "\n",
    "**Attributes:**\n",
    "\n",
    "| Name           | Type | Description                                                                                         |\n",
    "|----------------|------|-----------------------------------------------------------------------------------------------------|\n",
    "| vectorizerName | str | The name of this vectorizer. <br/> This will be the key for any dictionaries containing it.         |\n",
    "| description    | str | A breif discription of what this vectorizer is/does. <br/>Put the parameters here if there are any. |\n",
    "| model | Other | The actual model. Typically an object of a class like Gensim or SCM\n",
    "\n",
    "**Methods:**\n",
    "\n",
    "| Name                               | Description                                                                                          |\n",
    "|------------------------------------|------------------------------------------------------------------------------------------------------|\n",
    "| train(X_train: DataFrame)          | Uses the training data to train the model.                                                           |\n",
    "| embed(titles: Series) -> DataFrame | Takes a list/dataFrame of titles and returns a DataFrame of the embeddings for each of them. |\n",
    "\n"
   ],
   "metadata": {
    "collapsed": false
   }
  },
  {
   "cell_type": "code",
   "execution_count": 72,
   "outputs": [],
   "source": [
    "class Vectorizer:\n",
    "    \"\"\"This class is to hold all of the Title Vectorizers, like Bag-of-Words and Doc2Vec. Each vectorizer is a specific object. The class methods all have the same input/output.\"\"\"\n",
    "\n",
    "    def __init__(self, vectorizerName):\n",
    "        self.vectorizerName = vectorizerName\n",
    "        self.description = \"Description goes here\"\n",
    "\n",
    "    def train(self, X_train):\n",
    "        \"\"\"Inputs the training data. Creates the self.model\"\"\"\n",
    "\n",
    "        self.model = self._train(X_train)\n",
    "\n",
    "    def _train(self, X_train):\n",
    "        \"\"\"Just a place holder for the actual function\"\"\"\n",
    "        pass\n",
    "\n",
    "    def embed(self, titles):\n",
    "        \"\"\"Given a data frame or series with only titles, will return a df of all of the features, indexed by id. The actual function will be added to each object.\"\"\"\n",
    "\n",
    "        return self._embed(titles, self.model)\n",
    "\n",
    "    def _embed(self, titles, model):\n",
    "        \"\"\"Just a place holder for the actual function.\"\"\"\n",
    "        pass\n",
    "\n"
   ],
   "metadata": {
    "collapsed": false
   }
  },
  {
   "cell_type": "markdown",
   "source": [
    "# Class: Classifier\n",
    "\n",
    "This class holds the classifiers, like XGBoost and Support Vector Machines.\n",
    "It also has very few attributes and methods.\n",
    "\n",
    "**Attributes:**\n",
    "\n",
    "|Name | Type | Description |\n",
    "|-----|-------|--------|\n",
    "| classifierName | str | The name of this classifier |\n",
    "| description | str | A brief description of this classifier |\n",
    "| model | Other | Where the actual model is stored. Typically a member of a totally different class. |\n",
    "\n",
    "**Methods:**\n",
    "\n",
    "|Name | Description|\n",
    "|-----| --------|\n",
    "|train(X_train: pd.Series, Y_train: np.array) | Trains the model |\n",
    "|predict(titles: pd.Series) | predicts where each title should go |"
   ],
   "metadata": {
    "collapsed": false
   }
  },
  {
   "cell_type": "code",
   "execution_count": 10,
   "outputs": [],
   "source": [
    "class Classifier:\n",
    "    \"\"\"This is the class the holds the classifiers\"\"\"\n",
    "\n",
    "    def __init__(self, classifierName):\n",
    "        self.classifierName = classifierName\n",
    "\n",
    "    def train(self, X_train, Y_train):\n",
    "        \"\"\"Input the X and Y training data. Then update the model\"\"\"\n",
    "\n",
    "        self.model = self._train(X_train, Y_train)\n",
    "\n",
    "    def _train(self, X_train, Y_train):\n",
    "        \"\"\"Where the real function is stored\"\"\"\n",
    "        pass\n",
    "\n",
    "    def predict(self, title_vectors):\n",
    "        \"\"\"\n",
    "        :param title_vectors: A pandas dataframe of the vectorized titles\n",
    "        :return: A pandas series with the predictions\n",
    "        \"\"\"\n",
    "\n",
    "        return self._predict(title_vectors, self.model)\n",
    "\n",
    "    def _predict(self, titles, model):\n",
    "        \"\"\"where the actual function is stored\"\"\"\n",
    "        pass\n"
   ],
   "metadata": {
    "collapsed": false
   }
  },
  {
   "cell_type": "markdown",
   "source": [
    "# Examples and Testing"
   ],
   "metadata": {
    "collapsed": false
   }
  },
  {
   "cell_type": "markdown",
   "source": [
    "### Example Vectorizer: Count"
   ],
   "metadata": {
    "collapsed": false
   }
  },
  {
   "cell_type": "code",
   "execution_count": 9,
   "outputs": [],
   "source": [
    "import string\n",
    "\n",
    "def count_letters(series):\n",
    "    # Initialize an empty list to store the letter count dictionaries for each title\n",
    "    letter_counts_list = []\n",
    "\n",
    "    # Iterate over the values in the series\n",
    "    for title in series:\n",
    "        # Initialize a dictionary with 26 keys, one for each letter of the alphabet\n",
    "        letter_counts = {letter: 0 for letter in string.ascii_lowercase}\n",
    "\n",
    "        # Convert the title to lowercase and iterate over the characters in the title\n",
    "        for char in title.lower():\n",
    "            # If the character is a letter, increment the count for that letter in the dictionary\n",
    "            if char in string.ascii_lowercase:\n",
    "                letter_counts[char] += 1\n",
    "\n",
    "        # Add the letter counts for the current title to the list\n",
    "        letter_counts_list.append(letter_counts)\n",
    "\n",
    "    # Convert the list of dictionaries to a pandas dataframe\n",
    "    letter_counts_df = pd.DataFrame(letter_counts_list, index=series.index)\n",
    "\n",
    "    return letter_counts_df\n",
    "\n",
    "\n",
    "count_embedding = Vectorizer('count')\n",
    "\n",
    "def _count_train(X_train):\n",
    "    print('No training needed')\n",
    "    return 'No training needed'\n",
    "\n",
    "def _count_embed(titles, model):\n",
    "    return count_letters(titles)\n",
    "\n",
    "count_embedding._embed = _count_embed\n",
    "count_embedding._train = _count_train\n"
   ],
   "metadata": {
    "collapsed": false
   }
  },
  {
   "cell_type": "markdown",
   "source": [
    "### Example Classifier: SVM"
   ],
   "metadata": {
    "collapsed": false
   }
  },
  {
   "cell_type": "code",
   "execution_count": 61,
   "outputs": [],
   "source": [
    "SVM_model = Classifier('SVM')\n",
    "\n",
    "\n",
    "def _SVM_train(X_train, Y_train):\n",
    "    model = SVC()\n",
    "    model.fit(X_train, Y_train)\n",
    "    return model\n",
    "\n",
    "\n",
    "def _SVM_predict(title_vectors, model):\n",
    "    \"\"\"enter a list or series or data frame of titles. Outputs prediction in a dataframe\"\"\"\n",
    "\n",
    "    df = model.predict(title_vectors)\n",
    "    print(df)\n",
    "    return df\n",
    "\n",
    "\n",
    "SVM_model._train = _SVM_train\n",
    "SVM_model._predict = _SVM_predict"
   ],
   "metadata": {
    "collapsed": false
   }
  },
  {
   "cell_type": "markdown",
   "source": [
    "## Putting it together"
   ],
   "metadata": {
    "collapsed": false
   }
  },
  {
   "cell_type": "code",
   "execution_count": 0,
   "outputs": [],
   "source": [
    "# Create Subreddit_Predictor Object\n",
    "obj = Subreddit_Predictor()\n",
    "\n",
    "# Add Data to obj\n",
    "obj.add_data(df)\n",
    "obj.ready_data()\n",
    "\n",
    "# Add Vectorizer to obj\n",
    "obj.add_vectorizer(count_embedding)\n",
    "obj.add_feature_vectors('count')\n",
    "\n",
    "# Add Classifier to obj\n",
    "obj.add_classifier(SVM_model)\n",
    "\n",
    "# Train the model\n",
    "obj.train_model('test_model', 'count', 'SVM')\n",
    "obj.test_model('test_model')"
   ],
   "metadata": {
    "collapsed": false
   }
  },
  {
   "cell_type": "markdown",
   "source": [
    "## View the Results"
   ],
   "metadata": {
    "collapsed": false
   }
  },
  {
   "cell_type": "code",
   "execution_count": 67,
   "outputs": [
    {
     "data": {
      "text/plain": "                                                     title           actual  \\\nid                                                                            \n10cdnrq  france summons iranian charge daffaires over e...        worldnews   \n10cuzs2  aita for yelling at my sister after using my l...    AmItheAsshole   \nzgxpz2        white house releases new climate data portal  dataisbeautiful   \n10e7nnu  aita for lashing out on my mom after she said ...    AmItheAsshole   \n10cwxsl                            the most majestic stray             pics   \n...                                                    ...              ...   \n10d9wrs                                       banana brand            funny   \n10f9ojr  why would it be a bad idea to artificially war...        AskReddit   \n1001hpr  dogs have the ability to make different facial...             Awww   \n10azcav                    best alternative to pandas 2023      datascience   \n10ejlyk  interesting plate i found at goodwill a few ye...             pics   \n\n            test_model  \nid                      \n10cdnrq      worldnews  \n10cuzs2  AmItheAsshole  \nzgxpz2       AskReddit  \n10e7nnu  AmItheAsshole  \n10cwxsl           Awww  \n...                ...  \n10d9wrs           pics  \n10f9ojr      AskReddit  \n1001hpr        science  \n10azcav    datascience  \n10ejlyk  AmItheAsshole  \n\n[1910 rows x 3 columns]",
      "text/html": "<div>\n<style scoped>\n    .dataframe tbody tr th:only-of-type {\n        vertical-align: middle;\n    }\n\n    .dataframe tbody tr th {\n        vertical-align: top;\n    }\n\n    .dataframe thead th {\n        text-align: right;\n    }\n</style>\n<table border=\"1\" class=\"dataframe\">\n  <thead>\n    <tr style=\"text-align: right;\">\n      <th></th>\n      <th>title</th>\n      <th>actual</th>\n      <th>test_model</th>\n    </tr>\n    <tr>\n      <th>id</th>\n      <th></th>\n      <th></th>\n      <th></th>\n    </tr>\n  </thead>\n  <tbody>\n    <tr>\n      <th>10cdnrq</th>\n      <td>france summons iranian charge daffaires over e...</td>\n      <td>worldnews</td>\n      <td>worldnews</td>\n    </tr>\n    <tr>\n      <th>10cuzs2</th>\n      <td>aita for yelling at my sister after using my l...</td>\n      <td>AmItheAsshole</td>\n      <td>AmItheAsshole</td>\n    </tr>\n    <tr>\n      <th>zgxpz2</th>\n      <td>white house releases new climate data portal</td>\n      <td>dataisbeautiful</td>\n      <td>AskReddit</td>\n    </tr>\n    <tr>\n      <th>10e7nnu</th>\n      <td>aita for lashing out on my mom after she said ...</td>\n      <td>AmItheAsshole</td>\n      <td>AmItheAsshole</td>\n    </tr>\n    <tr>\n      <th>10cwxsl</th>\n      <td>the most majestic stray</td>\n      <td>pics</td>\n      <td>Awww</td>\n    </tr>\n    <tr>\n      <th>...</th>\n      <td>...</td>\n      <td>...</td>\n      <td>...</td>\n    </tr>\n    <tr>\n      <th>10d9wrs</th>\n      <td>banana brand</td>\n      <td>funny</td>\n      <td>pics</td>\n    </tr>\n    <tr>\n      <th>10f9ojr</th>\n      <td>why would it be a bad idea to artificially war...</td>\n      <td>AskReddit</td>\n      <td>AskReddit</td>\n    </tr>\n    <tr>\n      <th>1001hpr</th>\n      <td>dogs have the ability to make different facial...</td>\n      <td>Awww</td>\n      <td>science</td>\n    </tr>\n    <tr>\n      <th>10azcav</th>\n      <td>best alternative to pandas 2023</td>\n      <td>datascience</td>\n      <td>datascience</td>\n    </tr>\n    <tr>\n      <th>10ejlyk</th>\n      <td>interesting plate i found at goodwill a few ye...</td>\n      <td>pics</td>\n      <td>AmItheAsshole</td>\n    </tr>\n  </tbody>\n</table>\n<p>1910 rows × 3 columns</p>\n</div>"
     },
     "execution_count": 67,
     "metadata": {},
     "output_type": "execute_result"
    }
   ],
   "source": [
    "# View the Predictions\n",
    "#obj.Predictions"
   ],
   "metadata": {
    "collapsed": false
   }
  },
  {
   "cell_type": "code",
   "execution_count": 68,
   "outputs": [
    {
     "data": {
      "text/plain": "<Figure size 640x480 with 1 Axes>",
      "image/png": "[encoded data removed]"
     },
     "metadata": {},
     "output_type": "display_data"
    }
   ],
   "source": [
    "# How correct is it?\n",
    "#obj.compare(['test_model'])"
   ],
   "metadata": {
    "collapsed": false
   }
  },
  {
   "cell_type": "code",
   "execution_count": 69,
   "outputs": [
    {
     "name": "stdout",
     "output_type": "stream",
     "text": [
      "[2 2 2 2 2 2 2]\n"
     ]
    },
    {
     "data": {
      "text/plain": "                                               title prediction\n0  Redditors of Reddit. What is your favorite pie...       Awww\n1  WIBTA if I stole my younger brothers lunch money?       Awww\n2                  check out this cool video I found       Awww\n3                                               asdf       Awww\n4                                 cats are dangerous       Awww\n5                 new study shows cats are dangerous       Awww\n6                                   reddit cool aita       Awww",
      "text/html": "<div>\n<style scoped>\n    .dataframe tbody tr th:only-of-type {\n        vertical-align: middle;\n    }\n\n    .dataframe tbody tr th {\n        vertical-align: top;\n    }\n\n    .dataframe thead th {\n        text-align: right;\n    }\n</style>\n<table border=\"1\" class=\"dataframe\">\n  <thead>\n    <tr style=\"text-align: right;\">\n      <th></th>\n      <th>title</th>\n      <th>prediction</th>\n    </tr>\n  </thead>\n  <tbody>\n    <tr>\n      <th>0</th>\n      <td>Redditors of Reddit. What is your favorite pie...</td>\n      <td>Awww</td>\n    </tr>\n    <tr>\n      <th>1</th>\n      <td>WIBTA if I stole my younger brothers lunch money?</td>\n      <td>Awww</td>\n    </tr>\n    <tr>\n      <th>2</th>\n      <td>check out this cool video I found</td>\n      <td>Awww</td>\n    </tr>\n    <tr>\n      <th>3</th>\n      <td>asdf</td>\n      <td>Awww</td>\n    </tr>\n    <tr>\n      <th>4</th>\n      <td>cats are dangerous</td>\n      <td>Awww</td>\n    </tr>\n    <tr>\n      <th>5</th>\n      <td>new study shows cats are dangerous</td>\n      <td>Awww</td>\n    </tr>\n    <tr>\n      <th>6</th>\n      <td>reddit cool aita</td>\n      <td>Awww</td>\n    </tr>\n  </tbody>\n</table>\n</div>"
     },
     "execution_count": 69,
     "metadata": {},
     "output_type": "execute_result"
    }
   ],
   "source": [
    "# How does it work on new titles?\n",
    "\n",
    "test_titles = ['Redditors of Reddit. What is your favorite piece of Reddit history?', 'WIBTA if I stole my younger brothers lunch money?', 'check out this cool video I found', 'asdf', 'cats are dangerous', 'new study shows cats are dangerous', 'reddit cool aita']\n",
    "test_titles = pd.DataFrame({'title':test_titles})\n",
    "#obj.predict('test_model', test_titles)"
   ],
   "metadata": {
    "collapsed": false
   }
  }
 ],
 "metadata": {
  "kernelspec": {
   "display_name": "Python 3",
   "language": "python",
   "name": "python3"
  },
  "language_info": {
   "codemirror_mode": {
    "name": "ipython",
    "version": 2
   },
   "file_extension": ".py",
   "mimetype": "text/x-python",
   "name": "python",
   "nbconvert_exporter": "python",
   "pygments_lexer": "ipython2",
   "version": "2.7.6"
  }
 },
 "nbformat": 4,
 "nbformat_minor": 0
}
