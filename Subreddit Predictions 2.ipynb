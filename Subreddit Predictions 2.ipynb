{
 "cells": [
  {
   "cell_type": "markdown",
   "source": [
    "# Subreddit Predictor\n",
    "\n",
    "We will try to train a ML model which can predict which subreddit a specific post belongs to.\n",
    "For simplicity we will select a small number of subreddits that our model will have to choose between.\n",
    "top_subreddits = ['announcements', 'funny', 'AskReddit', 'dataisbeautiful', 'Awww', 'datascience', 'pics', 'science', 'worldnews', 'videos', 'AmItheAsshole']"
   ],
   "metadata": {
    "collapsed": false
   }
  },
  {
   "cell_type": "code",
   "execution_count": null,
   "outputs": [],
   "source": [
    "import pandas as pd\n",
    "import praw\n",
    "import secrets\n",
    "from sklearn.preprocessing import LabelEncoder\n",
    "import numpy as np\n",
    "from sklearn.model_selection import train_test_split\n",
    "from sklearn.feature_extraction.text import CountVectorizer\n",
    "from gensim.models.doc2vec import Doc2Vec, TaggedDocument\n",
    "from sklearn.svm import SVC\n",
    "import matplotlib.pyplot as plt\n"
   ],
   "metadata": {
    "collapsed": false
   }
  },
  {
   "cell_type": "markdown",
   "source": [
    "## Gather the Data\n",
    "PushShift is down, which means we will stick with praw and are limited on the amount of data we can gather.\n",
    "We will hand select a"
   ],
   "metadata": {
    "collapsed": false
   }
  },
  {
   "cell_type": "code",
   "execution_count": null,
   "outputs": [],
   "source": [
    "user_agent = \"Subreddit-Predictor 0.2 by /u/IsThisATrollBot\"\n",
    "\n",
    "reddit = praw.Reddit(\n",
    "    client_id=secrets.client_ID,\n",
    "    client_secret=secrets.client_secret,\n",
    "    password=secrets.password,\n",
    "    user_agent=user_agent,\n",
    "    username=secrets.username,\n",
    ")"
   ],
   "metadata": {
    "collapsed": false
   }
  },
  {
   "cell_type": "code",
   "execution_count": null,
   "outputs": [],
   "source": [
    "# Start with a list of subreddits\n",
    "top_subreddits = ['announcements', 'funny', 'AskReddit', 'dataisbeautiful', 'Awww', 'datascience', 'pics', 'science', 'worldnews', 'videos', 'AmItheAsshole']"
   ],
   "metadata": {
    "collapsed": false
   }
  },
  {
   "cell_type": "code",
   "execution_count": null,
   "outputs": [],
   "source": [
    "# Create an empty list to store the posts\n",
    "posts = []\n",
    "\n",
    "# Iterate through the subreddits and get the last 1000 posts from each\n",
    "for sub in top_subreddits:\n",
    "    subreddit_posts = reddit.subreddit(sub).new(limit=1000)\n",
    "    for post in subreddit_posts:\n",
    "        posts.append(post)"
   ],
   "metadata": {
    "collapsed": false
   }
  },
  {
   "cell_type": "code",
   "execution_count": null,
   "outputs": [
    {
     "data": {
      "text/plain": "          id                                              title      subreddit\n0     t93ec3  This subreddit is closed for new posts and com...  announcements\n1     pg006s          COVID denialism and policy clarifications  announcements\n2     pbmy5y             Debate, dissent, and protest on Reddit  announcements\n3     nw2hs6           Sunsetting Secret Santa and Reddit Gifts  announcements\n4     mi01fg                                             Second  announcements\n...      ...                                                ...            ...\n9539  zuadbh  WIBTA for asking my dad not to bring his gf to...  AmItheAsshole\n9540  zu9skp  AITA for not going to my mom’s house for Chris...  AmItheAsshole\n9541  zu9ru7  AITA for wanting my husband to man up and conf...  AmItheAsshole\n9542  zu9pgh  AITA for telling my friend to mind her own bus...  AmItheAsshole\n9543  zu99mf     AITA for not returning my sisters Xmas present  AmItheAsshole\n\n[9544 rows x 3 columns]",
      "text/html": "<div>\n<style scoped>\n    .dataframe tbody tr th:only-of-type {\n        vertical-align: middle;\n    }\n\n    .dataframe tbody tr th {\n        vertical-align: top;\n    }\n\n    .dataframe thead th {\n        text-align: right;\n    }\n</style>\n<table border=\"1\" class=\"dataframe\">\n  <thead>\n    <tr style=\"text-align: right;\">\n      <th></th>\n      <th>id</th>\n      <th>title</th>\n      <th>subreddit</th>\n    </tr>\n  </thead>\n  <tbody>\n    <tr>\n      <th>0</th>\n      <td>t93ec3</td>\n      <td>This subreddit is closed for new posts and com...</td>\n      <td>announcements</td>\n    </tr>\n    <tr>\n      <th>1</th>\n      <td>pg006s</td>\n      <td>COVID denialism and policy clarifications</td>\n      <td>announcements</td>\n    </tr>\n    <tr>\n      <th>2</th>\n      <td>pbmy5y</td>\n      <td>Debate, dissent, and protest on Reddit</td>\n      <td>announcements</td>\n    </tr>\n    <tr>\n      <th>3</th>\n      <td>nw2hs6</td>\n      <td>Sunsetting Secret Santa and Reddit Gifts</td>\n      <td>announcements</td>\n    </tr>\n    <tr>\n      <th>4</th>\n      <td>mi01fg</td>\n      <td>Second</td>\n      <td>announcements</td>\n    </tr>\n    <tr>\n      <th>...</th>\n      <td>...</td>\n      <td>...</td>\n      <td>...</td>\n    </tr>\n    <tr>\n      <th>9539</th>\n      <td>zuadbh</td>\n      <td>WIBTA for asking my dad not to bring his gf to...</td>\n      <td>AmItheAsshole</td>\n    </tr>\n    <tr>\n      <th>9540</th>\n      <td>zu9skp</td>\n      <td>AITA for not going to my mom’s house for Chris...</td>\n      <td>AmItheAsshole</td>\n    </tr>\n    <tr>\n      <th>9541</th>\n      <td>zu9ru7</td>\n      <td>AITA for wanting my husband to man up and conf...</td>\n      <td>AmItheAsshole</td>\n    </tr>\n    <tr>\n      <th>9542</th>\n      <td>zu9pgh</td>\n      <td>AITA for telling my friend to mind her own bus...</td>\n      <td>AmItheAsshole</td>\n    </tr>\n    <tr>\n      <th>9543</th>\n      <td>zu99mf</td>\n      <td>AITA for not returning my sisters Xmas present</td>\n      <td>AmItheAsshole</td>\n    </tr>\n  </tbody>\n</table>\n<p>9544 rows × 3 columns</p>\n</div>"
     },
     "execution_count": 5,
     "metadata": {},
     "output_type": "execute_result"
    }
   ],
   "source": [
    "# Create a list of dictionaries containing the data for each post\n",
    "data = [{'id': post.id, 'title': post.title, 'subreddit': post.subreddit.display_name} for post in posts]\n",
    "\n",
    "# Create a Pandas dataframe from the list of dictionaries\n",
    "df = pd.DataFrame(data)\n",
    "\n",
    "df"
   ],
   "metadata": {
    "collapsed": false
   }
  },
  {
   "cell_type": "markdown",
   "source": [
    "# Class: Subreddit_Predictor\n",
    "\n",
    "Objects of this class contain attributes and Methods that can be broken up into three categories: **Data**, **Collections**, and **Processing**\n",
    "\n",
    "## Data\n",
    "Pandas DataFrames and methods to update and clean the data.\n",
    "\n",
    "**Attributes:**\n",
    "\n",
    "| Name      |   Type    |             Description             |\n",
    "|:----------|:---------:|:-----------------------------------|\n",
    "| raw_data  | DataFrame |      The raw unprocessed data       |\n",
    "| full_data | DataFrame |         The processed data          |\n",
    "| subreddits |   list    | A list of subreddits. Extraced from full_data. |\n",
    "| X_train   | pd.Series | the X portion of the training data  |\n",
    "| Y_train   | np.array  | the Y portion of the training data  |\n",
    "| X_test    | pd.Series |   the X portion of the test data    |\n",
    "| Y_test    | np.array  |   the Y portion of the test data    |\n",
    "\n",
    "**Methods:**\n",
    "\n",
    "| Name (with input/output typing) | Description                                                                                                                               |\n",
    "|---------------------------------| ------------------------------------------------------------------------------------------------------------------------------------------|\n",
    "| add_data(df: DataFrame)         | Updates the raw_data attribute                                                                                                            |\n",
    "| ready_data()                    | Cleans the data and does a test train split. <br/> Overwrites the full_data attribute. <br/> Creates the X_train, Y_train, X_test, and Y_test attributes. |\n",
    "\n",
    "## Collections\n",
    "Contains dictionaries of vectorizers, classifiers, and models\n",
    "\n",
    "**Attributes:**\n",
    "\n",
    "| Name        | Type                  | Description                                                                                                                                |\n",
    "|:------------|:----------------------|:-------------------------------------------------------------------------------------------------------------------------------------------|\n",
    "| Vectorizers | dict | Dictionary of Vectorizer objects                                                                                                           |\n",
    "| Feature_Vectors | dict | Dictionary of the vectorized full_data |\n",
    "| Classifiers | dict | Dictionary of Classifier objects                                                                                                           |\n",
    "| Models      | dict | Dictionary of trained Classifier objects                                                                                                   |\n",
    "| Models_info | dict        | Dictionary containing a description of each model in Models.                                                                               |\n",
    "| Predictions | DataFrame   | A DataFrame with all the titles and actual subreddits in X_test and Y_test <br/> There is a column for each model that has the predictions |\n",
    "| Results | dict | Dictionary of DataFrames for each model. Each row and column is a subreddit. Shows the number of false classifications |\n",
    "\n",
    "**Methods:**\n",
    "\n",
    "| Name (with input/output typing)                                                                                  | Description                                                                                                                                                                                |\n",
    "|------------------------------------------------------------------------------------------------------------------|--------------------------------------------------------------------------------------------------------------------------------------------------------------------------------------------|\n",
    "| add_vectorizer(model: Vectorizer)                                                                                | Trains the vectorizer. <br/>Adds (key = model.name, value = model) to Vectorizers                                                                                                               |\n",
    "| add_feature_vectors(vectorizerName: str)| Embeds X_train as vectors and creates a dataframe for the new feature vectors. <br/> Adds this dataFrame to Feature_Vectors |\n",
    "| add_classifier(model: Classifier)                                                                                | Adds (key = model.name, value = model) to Classifiers                                                                                                                                      |\n",
    "| train_model(<br/>modelName: str, <br/>vectorizerName: str, <br/>classifierName: str, <br/>description = '' :str) | Takes vectorizer and classifer from Vectorizers and Classifiers. <br/>Trains the classifier.<br/>Names and adds the trained model to Models.<br/>Adds the description text to Models_info. |\n",
    "| test_model(modelName: str) | Runs the model against X_test and Y_test. <br/> Updates Predictions and Results                                                                                                            |\n",
    "\n",
    "## Processing\n",
    "\n",
    "**Methods:**\n",
    "\n",
    "| Name (with input/output typing)                       | Description                                                                                   |\n",
    "|-------------------------------------------------------|-----------------------------------------------------------------------------------------------|\n",
    "| predict(modelName:str, title: str, titles: iter[str]) | Given a model, enter a title or a list/dataframe of titles. Will return the model prediction. |\n",
    "| compare(models: list[str])                            | Creates a bar chart comparing each of the models on each of the subreddits. |                  |"
   ],
   "metadata": {
    "collapsed": false
   }
  },
  {
   "cell_type": "code",
   "execution_count": null,
   "outputs": [],
   "source": [
    "class Subreddit_Predictor:\n",
    "\n",
    "    def __init__(self):\n",
    "\n",
    "        #Data\n",
    "        self.raw_data = pd.DataFrame({'id': [], 'title': [], 'subreddit': []})\n",
    "        self.full_data = pd.DataFrame({'id': [], 'title': [], 'subreddit': []}).set_index('id')\n",
    "        self.subreddits = []\n",
    "\n",
    "        #Collections\n",
    "        self.Vectorizers = {}\n",
    "        self.Feature_Vectors = {}\n",
    "        self.Classifiers = {}\n",
    "        self.Models = {}\n",
    "        self.Models_info = {}\n",
    "        #self.Predictions = {}\n",
    "        self.Results = {}\n",
    "\n",
    "    #### Data ####\n",
    "\n",
    "    def add_data(self, df):\n",
    "        \"\"\"df is a pandas DataFrame with columns={'title':[], 'subreddit':[]}. It will be merged with the existing raw_data\"\"\"\n",
    "        self.raw_data = pd.concat([self.raw_data, df]).drop_duplicates(subset='id')\n",
    "\n",
    "    def ready_data(self, test_size=.2, seed=42):\n",
    "        \"\"\"Splits and encodes the data. Saves is in X_train, Y_train, X_test, Y_test.\"\"\"\n",
    "\n",
    "        # Clean the data\n",
    "        self._clean_data()\n",
    "\n",
    "        # Update the subreddits attribute\n",
    "        self.subreddits = self.full_data['subreddit'].unique().tolist()\n",
    "\n",
    "        # Encode the subreddits\n",
    "        self._le = LabelEncoder()\n",
    "        self.full_data['subreddit_num'] = self._le.fit_transform(self.full_data['subreddit'])\n",
    "\n",
    "        # Split the data\n",
    "        self.X_train, self.X_test, self.Y_train, self.Y_test = train_test_split(self.full_data['title'],\n",
    "                                                                                self._le.fit_transform(\n",
    "                                                                                    self.full_data['subreddit']),\n",
    "                                                                                test_size=test_size, random_state=seed)\n",
    "        # Record the indices\n",
    "        self._train_index = self.X_train.index\n",
    "        self._test_index = self.X_test.index\n",
    "\n",
    "        # Update Predictions\n",
    "        df = self.full_data\n",
    "        df = df.drop(columns=['subreddit_num'])\n",
    "        df = df.loc[obj._test_index]\n",
    "        df = df.rename(columns={'subreddit':'actual'})\n",
    "        self.Predictions = df\n",
    "\n",
    "    def _clean_data(self):\n",
    "        \"\"\"Cleans the data in raw_data and updates self.data\"\"\"\n",
    "\n",
    "        df = self.raw_data\n",
    "\n",
    "        # Remove all non-alpha-numeric characters\n",
    "        df['title'] = df['title'].str.replace(r'[^a-zA-Z0-9 ]', '', regex=True)\n",
    "\n",
    "        # Make all the text lowercase\n",
    "        df['title'] = df['title'].str.lower()\n",
    "\n",
    "        # Remove empty rows\n",
    "        df['title'] = df['title'].str.strip()\n",
    "        filter = df['title'] == ''\n",
    "        df = df.drop(df[filter].index)\n",
    "\n",
    "        # Store it as\n",
    "        self.full_data = df\n",
    "\n",
    "        # Change the index\n",
    "        self.full_data = self.full_data.set_index('id')\n",
    "\n",
    "\n",
    "    #### Collections ####\n",
    "\n",
    "    def add_vectorizer(self, vectorizer):\n",
    "        \"\"\"This is how we add a vectorizers to our collection\"\"\"\n",
    "        vectorizer.train(self.X_train)\n",
    "        self.Vectorizers[vectorizer.vectorizerName] = vectorizer\n",
    "\n",
    "    def add_feature_vectors(self, vectorizerName):\n",
    "        \"\"\"Updates Feature_Vectors\"\"\"\n",
    "        vectorizer = self.Vectorizers[vectorizerName]\n",
    "        self.Feature_Vectors[vectorizerName] = vectorizer.embed(self.full_data['title'])\n",
    "\n",
    "    def add_classifier(self, classifier):\n",
    "        \"\"\"We add the classifier to our collection, self.Classifiers\"\"\"\n",
    "        self.Classifiers[classifier.classifierName] = classifier\n",
    "\n",
    "    def train_model(self, modelName, vectorizerName, classifierName, description = ''):\n",
    "        \"\"\"\n",
    "        :param modelName: The name of this model\n",
    "        :param vectorizerName: Which feature vectors are we using?\n",
    "        :param classifierName: Which classifier are we using?\n",
    "        :param description: Write a short discription of the model (optional).\n",
    "        :return: Adds a trained object of the classifier class to self.Models\n",
    "        \"\"\"\n",
    "\n",
    "        self.Models_info[modelName] = {'vectorizerName':vectorizerName, 'classifierName':classifierName, 'description':description}\n",
    "\n",
    "        X_train = self.Feature_Vectors[vectorizerName].loc[self._train_index]\n",
    "        Y_train = self.Y_train\n",
    "        classifier = self.Classifiers[classifierName]\n",
    "        classifier.train(X_train, Y_train)\n",
    "\n",
    "        self.Models[modelName] = classifier\n",
    "\n",
    "    def test_model(self, modelName):\n",
    "        \"\"\"Tests the model using X_test and Y_test. Updates Predictions and Results\"\"\"\n",
    "\n",
    "        model = self.Models[modelName]\n",
    "\n",
    "        vectorizerName = self.Models_info[modelName]['vectorizerName']\n",
    "        X_test = self.Feature_Vectors[vectorizerName].loc[self._test_index]\n",
    "\n",
    "        yhat = model.predict(X_test)\n",
    "        yhat = self._le.inverse_transform(yhat)\n",
    "        self.Predictions[modelName] = yhat\n",
    "\n",
    "\n",
    "        df = self.Predictions\n",
    "        results_matrix = pd.DataFrame(columns = self.subreddits)\n",
    "        for actual_sub in self.subreddits:\n",
    "            row = []\n",
    "            filter = df['actual'] == actual_sub\n",
    "            temp_df = df[filter]\n",
    "            total = len(temp_df)\n",
    "            for predicted_sub in self.subreddits:\n",
    "                filter = temp_df[modelName] == predicted_sub\n",
    "                count = len(temp_df[filter])\n",
    "                row.append(count/total)\n",
    "\n",
    "                #print('actual_sub', actual_sub, 'predicted_sub', predicted_sub)\n",
    "\n",
    "            results_matrix.loc[actual_sub] = row\n",
    "\n",
    "        self.Results[modelName] = results_matrix\n",
    "\n",
    "\n",
    "    #### Processing ####\n",
    "\n",
    "    def compare(self, list_of_models):\n",
    "        \"\"\"Creates a bar chart comparing the predictions from a list of models\"\"\"\n",
    "\n",
    "        num_models = len(list_of_models)\n",
    "\n",
    "        # Set the width of the bars\n",
    "        bar_width = 1 / (num_models + 1)\n",
    "\n",
    "        Results = self.Results\n",
    "\n",
    "        keys = list(list(Results.items())[0][1].keys())\n",
    "        x_pos = [i for i, _ in enumerate(keys)]\n",
    "\n",
    "        for key, val in Results.items():\n",
    "            correct = []\n",
    "            for sub in self.subreddits: correct.append(val.loc[sub][sub])\n",
    "            plt.bar(x_pos, correct, bar_width, label=key)\n",
    "            x_pos = [i + bar_width for i in x_pos]\n",
    "\n",
    "        x_pos = [i - bar_width for i in x_pos]\n",
    "\n",
    "        # Set the x-axis tick labels\n",
    "        plt.xticks(x_pos, keys, rotation=45, ha='right')\n",
    "\n",
    "        # Add a title and axis labels\n",
    "        plt.title('Which Subreddits were easiest to predict?')\n",
    "        plt.xlabel('Subreddit')\n",
    "        plt.ylabel('% Correct')\n",
    "\n",
    "        # Add a legend\n",
    "        plt.legend()\n",
    "\n",
    "        # Show the plot\n",
    "        plt.show()\n",
    "\n"
   ],
   "metadata": {
    "collapsed": false
   }
  },
  {
   "cell_type": "code",
   "execution_count": null,
   "outputs": [
    {
     "ename": "NameError",
     "evalue": "name 'x' is not defined",
     "output_type": "error",
     "traceback": [
      "\u001B[1;31m---------------------------------------------------------------------------\u001B[0m",
      "\u001B[1;31mNameError\u001B[0m                                 Traceback (most recent call last)",
      "\u001B[1;32m~\\AppData\\Local\\Temp\\ipykernel_12680\\3793994761.py\u001B[0m in \u001B[0;36m<module>\u001B[1;34m\u001B[0m\n\u001B[1;32m----> 1\u001B[1;33m \u001B[0mx\u001B[0m\u001B[1;33m.\u001B[0m\u001B[0mloc\u001B[0m\u001B[1;33m[\u001B[0m\u001B[1;34m'hi'\u001B[0m\u001B[1;33m]\u001B[0m\u001B[1;33m[\u001B[0m\u001B[1;34m'title'\u001B[0m\u001B[1;33m]\u001B[0m\u001B[1;33m\u001B[0m\u001B[1;33m\u001B[0m\u001B[0m\n\u001B[0m",
      "\u001B[1;31mNameError\u001B[0m: name 'x' is not defined"
     ]
    }
   ],
   "source": [
    "x.loc['hi']['title']"
   ],
   "metadata": {
    "collapsed": false
   }
  },
  {
   "cell_type": "code",
   "execution_count": 16,
   "outputs": [
    {
     "name": "stdout",
     "output_type": "stream",
     "text": [
      "No training needed\n",
      "[1 4 2 ... 1 2 7]\n"
     ]
    },
    {
     "data": {
      "text/plain": "<Figure size 640x480 with 1 Axes>",
      "image/png": "[encoded data removed]"
     },
     "metadata": {},
     "output_type": "display_data"
    }
   ],
   "source": [
    "obj = Subreddit_Predictor()\n",
    "obj.add_data(df)\n",
    "obj.ready_data()\n",
    "#obj.Predictions\n",
    "\n",
    "count_embedding = Vectorizer('count')\n",
    "count_embedding._embed = _count_embed\n",
    "count_embedding._train = _count_train\n",
    "obj.add_vectorizer(count_embedding)\n",
    "obj.add_feature_vectors('count')\n",
    "\n",
    "SVM_model = Classifier('SVM')\n",
    "SVM_model._train = _SVM_train\n",
    "SVM_model._predict = _SVM_predict\n",
    "obj.add_classifier(SVM_model)\n",
    "\n",
    "obj.train_model('test_model', 'count', 'SVM')\n",
    "obj.test_model('test_model')\n",
    "\n",
    "#obj.Predictions\n",
    "#obj.Results['test_model']\n",
    "obj.compare(['test_model'])"
   ],
   "metadata": {
    "collapsed": false
   }
  },
  {
   "cell_type": "markdown",
   "source": [
    "# Class: Vectorizer\n",
    "\n",
    "Objects of this class are vectorizers, like Bag-of-Words or Doc2Vec. They have very few attributes and methods.\n",
    "All of the attributes and methods will be overwritten by each object of this class.\n",
    "\n",
    "**Attributes:**\n",
    "\n",
    "| Name           | Type | Description                                                                                         |\n",
    "|----------------|------|-----------------------------------------------------------------------------------------------------|\n",
    "| vectorizerName | str | The name of this vectorizer. <br/> This will be the key for any dictionaries containing it.         |\n",
    "| description    | str | A breif discription of what this vectorizer is/does. <br/>Put the parameters here if there are any. |\n",
    "| model | Other | The actual model. Typically an object of a class like Gensim or SCM\n",
    "\n",
    "**Methods:**\n",
    "\n",
    "| Name                                  | Description                                                                                          |\n",
    "|---------------------------------------|------------------------------------------------------------------------------------------------------|\n",
    "| train(X_train: DataFrame)             | Uses the training data to train the model.                                                           |\n",
    "| embed(titles: DataFrame) -> DataFrame | Takes a list/dataFrame of titles and returns a DataFrame of the embeddings for each of them. |\n",
    "\n"
   ],
   "metadata": {
    "collapsed": false
   }
  },
  {
   "cell_type": "code",
   "execution_count": 8,
   "outputs": [],
   "source": [
    "class Vectorizer:\n",
    "    \"\"\"This class is to hold all of the Title Vectorizers, like Bag-of-Words and Doc2Vec. Each vectorizer is a specific object. The class methods all have the same input/output.\"\"\"\n",
    "\n",
    "    def __init__(self, vectorizerName):\n",
    "        self.vectorizerName = vectorizerName\n",
    "        self.description = \"Description goes here\"\n",
    "\n",
    "    def train(self, X_train):\n",
    "        \"\"\"Inputs the training data. Creates the self.model\"\"\"\n",
    "\n",
    "        self.model = self._train(X_train)\n",
    "\n",
    "    def _train(self, X_train):\n",
    "        \"\"\"Just a place holder for the actual function\"\"\"\n",
    "        pass\n",
    "\n",
    "    def embed(self, titles):\n",
    "        \"\"\"Given a data frame or series with only titles, will return a df of all of the features, indexed by id. The actual function will be added to each object.\"\"\"\n",
    "\n",
    "        return self._embed(titles, self.model)\n",
    "\n",
    "    def _embed(self, titles, model):\n",
    "        \"\"\"Just a place holder for the actual function.\"\"\"\n",
    "        pass\n",
    "\n"
   ],
   "metadata": {
    "collapsed": false
   }
  },
  {
   "cell_type": "markdown",
   "source": [
    "## Example"
   ],
   "metadata": {
    "collapsed": false
   }
  },
  {
   "cell_type": "code",
   "execution_count": 9,
   "outputs": [],
   "source": [
    "import string\n",
    "\n",
    "def count_letters(series):\n",
    "    # Initialize an empty list to store the letter count dictionaries for each title\n",
    "    letter_counts_list = []\n",
    "\n",
    "    # Iterate over the values in the series\n",
    "    for title in series:\n",
    "        # Initialize a dictionary with 26 keys, one for each letter of the alphabet\n",
    "        letter_counts = {letter: 0 for letter in string.ascii_lowercase}\n",
    "\n",
    "        # Convert the title to lowercase and iterate over the characters in the title\n",
    "        for char in title.lower():\n",
    "            # If the character is a letter, increment the count for that letter in the dictionary\n",
    "            if char in string.ascii_lowercase:\n",
    "                letter_counts[char] += 1\n",
    "\n",
    "        # Add the letter counts for the current title to the list\n",
    "        letter_counts_list.append(letter_counts)\n",
    "\n",
    "    # Convert the list of dictionaries to a pandas dataframe\n",
    "    letter_counts_df = pd.DataFrame(letter_counts_list, index=series.index)\n",
    "\n",
    "    return letter_counts_df\n",
    "\n",
    "\n",
    "count_embedding = Vectorizer('count')\n",
    "\n",
    "def _count_train(X_train):\n",
    "    print('No training needed')\n",
    "    return 'No training needed'\n",
    "\n",
    "def _count_embed(titles, model):\n",
    "    return count_letters(titles)\n",
    "\n",
    "count_embedding._embed = _count_embed\n",
    "count_embedding._train = _count_train\n"
   ],
   "metadata": {
    "collapsed": false
   }
  },
  {
   "cell_type": "markdown",
   "source": [
    "# Class: Classifier\n",
    "\n",
    "This class holds the classifiers, like XGBoost and Support Vector Machines.\n",
    "It also has very few attributes and methods.\n",
    "\n",
    "**Attributes:**\n",
    "\n",
    "|Name | Type | Description |\n",
    "|-----|-------|--------|\n",
    "| classifierName | str | The name of this classifier |\n",
    "| description | str | A brief description of this classifier |\n",
    "| model | Other | Where the actual model is stored. Typically a member of a totally different class. |\n",
    "\n",
    "**Methods:**\n",
    "\n",
    "|Name | Description|\n",
    "|-----| --------|\n",
    "|train(X_train: pd.Series, Y_train: np.array) | Trains the model |\n",
    "|predict(titles: pd.Series) | predicts where each title should go |"
   ],
   "metadata": {
    "collapsed": false
   }
  },
  {
   "cell_type": "code",
   "execution_count": 10,
   "outputs": [],
   "source": [
    "class Classifier:\n",
    "    \"\"\"This is the class the holds the classifiers\"\"\"\n",
    "\n",
    "    def __init__(self, classifierName):\n",
    "        self.classifierName = classifierName\n",
    "\n",
    "    def train(self, X_train, Y_train):\n",
    "        \"\"\"Input the X and Y training data. Then update the model\"\"\"\n",
    "\n",
    "        self.model = self._train(X_train, Y_train)\n",
    "\n",
    "    def _train(self, X_train, Y_train):\n",
    "        \"\"\"Where the real function is stored\"\"\"\n",
    "        pass\n",
    "\n",
    "    def predict(self, title_vectors):\n",
    "        \"\"\"\n",
    "        :param title_vectors: A pandas dataframe of the vectorized titles\n",
    "        :return: A pandas series with the predictions\n",
    "        \"\"\"\n",
    "\n",
    "        return self._predict(title_vectors, self.model)\n",
    "\n",
    "    def _predict(self, titles, model):\n",
    "        \"\"\"where the actual function is stored\"\"\"\n",
    "        pass\n"
   ],
   "metadata": {
    "collapsed": false
   }
  },
  {
   "cell_type": "markdown",
   "source": [
    "# Examples and Testing"
   ],
   "metadata": {
    "collapsed": false
   }
  },
  {
   "cell_type": "code",
   "execution_count": 11,
   "outputs": [
    {
     "data": {
      "text/plain": "                                                    title        subreddit  \\\nid                                                                           \nzw3m9m                what are your i told you so stories        AskReddit   \nzl3bjk  oc lost objects on the french national rail ne...  dataisbeautiful   \nzw3ory                       what is a true brexit geezer        AskReddit   \nxrpoif                                               kamt             Awww   \nz8kj4t                         help me understand the art      datascience   \n...                                                   ...              ...   \nzpuefr  north korea fires ballistic missiles after new...        worldnews   \nzuu0a3                      winter storm passed in the us             pics   \nzqmgyu  what are affordable tools for selfemployed dat...      datascience   \nzvyyit                           snow flakes on my window             pics   \n4megfw                       ama about my darkest secrets    announcements   \n\n        subreddit_num  \nid                     \nzw3m9m              1  \nzl3bjk              4  \nzw3ory              1  \nxrpoif              2  \nz8kj4t              5  \n...               ...  \nzpuefr             10  \nzuu0a3              7  \nzqmgyu              5  \nzvyyit              7  \n4megfw              3  \n\n[1908 rows x 3 columns]",
      "text/html": "<div>\n<style scoped>\n    .dataframe tbody tr th:only-of-type {\n        vertical-align: middle;\n    }\n\n    .dataframe tbody tr th {\n        vertical-align: top;\n    }\n\n    .dataframe thead th {\n        text-align: right;\n    }\n</style>\n<table border=\"1\" class=\"dataframe\">\n  <thead>\n    <tr style=\"text-align: right;\">\n      <th></th>\n      <th>title</th>\n      <th>subreddit</th>\n      <th>subreddit_num</th>\n    </tr>\n    <tr>\n      <th>id</th>\n      <th></th>\n      <th></th>\n      <th></th>\n    </tr>\n  </thead>\n  <tbody>\n    <tr>\n      <th>zw3m9m</th>\n      <td>what are your i told you so stories</td>\n      <td>AskReddit</td>\n      <td>1</td>\n    </tr>\n    <tr>\n      <th>zl3bjk</th>\n      <td>oc lost objects on the french national rail ne...</td>\n      <td>dataisbeautiful</td>\n      <td>4</td>\n    </tr>\n    <tr>\n      <th>zw3ory</th>\n      <td>what is a true brexit geezer</td>\n      <td>AskReddit</td>\n      <td>1</td>\n    </tr>\n    <tr>\n      <th>xrpoif</th>\n      <td>kamt</td>\n      <td>Awww</td>\n      <td>2</td>\n    </tr>\n    <tr>\n      <th>z8kj4t</th>\n      <td>help me understand the art</td>\n      <td>datascience</td>\n      <td>5</td>\n    </tr>\n    <tr>\n      <th>...</th>\n      <td>...</td>\n      <td>...</td>\n      <td>...</td>\n    </tr>\n    <tr>\n      <th>zpuefr</th>\n      <td>north korea fires ballistic missiles after new...</td>\n      <td>worldnews</td>\n      <td>10</td>\n    </tr>\n    <tr>\n      <th>zuu0a3</th>\n      <td>winter storm passed in the us</td>\n      <td>pics</td>\n      <td>7</td>\n    </tr>\n    <tr>\n      <th>zqmgyu</th>\n      <td>what are affordable tools for selfemployed dat...</td>\n      <td>datascience</td>\n      <td>5</td>\n    </tr>\n    <tr>\n      <th>zvyyit</th>\n      <td>snow flakes on my window</td>\n      <td>pics</td>\n      <td>7</td>\n    </tr>\n    <tr>\n      <th>4megfw</th>\n      <td>ama about my darkest secrets</td>\n      <td>announcements</td>\n      <td>3</td>\n    </tr>\n  </tbody>\n</table>\n<p>1908 rows × 3 columns</p>\n</div>"
     },
     "execution_count": 11,
     "metadata": {},
     "output_type": "execute_result"
    }
   ],
   "source": [
    "#Testing\n",
    "\n",
    "obj = Subreddit_Predictor()\n",
    "obj.add_data(df)\n",
    "obj.ready_data()\n",
    "obj.full_data.loc[obj._test_index]"
   ],
   "metadata": {
    "collapsed": false
   }
  },
  {
   "cell_type": "code",
   "execution_count": 12,
   "outputs": [
    {
     "ename": "KeyError",
     "evalue": "'count'",
     "output_type": "error",
     "traceback": [
      "\u001B[1;31m---------------------------------------------------------------------------\u001B[0m",
      "\u001B[1;31mKeyError\u001B[0m                                  Traceback (most recent call last)",
      "\u001B[1;32m~\\AppData\\Local\\Temp\\ipykernel_12680\\3905680283.py\u001B[0m in \u001B[0;36m<module>\u001B[1;34m\u001B[0m\n\u001B[0;32m     21\u001B[0m \u001B[1;33m\u001B[0m\u001B[0m\n\u001B[0;32m     22\u001B[0m \u001B[0mobj\u001B[0m\u001B[1;33m.\u001B[0m\u001B[0madd_classifier\u001B[0m\u001B[1;33m(\u001B[0m\u001B[0mex\u001B[0m\u001B[1;33m)\u001B[0m\u001B[1;33m\u001B[0m\u001B[1;33m\u001B[0m\u001B[0m\n\u001B[1;32m---> 23\u001B[1;33m \u001B[0mobj\u001B[0m\u001B[1;33m.\u001B[0m\u001B[0mtrain_model\u001B[0m\u001B[1;33m(\u001B[0m\u001B[1;34m'test_model'\u001B[0m\u001B[1;33m,\u001B[0m \u001B[1;34m'count'\u001B[0m\u001B[1;33m,\u001B[0m \u001B[1;34m'ex'\u001B[0m\u001B[1;33m)\u001B[0m\u001B[1;33m\u001B[0m\u001B[1;33m\u001B[0m\u001B[0m\n\u001B[0m",
      "\u001B[1;32m~\\AppData\\Local\\Temp\\ipykernel_12680\\1090992403.py\u001B[0m in \u001B[0;36mtrain_model\u001B[1;34m(self, modelName, vectorizerName, classifierName, description)\u001B[0m\n\u001B[0;32m    102\u001B[0m         \u001B[0mself\u001B[0m\u001B[1;33m.\u001B[0m\u001B[0mModels_info\u001B[0m\u001B[1;33m[\u001B[0m\u001B[0mmodelName\u001B[0m\u001B[1;33m]\u001B[0m \u001B[1;33m=\u001B[0m \u001B[1;33m{\u001B[0m\u001B[1;34m'vectorizerName'\u001B[0m\u001B[1;33m:\u001B[0m\u001B[0mvectorizerName\u001B[0m\u001B[1;33m,\u001B[0m \u001B[1;34m'classifierName'\u001B[0m\u001B[1;33m:\u001B[0m\u001B[0mclassifierName\u001B[0m\u001B[1;33m,\u001B[0m \u001B[1;34m'description'\u001B[0m\u001B[1;33m:\u001B[0m\u001B[0mdescription\u001B[0m\u001B[1;33m}\u001B[0m\u001B[1;33m\u001B[0m\u001B[1;33m\u001B[0m\u001B[0m\n\u001B[0;32m    103\u001B[0m \u001B[1;33m\u001B[0m\u001B[0m\n\u001B[1;32m--> 104\u001B[1;33m         \u001B[0mX_train\u001B[0m \u001B[1;33m=\u001B[0m \u001B[0mself\u001B[0m\u001B[1;33m.\u001B[0m\u001B[0mFeature_Vectors\u001B[0m\u001B[1;33m[\u001B[0m\u001B[0mvectorizerName\u001B[0m\u001B[1;33m]\u001B[0m\u001B[1;33m.\u001B[0m\u001B[0mloc\u001B[0m\u001B[1;33m[\u001B[0m\u001B[0mself\u001B[0m\u001B[1;33m.\u001B[0m\u001B[0m_train_index\u001B[0m\u001B[1;33m]\u001B[0m\u001B[1;33m\u001B[0m\u001B[1;33m\u001B[0m\u001B[0m\n\u001B[0m\u001B[0;32m    105\u001B[0m         \u001B[0mY_train\u001B[0m \u001B[1;33m=\u001B[0m \u001B[0mself\u001B[0m\u001B[1;33m.\u001B[0m\u001B[0mY_train\u001B[0m\u001B[1;33m\u001B[0m\u001B[1;33m\u001B[0m\u001B[0m\n\u001B[0;32m    106\u001B[0m         \u001B[0mclassifier\u001B[0m \u001B[1;33m=\u001B[0m \u001B[0mself\u001B[0m\u001B[1;33m.\u001B[0m\u001B[0mClassifiers\u001B[0m\u001B[1;33m[\u001B[0m\u001B[0mclassifierName\u001B[0m\u001B[1;33m]\u001B[0m\u001B[1;33m\u001B[0m\u001B[1;33m\u001B[0m\u001B[0m\n",
      "\u001B[1;31mKeyError\u001B[0m: 'count'"
     ]
    }
   ],
   "source": [
    "# Example\n",
    "\n",
    "ex = Classifier('ex')\n",
    "\n",
    "\n",
    "def _ex_train(X_train, Y_train):\n",
    "    return 'No training needed'\n",
    "\n",
    "\n",
    "def _ex_predict(title_vectors, model):\n",
    "    \"\"\"enter a list or series or data frame of titles. Outputs prediction in a dataframe\"\"\"\n",
    "\n",
    "    df = model.predict(title_vectors)\n",
    "    print(df)\n",
    "    return df\n",
    "\n",
    "\n",
    "ex._train = _ex_train\n",
    "ex._predict = _ex_predict\n",
    "\n",
    "\n",
    "obj.add_classifier(ex)\n",
    "obj.train_model('test_model', 'count', 'ex')"
   ],
   "metadata": {
    "collapsed": false
   }
  },
  {
   "cell_type": "code",
   "execution_count": 13,
   "outputs": [],
   "source": [
    "SVM_model = Classifier('SVM')\n",
    "\n",
    "\n",
    "def _SVM_train(X_train, Y_train):\n",
    "    model = SVC()\n",
    "    model.fit(X_train, Y_train)\n",
    "    return model\n",
    "\n",
    "\n",
    "def _SVM_predict(title_vectors, model):\n",
    "    \"\"\"enter a list or series or data frame of titles. Outputs prediction in a dataframe\"\"\"\n",
    "\n",
    "    df = model.predict(title_vectors)\n",
    "    print(df)\n",
    "    return df\n",
    "\n",
    "\n",
    "SVM_model._train = _SVM_train\n",
    "SVM_model._predict = _SVM_predict"
   ],
   "metadata": {
    "collapsed": false
   }
  },
  {
   "cell_type": "code",
   "execution_count": 14,
   "outputs": [
    {
     "ename": "KeyError",
     "evalue": "'count'",
     "output_type": "error",
     "traceback": [
      "\u001B[1;31m---------------------------------------------------------------------------\u001B[0m",
      "\u001B[1;31mKeyError\u001B[0m                                  Traceback (most recent call last)",
      "\u001B[1;32m~\\AppData\\Local\\Temp\\ipykernel_12680\\827687775.py\u001B[0m in \u001B[0;36m<module>\u001B[1;34m\u001B[0m\n\u001B[0;32m      1\u001B[0m \u001B[0mobj\u001B[0m\u001B[1;33m.\u001B[0m\u001B[0madd_classifier\u001B[0m\u001B[1;33m(\u001B[0m\u001B[0mSVM_model\u001B[0m\u001B[1;33m)\u001B[0m\u001B[1;33m\u001B[0m\u001B[1;33m\u001B[0m\u001B[0m\n\u001B[1;32m----> 2\u001B[1;33m \u001B[0mobj\u001B[0m\u001B[1;33m.\u001B[0m\u001B[0mtrain_model\u001B[0m\u001B[1;33m(\u001B[0m\u001B[1;34m'test_model'\u001B[0m\u001B[1;33m,\u001B[0m \u001B[1;34m'count'\u001B[0m\u001B[1;33m,\u001B[0m \u001B[1;34m'SVM'\u001B[0m\u001B[1;33m)\u001B[0m\u001B[1;33m\u001B[0m\u001B[1;33m\u001B[0m\u001B[0m\n\u001B[0m",
      "\u001B[1;32m~\\AppData\\Local\\Temp\\ipykernel_12680\\1090992403.py\u001B[0m in \u001B[0;36mtrain_model\u001B[1;34m(self, modelName, vectorizerName, classifierName, description)\u001B[0m\n\u001B[0;32m    102\u001B[0m         \u001B[0mself\u001B[0m\u001B[1;33m.\u001B[0m\u001B[0mModels_info\u001B[0m\u001B[1;33m[\u001B[0m\u001B[0mmodelName\u001B[0m\u001B[1;33m]\u001B[0m \u001B[1;33m=\u001B[0m \u001B[1;33m{\u001B[0m\u001B[1;34m'vectorizerName'\u001B[0m\u001B[1;33m:\u001B[0m\u001B[0mvectorizerName\u001B[0m\u001B[1;33m,\u001B[0m \u001B[1;34m'classifierName'\u001B[0m\u001B[1;33m:\u001B[0m\u001B[0mclassifierName\u001B[0m\u001B[1;33m,\u001B[0m \u001B[1;34m'description'\u001B[0m\u001B[1;33m:\u001B[0m\u001B[0mdescription\u001B[0m\u001B[1;33m}\u001B[0m\u001B[1;33m\u001B[0m\u001B[1;33m\u001B[0m\u001B[0m\n\u001B[0;32m    103\u001B[0m \u001B[1;33m\u001B[0m\u001B[0m\n\u001B[1;32m--> 104\u001B[1;33m         \u001B[0mX_train\u001B[0m \u001B[1;33m=\u001B[0m \u001B[0mself\u001B[0m\u001B[1;33m.\u001B[0m\u001B[0mFeature_Vectors\u001B[0m\u001B[1;33m[\u001B[0m\u001B[0mvectorizerName\u001B[0m\u001B[1;33m]\u001B[0m\u001B[1;33m.\u001B[0m\u001B[0mloc\u001B[0m\u001B[1;33m[\u001B[0m\u001B[0mself\u001B[0m\u001B[1;33m.\u001B[0m\u001B[0m_train_index\u001B[0m\u001B[1;33m]\u001B[0m\u001B[1;33m\u001B[0m\u001B[1;33m\u001B[0m\u001B[0m\n\u001B[0m\u001B[0;32m    105\u001B[0m         \u001B[0mY_train\u001B[0m \u001B[1;33m=\u001B[0m \u001B[0mself\u001B[0m\u001B[1;33m.\u001B[0m\u001B[0mY_train\u001B[0m\u001B[1;33m\u001B[0m\u001B[1;33m\u001B[0m\u001B[0m\n\u001B[0;32m    106\u001B[0m         \u001B[0mclassifier\u001B[0m \u001B[1;33m=\u001B[0m \u001B[0mself\u001B[0m\u001B[1;33m.\u001B[0m\u001B[0mClassifiers\u001B[0m\u001B[1;33m[\u001B[0m\u001B[0mclassifierName\u001B[0m\u001B[1;33m]\u001B[0m\u001B[1;33m\u001B[0m\u001B[1;33m\u001B[0m\u001B[0m\n",
      "\u001B[1;31mKeyError\u001B[0m: 'count'"
     ]
    }
   ],
   "source": [
    "obj.add_classifier(SVM_model)\n",
    "obj.train_model('test_model', 'count', 'SVM')"
   ],
   "metadata": {
    "collapsed": false
   }
  },
  {
   "cell_type": "code",
   "execution_count": 15,
   "outputs": [
    {
     "ename": "KeyError",
     "evalue": "'test_model'",
     "output_type": "error",
     "traceback": [
      "\u001B[1;31m---------------------------------------------------------------------------\u001B[0m",
      "\u001B[1;31mKeyError\u001B[0m                                  Traceback (most recent call last)",
      "\u001B[1;32m~\\AppData\\Local\\Temp\\ipykernel_12680\\3863038195.py\u001B[0m in \u001B[0;36m<module>\u001B[1;34m\u001B[0m\n\u001B[1;32m----> 1\u001B[1;33m \u001B[0mobj\u001B[0m\u001B[1;33m.\u001B[0m\u001B[0mModels\u001B[0m\u001B[1;33m[\u001B[0m\u001B[1;34m'test_model'\u001B[0m\u001B[1;33m]\u001B[0m\u001B[1;33m\u001B[0m\u001B[1;33m\u001B[0m\u001B[0m\n\u001B[0m",
      "\u001B[1;31mKeyError\u001B[0m: 'test_model'"
     ]
    }
   ],
   "source": [
    "obj.Models['test_model']"
   ],
   "metadata": {
    "collapsed": false
   }
  },
  {
   "cell_type": "code",
   "execution_count": null,
   "outputs": [],
   "source": [],
   "metadata": {
    "collapsed": false
   }
  }
 ],
 "metadata": {
  "kernelspec": {
   "display_name": "Python 3",
   "language": "python",
   "name": "python3"
  },
  "language_info": {
   "codemirror_mode": {
    "name": "ipython",
    "version": 2
   },
   "file_extension": ".py",
   "mimetype": "text/x-python",
   "name": "python",
   "nbconvert_exporter": "python",
   "pygments_lexer": "ipython2",
   "version": "2.7.6"
  }
 },
 "nbformat": 4,
 "nbformat_minor": 0
}
