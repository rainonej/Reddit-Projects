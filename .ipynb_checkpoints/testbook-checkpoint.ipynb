{
 "cells": [
  {
   "cell_type": "markdown",
   "id": "961e82d0-0253-40d6-a868-a61949f35658",
   "metadata": {},
   "source": [
    "# This notebook is for stuff"
   ]
  },
  {
   "cell_type": "code",
   "execution_count": 2,
   "id": "a6cbb3dc-ad6c-4d8c-b68b-ab1317fb7952",
   "metadata": {},
   "outputs": [],
   "source": [
    "a = 3"
   ]
  },
  {
   "cell_type": "code",
   "execution_count": 4,
   "id": "8a9505ae-03b2-4865-aaa2-cb31e09bb293",
   "metadata": {},
   "outputs": [
    {
     "data": {
      "text/plain": [
       "5"
      ]
     },
     "execution_count": 4,
     "metadata": {},
     "output_type": "execute_result"
    }
   ],
   "source": [
    "a+2"
   ]
  },
  {
   "cell_type": "code",
   "execution_count": null,
   "id": "2096e85f-5beb-4b71-adf8-1068c020eb0f",
   "metadata": {},
   "outputs": [],
   "source": []
  }
 ],
 "metadata": {
  "kernelspec": {
   "display_name": "Python 3 (ipykernel)",
   "language": "python",
   "name": "python3"
  },
  "language_info": {
   "codemirror_mode": {
    "name": "ipython",
    "version": 3
   },
   "file_extension": ".py",
   "mimetype": "text/x-python",
   "name": "python",
   "nbconvert_exporter": "python",
   "pygments_lexer": "ipython3",
   "version": "3.9.13"
  }
 },
 "nbformat": 4,
 "nbformat_minor": 5
}
