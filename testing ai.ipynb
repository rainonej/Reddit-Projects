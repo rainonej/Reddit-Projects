{
 "cells": [
  {
   "cell_type": "markdown",
   "source": [
    "# Subreddit Guesser\n",
    "\n",
    "Can I train a program to identify which subreddit a post came from using only the post title?\n",
    "\n",
    "The top 10 most popular subreddits are 'announcements', 'funny', 'AskReddit', 'gaming', 'awww', 'Music', 'pics', 'science', 'worldnews', 'videos'. So I'll use those.\n"
   ],
   "metadata": {
    "collapsed": false
   }
  },
  {
   "cell_type": "code",
   "execution_count": 9,
   "outputs": [],
   "source": [
    "import numpy as np\n",
    "import praw\n",
    "import pandas as pd\n",
    "import xgboost as xgb\n",
    "from gensim.models.doc2vec import Doc2Vec, TaggedDocument"
   ],
   "metadata": {
    "collapsed": false
   }
  },
  {
   "cell_type": "code",
   "execution_count": 10,
   "outputs": [],
   "source": [
    "import secrets\n",
    "\n",
    "# Create a Reddit instance\n",
    "user_agent = \"Test 0.1 by /u/IsThisATrollBot\"\n",
    "reddit = praw.Reddit(\n",
    "    client_id=secrets.client_ID,\n",
    "    client_secret=secrets.client_secret,\n",
    "    password=secrets.password,\n",
    "    user_agent=user_agent,\n",
    "    username=secrets.username,\n",
    ")"
   ],
   "metadata": {
    "collapsed": false
   }
  },
  {
   "cell_type": "code",
   "execution_count": 11,
   "outputs": [],
   "source": [
    "# Get the 10 most popular subreddits\n",
    "top_subreddits = ['announcements', 'funny', 'AskReddit', 'gaming', 'awww', 'Music', 'pics', 'science', 'worldnews', 'videos']"
   ],
   "metadata": {
    "collapsed": false
   }
  },
  {
   "cell_type": "markdown",
   "source": [
    "Create a list of 1000 posts from the top 10 most popular subreddits."
   ],
   "metadata": {
    "collapsed": false
   }
  },
  {
   "cell_type": "code",
   "execution_count": 12,
   "outputs": [],
   "source": [
    "# Create an empty list to store the posts\n",
    "posts = []\n",
    "\n",
    "# Iterate through the subreddits and get the last 1000 posts from each\n",
    "for sub in top_subreddits:\n",
    "    subreddit_posts = reddit.subreddit(sub).new(limit=1000)\n",
    "    for post in subreddit_posts:\n",
    "        posts.append(post)\n"
   ],
   "metadata": {
    "collapsed": false
   }
  },
  {
   "cell_type": "code",
   "execution_count": 71,
   "outputs": [
    {
     "data": {
      "text/plain": "                                                  title      subreddit\n0     This subreddit is closed for new posts and com...  announcements\n1             COVID denialism and policy clarifications  announcements\n2                Debate, dissent, and protest on Reddit  announcements\n3              Sunsetting Secret Santa and Reddit Gifts  announcements\n4                                                Second  announcements\n...                                                 ...            ...\n8353                            Mukbang Has Gone To Far         videos\n8354  GWAR goes door to door among the suburbs of Ri...         videos\n8355  Justin Roiland & Mikey Spano join Oddheader to...         videos\n8356                 Testing toilet flushing efficiency         videos\n8357  My friend received a voicemail from his Dad, a...         videos\n\n[8358 rows x 2 columns]",
      "text/html": "<div>\n<style scoped>\n    .dataframe tbody tr th:only-of-type {\n        vertical-align: middle;\n    }\n\n    .dataframe tbody tr th {\n        vertical-align: top;\n    }\n\n    .dataframe thead th {\n        text-align: right;\n    }\n</style>\n<table border=\"1\" class=\"dataframe\">\n  <thead>\n    <tr style=\"text-align: right;\">\n      <th></th>\n      <th>title</th>\n      <th>subreddit</th>\n    </tr>\n  </thead>\n  <tbody>\n    <tr>\n      <th>0</th>\n      <td>This subreddit is closed for new posts and com...</td>\n      <td>announcements</td>\n    </tr>\n    <tr>\n      <th>1</th>\n      <td>COVID denialism and policy clarifications</td>\n      <td>announcements</td>\n    </tr>\n    <tr>\n      <th>2</th>\n      <td>Debate, dissent, and protest on Reddit</td>\n      <td>announcements</td>\n    </tr>\n    <tr>\n      <th>3</th>\n      <td>Sunsetting Secret Santa and Reddit Gifts</td>\n      <td>announcements</td>\n    </tr>\n    <tr>\n      <th>4</th>\n      <td>Second</td>\n      <td>announcements</td>\n    </tr>\n    <tr>\n      <th>...</th>\n      <td>...</td>\n      <td>...</td>\n    </tr>\n    <tr>\n      <th>8353</th>\n      <td>Mukbang Has Gone To Far</td>\n      <td>videos</td>\n    </tr>\n    <tr>\n      <th>8354</th>\n      <td>GWAR goes door to door among the suburbs of Ri...</td>\n      <td>videos</td>\n    </tr>\n    <tr>\n      <th>8355</th>\n      <td>Justin Roiland &amp; Mikey Spano join Oddheader to...</td>\n      <td>videos</td>\n    </tr>\n    <tr>\n      <th>8356</th>\n      <td>Testing toilet flushing efficiency</td>\n      <td>videos</td>\n    </tr>\n    <tr>\n      <th>8357</th>\n      <td>My friend received a voicemail from his Dad, a...</td>\n      <td>videos</td>\n    </tr>\n  </tbody>\n</table>\n<p>8358 rows × 2 columns</p>\n</div>"
     },
     "execution_count": 71,
     "metadata": {},
     "output_type": "execute_result"
    }
   ],
   "source": [
    "\n",
    "# Create a list of dictionaries containing the data for each post\n",
    "data = [{'title': post.title, 'subreddit': post.subreddit.display_name} for post in posts]\n",
    "\n",
    "# Create a Pandas dataframe from the list of dictionaries\n",
    "df = pd.DataFrame(data)\n",
    "df"
   ],
   "metadata": {
    "collapsed": false
   }
  },
  {
   "cell_type": "markdown",
   "source": [
    "### Split the data into test and training data"
   ],
   "metadata": {
    "collapsed": false
   }
  },
  {
   "cell_type": "code",
   "execution_count": 72,
   "outputs": [],
   "source": [
    "from sklearn.model_selection import train_test_split\n",
    "\n",
    "# Split the data into training and testing sets\n",
    "X_train, X_test, y_train, y_test = train_test_split(df['title'], df['subreddit'], test_size=0.2)\n",
    "\n",
    "# Get the indices of the test set samples\n",
    "test_indices = X_test.index"
   ],
   "metadata": {
    "collapsed": false
   }
  },
  {
   "cell_type": "markdown",
   "source": [
    "### Try different vectorization models\n",
    "\n",
    "Bag-of-Words and Doc2Vec"
   ],
   "metadata": {
    "collapsed": false
   }
  },
  {
   "cell_type": "code",
   "execution_count": 90,
   "outputs": [
    {
     "ename": "AttributeError",
     "evalue": "lower not found",
     "output_type": "error",
     "traceback": [
      "\u001B[1;31m---------------------------------------------------------------------------\u001B[0m",
      "\u001B[1;31mAttributeError\u001B[0m                            Traceback (most recent call last)",
      "\u001B[1;32m~\\AppData\\Local\\Temp\\ipykernel_22832\\956489764.py\u001B[0m in \u001B[0;36m<module>\u001B[1;34m\u001B[0m\n\u001B[0;32m      5\u001B[0m \u001B[1;33m\u001B[0m\u001B[0m\n\u001B[0;32m      6\u001B[0m \u001B[0mvectorizer\u001B[0m \u001B[1;33m=\u001B[0m \u001B[0mCountVectorizer\u001B[0m\u001B[1;33m(\u001B[0m\u001B[1;33m)\u001B[0m\u001B[1;33m\u001B[0m\u001B[1;33m\u001B[0m\u001B[0m\n\u001B[1;32m----> 7\u001B[1;33m \u001B[0mX_train\u001B[0m \u001B[1;33m=\u001B[0m \u001B[0mvectorizer\u001B[0m\u001B[1;33m.\u001B[0m\u001B[0mfit_transform\u001B[0m\u001B[1;33m(\u001B[0m\u001B[0mX_train\u001B[0m\u001B[1;33m)\u001B[0m\u001B[1;33m\u001B[0m\u001B[1;33m\u001B[0m\u001B[0m\n\u001B[0m\u001B[0;32m      8\u001B[0m \u001B[0mX_test\u001B[0m \u001B[1;33m=\u001B[0m \u001B[0mvectorizer\u001B[0m\u001B[1;33m.\u001B[0m\u001B[0mtransform\u001B[0m\u001B[1;33m(\u001B[0m\u001B[0mX_test\u001B[0m\u001B[1;33m)\u001B[0m\u001B[1;33m\u001B[0m\u001B[1;33m\u001B[0m\u001B[0m\n",
      "\u001B[1;32m~\\anaconda3\\lib\\site-packages\\sklearn\\feature_extraction\\text.py\u001B[0m in \u001B[0;36mfit_transform\u001B[1;34m(self, raw_documents, y)\u001B[0m\n\u001B[0;32m   1328\u001B[0m                     \u001B[1;32mbreak\u001B[0m\u001B[1;33m\u001B[0m\u001B[1;33m\u001B[0m\u001B[0m\n\u001B[0;32m   1329\u001B[0m \u001B[1;33m\u001B[0m\u001B[0m\n\u001B[1;32m-> 1330\u001B[1;33m         \u001B[0mvocabulary\u001B[0m\u001B[1;33m,\u001B[0m \u001B[0mX\u001B[0m \u001B[1;33m=\u001B[0m \u001B[0mself\u001B[0m\u001B[1;33m.\u001B[0m\u001B[0m_count_vocab\u001B[0m\u001B[1;33m(\u001B[0m\u001B[0mraw_documents\u001B[0m\u001B[1;33m,\u001B[0m \u001B[0mself\u001B[0m\u001B[1;33m.\u001B[0m\u001B[0mfixed_vocabulary_\u001B[0m\u001B[1;33m)\u001B[0m\u001B[1;33m\u001B[0m\u001B[1;33m\u001B[0m\u001B[0m\n\u001B[0m\u001B[0;32m   1331\u001B[0m \u001B[1;33m\u001B[0m\u001B[0m\n\u001B[0;32m   1332\u001B[0m         \u001B[1;32mif\u001B[0m \u001B[0mself\u001B[0m\u001B[1;33m.\u001B[0m\u001B[0mbinary\u001B[0m\u001B[1;33m:\u001B[0m\u001B[1;33m\u001B[0m\u001B[1;33m\u001B[0m\u001B[0m\n",
      "\u001B[1;32m~\\anaconda3\\lib\\site-packages\\sklearn\\feature_extraction\\text.py\u001B[0m in \u001B[0;36m_count_vocab\u001B[1;34m(self, raw_documents, fixed_vocab)\u001B[0m\n\u001B[0;32m   1199\u001B[0m         \u001B[1;32mfor\u001B[0m \u001B[0mdoc\u001B[0m \u001B[1;32min\u001B[0m \u001B[0mraw_documents\u001B[0m\u001B[1;33m:\u001B[0m\u001B[1;33m\u001B[0m\u001B[1;33m\u001B[0m\u001B[0m\n\u001B[0;32m   1200\u001B[0m             \u001B[0mfeature_counter\u001B[0m \u001B[1;33m=\u001B[0m \u001B[1;33m{\u001B[0m\u001B[1;33m}\u001B[0m\u001B[1;33m\u001B[0m\u001B[1;33m\u001B[0m\u001B[0m\n\u001B[1;32m-> 1201\u001B[1;33m             \u001B[1;32mfor\u001B[0m \u001B[0mfeature\u001B[0m \u001B[1;32min\u001B[0m \u001B[0manalyze\u001B[0m\u001B[1;33m(\u001B[0m\u001B[0mdoc\u001B[0m\u001B[1;33m)\u001B[0m\u001B[1;33m:\u001B[0m\u001B[1;33m\u001B[0m\u001B[1;33m\u001B[0m\u001B[0m\n\u001B[0m\u001B[0;32m   1202\u001B[0m                 \u001B[1;32mtry\u001B[0m\u001B[1;33m:\u001B[0m\u001B[1;33m\u001B[0m\u001B[1;33m\u001B[0m\u001B[0m\n\u001B[0;32m   1203\u001B[0m                     \u001B[0mfeature_idx\u001B[0m \u001B[1;33m=\u001B[0m \u001B[0mvocabulary\u001B[0m\u001B[1;33m[\u001B[0m\u001B[0mfeature\u001B[0m\u001B[1;33m]\u001B[0m\u001B[1;33m\u001B[0m\u001B[1;33m\u001B[0m\u001B[0m\n",
      "\u001B[1;32m~\\anaconda3\\lib\\site-packages\\sklearn\\feature_extraction\\text.py\u001B[0m in \u001B[0;36m_analyze\u001B[1;34m(doc, analyzer, tokenizer, ngrams, preprocessor, decoder, stop_words)\u001B[0m\n\u001B[0;32m    111\u001B[0m     \u001B[1;32melse\u001B[0m\u001B[1;33m:\u001B[0m\u001B[1;33m\u001B[0m\u001B[1;33m\u001B[0m\u001B[0m\n\u001B[0;32m    112\u001B[0m         \u001B[1;32mif\u001B[0m \u001B[0mpreprocessor\u001B[0m \u001B[1;32mis\u001B[0m \u001B[1;32mnot\u001B[0m \u001B[1;32mNone\u001B[0m\u001B[1;33m:\u001B[0m\u001B[1;33m\u001B[0m\u001B[1;33m\u001B[0m\u001B[0m\n\u001B[1;32m--> 113\u001B[1;33m             \u001B[0mdoc\u001B[0m \u001B[1;33m=\u001B[0m \u001B[0mpreprocessor\u001B[0m\u001B[1;33m(\u001B[0m\u001B[0mdoc\u001B[0m\u001B[1;33m)\u001B[0m\u001B[1;33m\u001B[0m\u001B[1;33m\u001B[0m\u001B[0m\n\u001B[0m\u001B[0;32m    114\u001B[0m         \u001B[1;32mif\u001B[0m \u001B[0mtokenizer\u001B[0m \u001B[1;32mis\u001B[0m \u001B[1;32mnot\u001B[0m \u001B[1;32mNone\u001B[0m\u001B[1;33m:\u001B[0m\u001B[1;33m\u001B[0m\u001B[1;33m\u001B[0m\u001B[0m\n\u001B[0;32m    115\u001B[0m             \u001B[0mdoc\u001B[0m \u001B[1;33m=\u001B[0m \u001B[0mtokenizer\u001B[0m\u001B[1;33m(\u001B[0m\u001B[0mdoc\u001B[0m\u001B[1;33m)\u001B[0m\u001B[1;33m\u001B[0m\u001B[1;33m\u001B[0m\u001B[0m\n",
      "\u001B[1;32m~\\anaconda3\\lib\\site-packages\\sklearn\\feature_extraction\\text.py\u001B[0m in \u001B[0;36m_preprocess\u001B[1;34m(doc, accent_function, lower)\u001B[0m\n\u001B[0;32m     69\u001B[0m     \"\"\"\n\u001B[0;32m     70\u001B[0m     \u001B[1;32mif\u001B[0m \u001B[0mlower\u001B[0m\u001B[1;33m:\u001B[0m\u001B[1;33m\u001B[0m\u001B[1;33m\u001B[0m\u001B[0m\n\u001B[1;32m---> 71\u001B[1;33m         \u001B[0mdoc\u001B[0m \u001B[1;33m=\u001B[0m \u001B[0mdoc\u001B[0m\u001B[1;33m.\u001B[0m\u001B[0mlower\u001B[0m\u001B[1;33m(\u001B[0m\u001B[1;33m)\u001B[0m\u001B[1;33m\u001B[0m\u001B[1;33m\u001B[0m\u001B[0m\n\u001B[0m\u001B[0;32m     72\u001B[0m     \u001B[1;32mif\u001B[0m \u001B[0maccent_function\u001B[0m \u001B[1;32mis\u001B[0m \u001B[1;32mnot\u001B[0m \u001B[1;32mNone\u001B[0m\u001B[1;33m:\u001B[0m\u001B[1;33m\u001B[0m\u001B[1;33m\u001B[0m\u001B[0m\n\u001B[0;32m     73\u001B[0m         \u001B[0mdoc\u001B[0m \u001B[1;33m=\u001B[0m \u001B[0maccent_function\u001B[0m\u001B[1;33m(\u001B[0m\u001B[0mdoc\u001B[0m\u001B[1;33m)\u001B[0m\u001B[1;33m\u001B[0m\u001B[1;33m\u001B[0m\u001B[0m\n",
      "\u001B[1;32m~\\anaconda3\\lib\\site-packages\\scipy\\sparse\\_base.py\u001B[0m in \u001B[0;36m__getattr__\u001B[1;34m(self, attr)\u001B[0m\n\u001B[0;32m    769\u001B[0m             \u001B[1;32mreturn\u001B[0m \u001B[0mself\u001B[0m\u001B[1;33m.\u001B[0m\u001B[0mgetnnz\u001B[0m\u001B[1;33m(\u001B[0m\u001B[1;33m)\u001B[0m\u001B[1;33m\u001B[0m\u001B[1;33m\u001B[0m\u001B[0m\n\u001B[0;32m    770\u001B[0m         \u001B[1;32melse\u001B[0m\u001B[1;33m:\u001B[0m\u001B[1;33m\u001B[0m\u001B[1;33m\u001B[0m\u001B[0m\n\u001B[1;32m--> 771\u001B[1;33m             \u001B[1;32mraise\u001B[0m \u001B[0mAttributeError\u001B[0m\u001B[1;33m(\u001B[0m\u001B[0mattr\u001B[0m \u001B[1;33m+\u001B[0m \u001B[1;34m\" not found\"\u001B[0m\u001B[1;33m)\u001B[0m\u001B[1;33m\u001B[0m\u001B[1;33m\u001B[0m\u001B[0m\n\u001B[0m\u001B[0;32m    772\u001B[0m \u001B[1;33m\u001B[0m\u001B[0m\n\u001B[0;32m    773\u001B[0m     \u001B[1;32mdef\u001B[0m \u001B[0mtranspose\u001B[0m\u001B[1;33m(\u001B[0m\u001B[0mself\u001B[0m\u001B[1;33m,\u001B[0m \u001B[0maxes\u001B[0m\u001B[1;33m=\u001B[0m\u001B[1;32mNone\u001B[0m\u001B[1;33m,\u001B[0m \u001B[0mcopy\u001B[0m\u001B[1;33m=\u001B[0m\u001B[1;32mFalse\u001B[0m\u001B[1;33m)\u001B[0m\u001B[1;33m:\u001B[0m\u001B[1;33m\u001B[0m\u001B[1;33m\u001B[0m\u001B[0m\n",
      "\u001B[1;31mAttributeError\u001B[0m: lower not found"
     ]
    }
   ],
   "source": [
    "# Try Bag-of-Words first\n",
    "# This just measures the frequency of each word in each title\n",
    "\n",
    "from sklearn.feature_extraction.text import CountVectorizer\n",
    "\n",
    "vectorizer = CountVectorizer()\n",
    "X_train = vectorizer.fit_transform(X_train)\n",
    "X_test = vectorizer.transform(X_test)"
   ],
   "metadata": {
    "collapsed": false
   }
  },
  {
   "cell_type": "code",
   "execution_count": 74,
   "outputs": [],
   "source": [
    "\n"
   ],
   "metadata": {
    "collapsed": false
   }
  },
  {
   "cell_type": "code",
   "execution_count": 89,
   "outputs": [
    {
     "data": {
      "text/plain": "array([[0, 0, 0, ..., 0, 0, 0],\n       [0, 0, 0, ..., 0, 0, 0],\n       [0, 0, 0, ..., 0, 0, 0],\n       ...,\n       [0, 0, 0, ..., 0, 0, 0],\n       [0, 0, 0, ..., 0, 0, 0],\n       [0, 0, 0, ..., 0, 0, 0]], dtype=int64)"
     },
     "execution_count": 89,
     "metadata": {},
     "output_type": "execute_result"
    }
   ],
   "source": [
    "X_train_dense = X_train.toarray()\n",
    "X_train_dense"
   ],
   "metadata": {
    "collapsed": false
   }
  },
  {
   "cell_type": "code",
   "execution_count": 88,
   "outputs": [
    {
     "data": {
      "text/plain": "scipy.sparse._csr.csr_matrix"
     },
     "execution_count": 88,
     "metadata": {},
     "output_type": "execute_result"
    }
   ],
   "source": [
    "type(X_test)"
   ],
   "metadata": {
    "collapsed": false
   }
  },
  {
   "cell_type": "code",
   "execution_count": 91,
   "outputs": [
    {
     "ename": "AttributeError",
     "evalue": "lower not found",
     "output_type": "error",
     "traceback": [
      "\u001B[1;31m---------------------------------------------------------------------------\u001B[0m",
      "\u001B[1;31mAttributeError\u001B[0m                            Traceback (most recent call last)",
      "\u001B[1;32m~\\AppData\\Local\\Temp\\ipykernel_22832\\3535362961.py\u001B[0m in \u001B[0;36m<module>\u001B[1;34m\u001B[0m\n\u001B[0;32m      1\u001B[0m \u001B[1;31m# Vectorize the text using bag-of-words\u001B[0m\u001B[1;33m\u001B[0m\u001B[1;33m\u001B[0m\u001B[0m\n\u001B[0;32m      2\u001B[0m \u001B[0mvectorizer\u001B[0m \u001B[1;33m=\u001B[0m \u001B[0mCountVectorizer\u001B[0m\u001B[1;33m(\u001B[0m\u001B[1;33m)\u001B[0m\u001B[1;33m\u001B[0m\u001B[1;33m\u001B[0m\u001B[0m\n\u001B[1;32m----> 3\u001B[1;33m \u001B[0mX_train\u001B[0m \u001B[1;33m=\u001B[0m \u001B[0mvectorizer\u001B[0m\u001B[1;33m.\u001B[0m\u001B[0mfit_transform\u001B[0m\u001B[1;33m(\u001B[0m\u001B[0mX_train\u001B[0m\u001B[1;33m)\u001B[0m\u001B[1;33m\u001B[0m\u001B[1;33m\u001B[0m\u001B[0m\n\u001B[0m\u001B[0;32m      4\u001B[0m \u001B[0mX_test\u001B[0m \u001B[1;33m=\u001B[0m \u001B[0mvectorizer\u001B[0m\u001B[1;33m.\u001B[0m\u001B[0mtransform\u001B[0m\u001B[1;33m(\u001B[0m\u001B[0mX_test\u001B[0m\u001B[1;33m)\u001B[0m\u001B[1;33m\u001B[0m\u001B[1;33m\u001B[0m\u001B[0m\n\u001B[0;32m      5\u001B[0m \u001B[1;33m\u001B[0m\u001B[0m\n",
      "\u001B[1;32m~\\anaconda3\\lib\\site-packages\\sklearn\\feature_extraction\\text.py\u001B[0m in \u001B[0;36mfit_transform\u001B[1;34m(self, raw_documents, y)\u001B[0m\n\u001B[0;32m   1328\u001B[0m                     \u001B[1;32mbreak\u001B[0m\u001B[1;33m\u001B[0m\u001B[1;33m\u001B[0m\u001B[0m\n\u001B[0;32m   1329\u001B[0m \u001B[1;33m\u001B[0m\u001B[0m\n\u001B[1;32m-> 1330\u001B[1;33m         \u001B[0mvocabulary\u001B[0m\u001B[1;33m,\u001B[0m \u001B[0mX\u001B[0m \u001B[1;33m=\u001B[0m \u001B[0mself\u001B[0m\u001B[1;33m.\u001B[0m\u001B[0m_count_vocab\u001B[0m\u001B[1;33m(\u001B[0m\u001B[0mraw_documents\u001B[0m\u001B[1;33m,\u001B[0m \u001B[0mself\u001B[0m\u001B[1;33m.\u001B[0m\u001B[0mfixed_vocabulary_\u001B[0m\u001B[1;33m)\u001B[0m\u001B[1;33m\u001B[0m\u001B[1;33m\u001B[0m\u001B[0m\n\u001B[0m\u001B[0;32m   1331\u001B[0m \u001B[1;33m\u001B[0m\u001B[0m\n\u001B[0;32m   1332\u001B[0m         \u001B[1;32mif\u001B[0m \u001B[0mself\u001B[0m\u001B[1;33m.\u001B[0m\u001B[0mbinary\u001B[0m\u001B[1;33m:\u001B[0m\u001B[1;33m\u001B[0m\u001B[1;33m\u001B[0m\u001B[0m\n",
      "\u001B[1;32m~\\anaconda3\\lib\\site-packages\\sklearn\\feature_extraction\\text.py\u001B[0m in \u001B[0;36m_count_vocab\u001B[1;34m(self, raw_documents, fixed_vocab)\u001B[0m\n\u001B[0;32m   1199\u001B[0m         \u001B[1;32mfor\u001B[0m \u001B[0mdoc\u001B[0m \u001B[1;32min\u001B[0m \u001B[0mraw_documents\u001B[0m\u001B[1;33m:\u001B[0m\u001B[1;33m\u001B[0m\u001B[1;33m\u001B[0m\u001B[0m\n\u001B[0;32m   1200\u001B[0m             \u001B[0mfeature_counter\u001B[0m \u001B[1;33m=\u001B[0m \u001B[1;33m{\u001B[0m\u001B[1;33m}\u001B[0m\u001B[1;33m\u001B[0m\u001B[1;33m\u001B[0m\u001B[0m\n\u001B[1;32m-> 1201\u001B[1;33m             \u001B[1;32mfor\u001B[0m \u001B[0mfeature\u001B[0m \u001B[1;32min\u001B[0m \u001B[0manalyze\u001B[0m\u001B[1;33m(\u001B[0m\u001B[0mdoc\u001B[0m\u001B[1;33m)\u001B[0m\u001B[1;33m:\u001B[0m\u001B[1;33m\u001B[0m\u001B[1;33m\u001B[0m\u001B[0m\n\u001B[0m\u001B[0;32m   1202\u001B[0m                 \u001B[1;32mtry\u001B[0m\u001B[1;33m:\u001B[0m\u001B[1;33m\u001B[0m\u001B[1;33m\u001B[0m\u001B[0m\n\u001B[0;32m   1203\u001B[0m                     \u001B[0mfeature_idx\u001B[0m \u001B[1;33m=\u001B[0m \u001B[0mvocabulary\u001B[0m\u001B[1;33m[\u001B[0m\u001B[0mfeature\u001B[0m\u001B[1;33m]\u001B[0m\u001B[1;33m\u001B[0m\u001B[1;33m\u001B[0m\u001B[0m\n",
      "\u001B[1;32m~\\anaconda3\\lib\\site-packages\\sklearn\\feature_extraction\\text.py\u001B[0m in \u001B[0;36m_analyze\u001B[1;34m(doc, analyzer, tokenizer, ngrams, preprocessor, decoder, stop_words)\u001B[0m\n\u001B[0;32m    111\u001B[0m     \u001B[1;32melse\u001B[0m\u001B[1;33m:\u001B[0m\u001B[1;33m\u001B[0m\u001B[1;33m\u001B[0m\u001B[0m\n\u001B[0;32m    112\u001B[0m         \u001B[1;32mif\u001B[0m \u001B[0mpreprocessor\u001B[0m \u001B[1;32mis\u001B[0m \u001B[1;32mnot\u001B[0m \u001B[1;32mNone\u001B[0m\u001B[1;33m:\u001B[0m\u001B[1;33m\u001B[0m\u001B[1;33m\u001B[0m\u001B[0m\n\u001B[1;32m--> 113\u001B[1;33m             \u001B[0mdoc\u001B[0m \u001B[1;33m=\u001B[0m \u001B[0mpreprocessor\u001B[0m\u001B[1;33m(\u001B[0m\u001B[0mdoc\u001B[0m\u001B[1;33m)\u001B[0m\u001B[1;33m\u001B[0m\u001B[1;33m\u001B[0m\u001B[0m\n\u001B[0m\u001B[0;32m    114\u001B[0m         \u001B[1;32mif\u001B[0m \u001B[0mtokenizer\u001B[0m \u001B[1;32mis\u001B[0m \u001B[1;32mnot\u001B[0m \u001B[1;32mNone\u001B[0m\u001B[1;33m:\u001B[0m\u001B[1;33m\u001B[0m\u001B[1;33m\u001B[0m\u001B[0m\n\u001B[0;32m    115\u001B[0m             \u001B[0mdoc\u001B[0m \u001B[1;33m=\u001B[0m \u001B[0mtokenizer\u001B[0m\u001B[1;33m(\u001B[0m\u001B[0mdoc\u001B[0m\u001B[1;33m)\u001B[0m\u001B[1;33m\u001B[0m\u001B[1;33m\u001B[0m\u001B[0m\n",
      "\u001B[1;32m~\\anaconda3\\lib\\site-packages\\sklearn\\feature_extraction\\text.py\u001B[0m in \u001B[0;36m_preprocess\u001B[1;34m(doc, accent_function, lower)\u001B[0m\n\u001B[0;32m     69\u001B[0m     \"\"\"\n\u001B[0;32m     70\u001B[0m     \u001B[1;32mif\u001B[0m \u001B[0mlower\u001B[0m\u001B[1;33m:\u001B[0m\u001B[1;33m\u001B[0m\u001B[1;33m\u001B[0m\u001B[0m\n\u001B[1;32m---> 71\u001B[1;33m         \u001B[0mdoc\u001B[0m \u001B[1;33m=\u001B[0m \u001B[0mdoc\u001B[0m\u001B[1;33m.\u001B[0m\u001B[0mlower\u001B[0m\u001B[1;33m(\u001B[0m\u001B[1;33m)\u001B[0m\u001B[1;33m\u001B[0m\u001B[1;33m\u001B[0m\u001B[0m\n\u001B[0m\u001B[0;32m     72\u001B[0m     \u001B[1;32mif\u001B[0m \u001B[0maccent_function\u001B[0m \u001B[1;32mis\u001B[0m \u001B[1;32mnot\u001B[0m \u001B[1;32mNone\u001B[0m\u001B[1;33m:\u001B[0m\u001B[1;33m\u001B[0m\u001B[1;33m\u001B[0m\u001B[0m\n\u001B[0;32m     73\u001B[0m         \u001B[0mdoc\u001B[0m \u001B[1;33m=\u001B[0m \u001B[0maccent_function\u001B[0m\u001B[1;33m(\u001B[0m\u001B[0mdoc\u001B[0m\u001B[1;33m)\u001B[0m\u001B[1;33m\u001B[0m\u001B[1;33m\u001B[0m\u001B[0m\n",
      "\u001B[1;32m~\\anaconda3\\lib\\site-packages\\scipy\\sparse\\_base.py\u001B[0m in \u001B[0;36m__getattr__\u001B[1;34m(self, attr)\u001B[0m\n\u001B[0;32m    769\u001B[0m             \u001B[1;32mreturn\u001B[0m \u001B[0mself\u001B[0m\u001B[1;33m.\u001B[0m\u001B[0mgetnnz\u001B[0m\u001B[1;33m(\u001B[0m\u001B[1;33m)\u001B[0m\u001B[1;33m\u001B[0m\u001B[1;33m\u001B[0m\u001B[0m\n\u001B[0;32m    770\u001B[0m         \u001B[1;32melse\u001B[0m\u001B[1;33m:\u001B[0m\u001B[1;33m\u001B[0m\u001B[1;33m\u001B[0m\u001B[0m\n\u001B[1;32m--> 771\u001B[1;33m             \u001B[1;32mraise\u001B[0m \u001B[0mAttributeError\u001B[0m\u001B[1;33m(\u001B[0m\u001B[0mattr\u001B[0m \u001B[1;33m+\u001B[0m \u001B[1;34m\" not found\"\u001B[0m\u001B[1;33m)\u001B[0m\u001B[1;33m\u001B[0m\u001B[1;33m\u001B[0m\u001B[0m\n\u001B[0m\u001B[0;32m    772\u001B[0m \u001B[1;33m\u001B[0m\u001B[0m\n\u001B[0;32m    773\u001B[0m     \u001B[1;32mdef\u001B[0m \u001B[0mtranspose\u001B[0m\u001B[1;33m(\u001B[0m\u001B[0mself\u001B[0m\u001B[1;33m,\u001B[0m \u001B[0maxes\u001B[0m\u001B[1;33m=\u001B[0m\u001B[1;32mNone\u001B[0m\u001B[1;33m,\u001B[0m \u001B[0mcopy\u001B[0m\u001B[1;33m=\u001B[0m\u001B[1;32mFalse\u001B[0m\u001B[1;33m)\u001B[0m\u001B[1;33m:\u001B[0m\u001B[1;33m\u001B[0m\u001B[1;33m\u001B[0m\u001B[0m\n",
      "\u001B[1;31mAttributeError\u001B[0m: lower not found"
     ]
    }
   ],
   "source": [
    "\n",
    "# Vectorize the text using bag-of-words\n",
    "vectorizer = CountVectorizer()\n",
    "X_train = vectorizer.fit_transform(X_train)\n",
    "X_test = vectorizer.transform(X_test)\n",
    "\n",
    "# Train a support vector machine (SVM) classifier\n",
    "model = SVC()\n",
    "model.fit(X_train, y_train)\n",
    "\n",
    "# Evaluate the model's performance on the testing data\n",
    "accuracy = model.score(X_test, y_test)\n",
    "print(\"Accuracy:\", accuracy)"
   ],
   "metadata": {
    "collapsed": false
   }
  },
  {
   "cell_type": "code",
   "execution_count": null,
   "outputs": [],
   "source": [],
   "metadata": {
    "collapsed": false
   }
  },
  {
   "cell_type": "code",
   "execution_count": 69,
   "outputs": [
    {
     "data": {
      "text/plain": "                                                  title   same  \\\n7762                A Special Rendition of O Holy Night  False   \n8002      Jack Black sings Marvin Gaye in HIGH FIDELITY  False   \n4993                                           Sun halo  False   \n540                               Shine It On, Rudolph!  False   \n2205  What’s a nostalgic game you love that you genu...  False   \n...                                                 ...    ...   \n3536  [OC] I have small hands, but this bunny is sma...  False   \n3195  Pretty much me in a few hours...maybe a touch ...   True   \n2092  An article about how one can use GPT-3 and Sta...  False   \n5455                                      Plague Doctor  False   \n6184  Sensitive-content screens, like those on Insta...   True   \n\n     actual_subreddit predicted_subreddit  \n7762           videos           AskReddit  \n8002           videos           worldnews  \n4993             pics           AskReddit  \n540             funny             science  \n2205           gaming               Music  \n...               ...                 ...  \n3536             Awww               funny  \n3195             Awww                Awww  \n2092           gaming               Music  \n5455             pics              gaming  \n6184          science             science  \n\n[1672 rows x 4 columns]",
      "text/html": "<div>\n<style scoped>\n    .dataframe tbody tr th:only-of-type {\n        vertical-align: middle;\n    }\n\n    .dataframe tbody tr th {\n        vertical-align: top;\n    }\n\n    .dataframe thead th {\n        text-align: right;\n    }\n</style>\n<table border=\"1\" class=\"dataframe\">\n  <thead>\n    <tr style=\"text-align: right;\">\n      <th></th>\n      <th>title</th>\n      <th>same</th>\n      <th>actual_subreddit</th>\n      <th>predicted_subreddit</th>\n    </tr>\n  </thead>\n  <tbody>\n    <tr>\n      <th>7762</th>\n      <td>A Special Rendition of O Holy Night</td>\n      <td>False</td>\n      <td>videos</td>\n      <td>AskReddit</td>\n    </tr>\n    <tr>\n      <th>8002</th>\n      <td>Jack Black sings Marvin Gaye in HIGH FIDELITY</td>\n      <td>False</td>\n      <td>videos</td>\n      <td>worldnews</td>\n    </tr>\n    <tr>\n      <th>4993</th>\n      <td>Sun halo</td>\n      <td>False</td>\n      <td>pics</td>\n      <td>AskReddit</td>\n    </tr>\n    <tr>\n      <th>540</th>\n      <td>Shine It On, Rudolph!</td>\n      <td>False</td>\n      <td>funny</td>\n      <td>science</td>\n    </tr>\n    <tr>\n      <th>2205</th>\n      <td>What’s a nostalgic game you love that you genu...</td>\n      <td>False</td>\n      <td>gaming</td>\n      <td>Music</td>\n    </tr>\n    <tr>\n      <th>...</th>\n      <td>...</td>\n      <td>...</td>\n      <td>...</td>\n      <td>...</td>\n    </tr>\n    <tr>\n      <th>3536</th>\n      <td>[OC] I have small hands, but this bunny is sma...</td>\n      <td>False</td>\n      <td>Awww</td>\n      <td>funny</td>\n    </tr>\n    <tr>\n      <th>3195</th>\n      <td>Pretty much me in a few hours...maybe a touch ...</td>\n      <td>True</td>\n      <td>Awww</td>\n      <td>Awww</td>\n    </tr>\n    <tr>\n      <th>2092</th>\n      <td>An article about how one can use GPT-3 and Sta...</td>\n      <td>False</td>\n      <td>gaming</td>\n      <td>Music</td>\n    </tr>\n    <tr>\n      <th>5455</th>\n      <td>Plague Doctor</td>\n      <td>False</td>\n      <td>pics</td>\n      <td>gaming</td>\n    </tr>\n    <tr>\n      <th>6184</th>\n      <td>Sensitive-content screens, like those on Insta...</td>\n      <td>True</td>\n      <td>science</td>\n      <td>science</td>\n    </tr>\n  </tbody>\n</table>\n<p>1672 rows × 4 columns</p>\n</div>"
     },
     "execution_count": 69,
     "metadata": {},
     "output_type": "execute_result"
    }
   ],
   "source": [
    "# Select the titles for the test set samples\n",
    "test_titles = df['title'][test_indices]\n",
    "\n",
    "# Create a dataframe to hold the results\n",
    "same = y_test == y_pred\n",
    "df_results = pd.DataFrame({'title': test_titles, 'same':same, 'actual_subreddit': y_test, 'predicted_subreddit': y_pred})\n",
    "\n",
    "\n",
    "# Display the results\n",
    "df_results"
   ],
   "metadata": {
    "collapsed": false
   }
  },
  {
   "cell_type": "code",
   "execution_count": 57,
   "outputs": [
    {
     "data": {
      "text/plain": "                                                  title actual_subreddit  \\\n1203    (0, 5981)\\t1\\n  (0, 6396)\\t1\\n  (0, 10184)\\t...        AskReddit   \n7186    (0, 993)\\t1\\n  (0, 2879)\\t1\\n  (0, 3742)\\t1\\...        worldnews   \n110     (0, 368)\\t1\\n  (0, 655)\\t1\\n  (0, 2202)\\t1\\n...    announcements   \n5981    (0, 569)\\t1\\n  (0, 2152)\\t1\\n  (0, 3402)\\t1\\...          science   \n4045        (0, 773)\\t1\\n  (0, 4004)\\t1\\n  (0, 6240)\\t1            Music   \n...                                                 ...              ...   \n2709    (0, 773)\\t1\\n  (0, 941)\\t1\\n  (0, 5244)\\t1\\n...           gaming   \n3420    (0, 773)\\t1\\n  (0, 1202)\\t2\\n  (0, 3206)\\t1\\...             Awww   \n3936    (0, 4424)\\t1\\n  (0, 5708)\\t1\\n  (0, 9761)\\t1...            Music   \n2275    (0, 655)\\t1\\n  (0, 773)\\t2\\n  (0, 2657)\\t1\\n...           gaming   \n6211    (0, 773)\\t1\\n  (0, 1208)\\t1\\n  (0, 1474)\\t1\\...          science   \n\n     predicted_subreddit  \n1203           AskReddit  \n7186           worldnews  \n110            AskReddit  \n5981             science  \n4045               Music  \n...                  ...  \n2709               funny  \n3420                Awww  \n3936               Music  \n2275              gaming  \n6211             science  \n\n[1672 rows x 3 columns]",
      "text/html": "<div>\n<style scoped>\n    .dataframe tbody tr th:only-of-type {\n        vertical-align: middle;\n    }\n\n    .dataframe tbody tr th {\n        vertical-align: top;\n    }\n\n    .dataframe thead th {\n        text-align: right;\n    }\n</style>\n<table border=\"1\" class=\"dataframe\">\n  <thead>\n    <tr style=\"text-align: right;\">\n      <th></th>\n      <th>title</th>\n      <th>actual_subreddit</th>\n      <th>predicted_subreddit</th>\n    </tr>\n  </thead>\n  <tbody>\n    <tr>\n      <th>1203</th>\n      <td>(0, 5981)\\t1\\n  (0, 6396)\\t1\\n  (0, 10184)\\t...</td>\n      <td>AskReddit</td>\n      <td>AskReddit</td>\n    </tr>\n    <tr>\n      <th>7186</th>\n      <td>(0, 993)\\t1\\n  (0, 2879)\\t1\\n  (0, 3742)\\t1\\...</td>\n      <td>worldnews</td>\n      <td>worldnews</td>\n    </tr>\n    <tr>\n      <th>110</th>\n      <td>(0, 368)\\t1\\n  (0, 655)\\t1\\n  (0, 2202)\\t1\\n...</td>\n      <td>announcements</td>\n      <td>AskReddit</td>\n    </tr>\n    <tr>\n      <th>5981</th>\n      <td>(0, 569)\\t1\\n  (0, 2152)\\t1\\n  (0, 3402)\\t1\\...</td>\n      <td>science</td>\n      <td>science</td>\n    </tr>\n    <tr>\n      <th>4045</th>\n      <td>(0, 773)\\t1\\n  (0, 4004)\\t1\\n  (0, 6240)\\t1</td>\n      <td>Music</td>\n      <td>Music</td>\n    </tr>\n    <tr>\n      <th>...</th>\n      <td>...</td>\n      <td>...</td>\n      <td>...</td>\n    </tr>\n    <tr>\n      <th>2709</th>\n      <td>(0, 773)\\t1\\n  (0, 941)\\t1\\n  (0, 5244)\\t1\\n...</td>\n      <td>gaming</td>\n      <td>funny</td>\n    </tr>\n    <tr>\n      <th>3420</th>\n      <td>(0, 773)\\t1\\n  (0, 1202)\\t2\\n  (0, 3206)\\t1\\...</td>\n      <td>Awww</td>\n      <td>Awww</td>\n    </tr>\n    <tr>\n      <th>3936</th>\n      <td>(0, 4424)\\t1\\n  (0, 5708)\\t1\\n  (0, 9761)\\t1...</td>\n      <td>Music</td>\n      <td>Music</td>\n    </tr>\n    <tr>\n      <th>2275</th>\n      <td>(0, 655)\\t1\\n  (0, 773)\\t2\\n  (0, 2657)\\t1\\n...</td>\n      <td>gaming</td>\n      <td>gaming</td>\n    </tr>\n    <tr>\n      <th>6211</th>\n      <td>(0, 773)\\t1\\n  (0, 1208)\\t1\\n  (0, 1474)\\t1\\...</td>\n      <td>science</td>\n      <td>science</td>\n    </tr>\n  </tbody>\n</table>\n<p>1672 rows × 3 columns</p>\n</div>"
     },
     "execution_count": 57,
     "metadata": {},
     "output_type": "execute_result"
    }
   ],
   "source": [
    "# Make predictions on the test set\n",
    "y_pred = model.predict(X_test)\n",
    "\n",
    "# Create a dataframe to hold the results\n",
    "df_results = pd.DataFrame({'title': X_test, 'actual_subreddit': y_test, 'predicted_subreddit': y_pred})\n",
    "\n",
    "# Display the results\n",
    "df_results"
   ],
   "metadata": {
    "collapsed": false
   }
  },
  {
   "cell_type": "code",
   "execution_count": 14,
   "outputs": [
    {
     "data": {
      "text/plain": "title        0\nsubreddit    0\ndtype: int64"
     },
     "execution_count": 14,
     "metadata": {},
     "output_type": "execute_result"
    }
   ],
   "source": [
    "#Check to see if there are any null entries\n",
    "df.isnull().sum()"
   ],
   "metadata": {
    "collapsed": false
   }
  },
  {
   "cell_type": "markdown",
   "source": [
    "### Train a doc2vec model on the post titles"
   ],
   "metadata": {
    "collapsed": false
   }
  },
  {
   "cell_type": "code",
   "execution_count": 92,
   "outputs": [],
   "source": [
    "\n",
    "# Get the post titles from the dataframe\n",
    "titles = df['title'].tolist()\n",
    "\n",
    "# Create a list of TaggedDocument objects from the titles\n",
    "documents = [TaggedDocument(words=title.split(), tags=[str(i)]) for i, title in enumerate(titles)]"
   ],
   "metadata": {
    "collapsed": false
   }
  },
  {
   "cell_type": "code",
   "execution_count": 16,
   "outputs": [],
   "source": [
    "\n",
    "# Create a doc2vec model\n",
    "model = Doc2Vec(documents, vector_size=100, window=2, min_count=1, workers=4)\n",
    "\n",
    "# Train the model\n",
    "model.train(documents, total_examples=model.corpus_count, epochs=100)"
   ],
   "metadata": {
    "collapsed": false
   }
  },
  {
   "cell_type": "code",
   "execution_count": 93,
   "outputs": [
    {
     "data": {
      "text/plain": "['This subreddit is closed for new posts and comments. For future updates, announcements, and news related to Reddit Inc. and the platform, please visit r/reddit.',\n 'COVID denialism and policy clarifications',\n 'Debate, dissent, and protest on Reddit',\n 'Sunsetting Secret Santa and Reddit Gifts',\n 'Second',\n 'An update on the recent issues surrounding a Reddit employee',\n 'Today we’re testing a new way to discuss political ads (and announcements)',\n 'Now you can make posts with multiple images.',\n 'Update to Our Content Policy',\n 'Upcoming changes to our content policy, our board, and where we’re going from here',\n 'Changes to Reddit’s Political Ads Policy',\n 'Introducing the Solidarity Award — A 100% contribution to the COVID-19 Solidarity Response Fund for WHO',\n 'Imposter',\n 'Introducing Reddit Polls, An All-New Post Type',\n 'Announcing our partnership and AMA with Crisis Text Line',\n 'Spring forward… into Reddit’s 2019 transparency report',\n 'Suspected Campaign from Russia on Reddit',\n \"The Extra Life Charity Award — Raise awareness for children's hospitals through gilding!\",\n 'Reddit Security Report -- October 30, 2019',\n 'Changes to Our Policy Against Bullying and Harassment',\n 'An Update on Content Manipulation… And an Upcoming Report',\n 'Announcing RPAN, a limited-time live broadcasting experience',\n 'Introducing Community Awards!',\n 'Update regarding user profile transparency',\n 'Introducing Custom Feeds (plus: a Community Contest with modest prizes!)',\n 'How to keep your Reddit account safe',\n 'Sequence Initiated.',\n 'Introducing r/redditsecurity',\n 'Reddit’s 2018 transparency report (and maybe other stuff)',\n 'It’s Election Day 2018 and We’ve Compiled Some Resources to Help You Vote',\n 'You have thousands of questions, I have dozens of answers! Reddit CEO here, AMA.',\n 'Revamping the Quarantine Function',\n 'It’s US National Voter Registration Day. Are You Registered?',\n 'MEME DAY: RESURGENCE — The EU Upload Filter Threat Is Back',\n 'An update on the FireEye report and Reddit',\n \"We had a security incident. Here's what you need to know.\",\n 'THE MEMES ARE SAFE. REPEAT, THE MEMES ARE SAFE (for now)',\n \"Extra! Extra! We're launching a News tab as a beta feature in our iOS app!\",\n 'Protecting the Free and Open Internet: European Edition',\n 'We’re updating our User Agreement and Privacy Policy (effective June 8, 2018!)',\n 'Fear is the path to the dark side… Introducing NIGHT MODE',\n 'Update: We won the Net Neutrality vote in the Senate!',\n '(Orange)Red Alert: The Senate is about to vote on whether to restore Net Neutrality',\n 'Reddit’s 2017 transparency report and suspect account findings',\n 'Starting today, more people will have access to the redesign',\n 'And Now a Word from Reddit’s Engineers…',\n 'New addition to site-wide rules regarding the use of Reddit to conduct transactions',\n 'A short-ish history of new features on Reddit',\n 'In response to recent reports about the integrity of Reddit, I’d like to share our thinking.',\n 'TIL Reddit has a Design team',\n 'Upvote the Downvote: Tell Congress to use the CRA to save net neutrality!',\n 'Because it’s Valentine’s Day… here’s a long-winded blog post about moderation and community styling in the redesign!',\n 'Update on site-wide rules regarding involuntary pornography and the sexualization of minors',\n 'Not my first, could be my last, State of the Snoo-nion',\n 'Protect your account with two-factor authentication!',\n \"It is Wednesday, my dudes. So here's an exciting native mobile update!\",\n 'The FCC’s vote was predictably frustrating, but we’re not done fighting for net neutrality.',\n 'Time for my quarterly inquisition. Reddit CEO here, AMA.',\n 'With so much going on in the world, I thought I’d share some Reddit updates to distract you all',\n \"Reddit's new signup experience\",\n \"It's that time of year again. We just published our 2016 Transparency Report.\",\n 'Place',\n \"TL;DR: Today we're testing out a new feature that will allow users to post directly to their profile\",\n 'Introducing r/popular',\n 'Out with 2016, in with 2017',\n 'Spoilers tags for posts!',\n 'Scores on posts are about to start going up',\n 'TIFU by editing some comments and creating an unnecessary controversy.',\n 'Hey, it’s Reddit’s totally politically neutral CEO here to provide updates and dodge questions.',\n 'Adding r/baseball as a default community for the remainder of the postseason.',\n 'Why Reddit was down on Aug 11',\n 'Click to hear about some of the things that have been keeping us busy. #2 will blow your mind.',\n 'Adding r/olympics as a default community',\n 'New Ad Type: Promoted User Posts',\n 'Karma for text-posts (AKA self-posts)',\n 'Sponsored headline tests: placement and design',\n 'Image Hosting on Reddit',\n 'Let’s all have a town hall about r/all',\n \"Let's talk about Orlando\",\n 'New look on Reddit mobile web: compact view',\n 'Affiliate links on Reddit',\n 'AMA about my darkest secrets',\n 'Reddit, account security, and YOU!',\n 'Reddit Mobile Apps',\n 'New and improved \"block user\" feature in your inbox.',\n 'For your reading pleasure, our 2015 Transparency Report',\n 'Updates to our media previews',\n 'Reddit in 2016',\n 'We are updating our Privacy Policy (effective Jan 1, 2016)',\n 'France',\n 'Account suspensions: A transparent alternative to shadowbans',\n 'CEO Steve here to answer more questions.',\n 'Marty Weiner, Reddit CTO, back to CTO all the things',\n 'I’m Marty Weiner, the new Reddit CTO',\n 'Content Policy Update',\n 'So long, farewell, auf Wiedersehen, good night!',\n \"Good morning, I thought I'd give a quick update.\",\n \"Let's talk content. AMA.\",\n 'Content Policy update. AMA Thursday, July 16th, 1pm pst.',\n 'An old team at reddit',\n 'We apologize',\n 'Removing harassing subreddits',\n 'Transparency is important to us, and today, we take another step forward.',\n 'Bringing back the reddit.com beta program',\n 'From 1 to 9,000 communities, now taking steps to grow reddit to 90,000 communities (and beyond!)',\n \"We're updating the reddit Privacy Policy and User Agreement and we want your feedback - Ask Us Anything!\",\n 'Time to talk',\n 'The official reddit AMA app has been released on Android',\n 'New reddit features: Controversial indicator for comments and contest mode improvements',\n 'reddit changes: individual up/down vote counts no longer visible, \"% like it\" closer to reality, major improvements to \"controversial\" sorting',\n 'We like you all, so we wanted to let you know about some Privacy Policy changes',\n 'We recommend that you change your reddit password',\n 'New reddit gold feature: orangereds when your /u/username is mentioned in comments.',\n 'New reddit gold feature: filter subreddits from /r/all',\n 'A quick note on CISPA and related bills',\n 'College Subreddit Takeover Week',\n \"We're back\",\n 'American Censorship Day - Stand up for ████ ███████ ',\n 'Nos ayudan a traducir, por favor (Help us translate, please!)',\n \"What's reddit doing with all those programmers?\",\n \"On reddit's outage\",\n 'reddit mold is now live!',\n 'When this link is 1 hour old, reddit will go down for scheduled maintenance (see inside for details)',\n 'When this post was about 90 minutes old (9:20pm PST) reddit went down for maintenance',\n 'When this link is 30mins old, reddit will go down for scheduled maintenance',\n 'redd.it: 30% less typing!',\n 'reddit gold gift creddits are now for sale!',\n 'Wanted: Beta testers for reddit gold gifting code',\n 'A number of reddit users have reported finding the cycbot.b virus on their Windows systems.',\n 'Quiet ads, new features, and an important video',\n 'reddit wants your permission to use your data for research to build some new features!',\n \"Here's that analysis we promised of what happened yesterday traffic-wise (tldr: everything went better than expected).\",\n \"reddit 101, or: click this if you're new around here! [updated]\",\n 'Why is there a mouse over the reddit logo?',\n 'New features to start your week',\n 'Why was reddit down!?   ',\n 'Welcome, Jeff!',\n 'new search',\n 'reddit gold: now with actual features!',\n 'This was a triumph (tldr: thanks everyone for helping so far with reddit gold)',\n 'Making ends meet (TLDR: Remember that joke about reddit gold? Well...)\\n',\n \"We've revamped reddit's mobile site!  Let us know what you think (not that we'd have to ask)\",\n 'The admins never do what you want? Now it is easier than ever for you to help! (New source code release, this time with a VM you can run yourself)',\n 'reddit\\'s May 2010 \"State of the Servers\" report (or: Why reddit was down on Wednesday)',\n 'New feature: inboxes show you your new mail, rather than crash the site',\n 'We are aware that reddit appears hung over, and we are tracking down the cause now.  Thank you for your patience.',\n 'We are aware that reddit appears hung over, and we are tracking down the cause now.  Thank you for your patience.',\n 'blog.reddit -- now this is how you pitch your product to an open source company',\n 'A reddit experiment: Help us catch spammers by verifying your email address',\n \"blog.reddit: We've revamped our sponsored links! [with an explanatory comic by TheOatmeal]\",\n '/r/random is now built-in (and we added some new options to the reddits bar at the top of the page)',\n \"You've just been drafted.\",\n 'Sorry about that :(',\n 'blog.reddit: you can now message all the moderators on a reddit at once. ',\n \"blog.reddit -- we've added private RSS feeds (inbox, saved, subscriptions, etc.)\",\n \"reddit has a new rendering engine! (hopefully you didn't notice)\",\n 'reddit does not run pop-over ads (at least on on purpose)',\n 'reddit will be down for maintenance for about two hours when this post is 22 hours old (10pm PST, 1am EST, 6am GMT, 5pm EDT)',\n 'blog.reddit -- Messaging updates, round 2: we added conversations and an \"unread\" tab',\n 'reddit down for maintenance tonight 10pm Pacific (GMT -8)',\n \"blog.reddit -- We've updated (and hopefully improved) the messaging interface.\",\n 'About the little red \"NSFW\" that appears next to posts...',\n \"Sorry for the slowness in voting and commenting today.  We're working to fix it.\",\n 'blog.reddit -- self serve advertising on reddit is now open for business!',\n 'blog.reddit -- we added a safe for work option',\n 'Introducing: /r/blog and /r/announcements',\n '7 tickets for barbie movie, please',\n 'thought of a genius way to fly with creatine powder without looking like a cocaine smuggler',\n 'Walmart has a plan to help with inflation and holiday shopping',\n 'My wife decided to make the gingerbread penguins into nightmare fuel.',\n \"I'm at a coffee shop and the woman at the table next to me asked her date what type of rock he thinks he'd be\",\n 'a·bom·i·na·ble (adj): worthy of or causing moral revulsion',\n 'There\\'s \"food\" in my food',\n 'At my pharmacy...',\n 'Update: I baked the dough.',\n 'Stupid sexy.... Rudolph?',\n \"I found a set of tongs that doesn't work.\",\n 'Battle of Yin and Yang',\n 'Frosty is on the naughty list this year in my opinion.',\n 'Must have taken a pretty funny joke to loose this much of his humor',\n 'The name of the mixed drinks section on this menu at a local restaurant',\n \"Ornament found on my in-law's tree...\",\n \"Let's jump on a pogo stick in the kitchen\",\n \"Wife wasn't very happy with what I did with the leftover gingerbread dough\",\n 'Bags Fly Free!',\n 'Are you okay?',\n 'Polar plunge for our Fantasy Loser',\n 'Runaway donkey returns in time to perform in Finnish Christmas pageant',\n 'Thanks for the sock pictures',\n 'Banana Dog',\n 'I love pizza.',\n 'what kind of mustard?',\n 'Shrek Cake.',\n 'Wednesday and THING',\n 'Back in highschool, my buddy and I really committed to the costume party',\n 'The very rare and elusive lemon turkey.',\n 'Very odd placement…',\n 'Quite possibly the funniest scene in anime imo',\n 'ahhh the holidays...',\n 'I feel called out by Little Inferno.',\n 'Yadi knows cheese',\n 'I knew things were getting expensive, but gat dang that’s a pricy meal',\n 'American flag covers up the logo of the Chinese company',\n 'He \"drove 14 hours to have my skull detached from my spine,\" because it was pushing into his brain. Well... That, and to make a Dad joke.',\n 'Locate all the lost pets in your area with \"pet telepathy\"',\n 'Astronaut Barbie and her... sparkly skirt',\n 'I was looking for a backpack for school and this was what Amazon recommended',\n 'I think somethings a little off with my search results...',\n 'My favorite Santa I gave my mom.',\n 'We Cant All Win at Life',\n 'About damn time!',\n 'Today’s musicians can’t come up with brilliant lyrics like they did during the old days',\n 'Funni Catt.',\n 'Note to self: Do NOT have third graders draw an example of a thermometer😅',\n 'Seen in the kitchen…at least the kids have learned to put the cover back on…',\n \"Sam Bankman-Fried's request for bail on grounds of being a depressed vegan denied due to redundancy.\",\n 'Someone tell me WTH is this?',\n 'Looks like Santa gets a gift on Christmas, too...',\n 'Ya Better watch out..!',\n 'Flavor Palette',\n 'They added the wrong labels 😂',\n 'Playing Cat-Opoly and this is the starting spot.',\n \"I think the play I'm in has some undertones...\",\n 'What a steal!',\n 'Another gem from my 7 year old.',\n 'Can’t miss any of the game!',\n \"My school's English department always has the best puns\",\n 'Wonder if it tastes different',\n \"Seriously, is there nothing this guy *can't* do?\",\n 'who wore it better?',\n 'The way Walter likes to sleep is making my guests uncomfortable',\n 'Puss In Boots takes on Spicy Chicken Wings on Hot Ones',\n 'Fun Holiday Cards',\n 'Masahiro Sakurai, your son has returned seeking the destruction of Nintendo.',\n 'I wonder who it is',\n 'Unable to steal pet dog, 3 men kidnap man’s brother and demand dog as ransom',\n 'This IOS game app review',\n 'Somebody has a very different idea of festive cheer',\n 'Neighbors keeping it classy for Christmas',\n \"It's either a Texan Hanukkah or Kosher Paganism.\",\n 'My gf tried to make a melting snowman..',\n 'dear ladies 🎅🤶',\n \"She didn't get his number!\",\n 'good joke man',\n 'Some of my best jokes of 2022! 🐛',\n 'My wife way of getting the bacon ready to be cook is something I will never understand…',\n \"filled up my gas, I couldn't decide on what to do\",\n 'Amusing laser collar. The things I find in my spam email.',\n 'baby names are difficult',\n 'Artist takes every drug known to man, draws self portraits after each use.',\n 'If I Give The Cats A Bath',\n 'Thank you for riding United Felines',\n 'Pranked my mom',\n 'Swing them hard!',\n 'why are you staring?',\n 'How funny do you think this joke is?',\n 'My wife & I made our first Christmas cards. How’d we do?',\n 'Apocalypse',\n 'My yearly nativity setup',\n 'Someone wanted to be funny in the my local Crafts section',\n 'AMD RX 7900XT pricing seems to be a bit off on Computeruniverse :)',\n 'I wish I was a dog. I wish I was a dog. I wish I was a dog.',\n 'You … you killed him!!',\n \"If Disney has taught me one thing, it's that someone tried to steal some honey and is hiding from the bees now\",\n 'My old jobs idea of a “conspicuous place”',\n 'Santa being inappropriate.',\n 'You can tell by the way I eat my ants',\n 'Well this is a shitty situation..',\n \"Santa's getting some extra help\",\n 'Looking for recommendations for a person or company that can do a camo wrap like this?',\n 'A man’s gotta breath',\n 'Snakes have clitorises, and scientists finally found them',\n \"I'm sensing that this vehicle may be unsafe to drive (I'm an empath)\",\n 'I do time management like Goodreads.',\n 'Damn, she did you like that, huh?',\n 'Just Zlatan things',\n 'noice',\n 'Left a note for the UPS Guy',\n 'Cryptic cash registers.',\n 'Hard work',\n \"Best pet I ever had, her name was Michelle O'Llama\",\n 'Got a surprise during a colonoscopy today.',\n \"So anyway, I'm no longer welcome at the cookie decorating party\",\n 'I guess I’ll be waiting a while..',\n 'This person has attempted to unlock your phone',\n 'Shoutout to blue people fighting colonizers, gotta be my favorite genre',\n 'Can’t have shit in Detroit',\n 'Delta Passenger Puts Down Mattress And Goes To Sleep At The Gate',\n 'Sometimes you just have to do the thing',\n 'Clearly the science backed choice for male enhancement: Spotted in a convenience store - Knoxville, TN',\n 'No, this is Patrick.',\n 'The exact time it should take to go from Kissing to Fucking has been proven: 2 hours and 1 minute.',\n 'Stocking stuffer for the wife.',\n 'Only 133 steps',\n 'Steal while \"shop with a cop\" is going on.',\n \"Grandpa's Wisdom\",\n 'And God is….',\n 'getting a leg up on my Christmas shopping',\n 'Oh yeah, keep giving me the service. Give it to me like you did before… Mmm…',\n 'Three signs you might be a bad driver',\n 'Fiance got a vasectomy today...',\n 'Bought my little cousin pokemon cards for Christmas, Amazon though I might also be interested in this stuff because of it...',\n 'Even Mark Rober thinks iPhone is changing nothing.',\n 'This is war!!',\n 'Put card in ATM at a 7/11 got cash back. Would recommend?',\n \"I like Christmas. I'm almost sure of it.\",\n 'Maybe people shouldn’t hang their wetsuits against the garage doors…',\n 'Poor Mannequin needs more than pants.',\n 'H.E.R. is on first',\n 'the Ultimate Revenge. Edit by @blixsem on IG',\n 'Best Christmas Card So Far',\n 'F**k you!',\n 'El Supermano',\n 'God mode \"ON\"',\n 'Gingers have no souls?',\n 'Blue did the thing',\n 'Real life mario kart on my street',\n '\"Thanks grandma, I love it\"',\n 'My toddler had no mercy for the angel from her toy nativity scene',\n 'Spotted on the back of a plow truck',\n 'This leaf by M brand',\n 'Shoutout to the 10% of the population that feels this',\n 'Sneezing in a barbershop.',\n 'I guess that is supposed to look like a fox?!? 🤣🦊',\n 'This sign on the wall of my school’s sex ed room',\n 'Junk in the trunk',\n 'You think he knows? 😂 Maybe he does?!',\n 'Some days we all feel like bottom penguin...',\n 'Found this dude driving around town!',\n \"This is how I wrapped the gift for secret Santa at work. It's potpourri, a candle and a small fake plant\",\n 'In Russia baby change you. ~Yakov Smirnoff.',\n \"No, YOU'RE an...\",\n 'Say it out loud',\n 'Sometimes Sheetz gives life advice',\n 'Shampoo company trying to appeal to the gaming community 😂',\n 'DoorDash theft caught on camera',\n 'Funny title inside a crammed store',\n 'Found this in an old journal:',\n \"Local shelter nabbed this guy and he looks like he wasn't happy about it.\",\n 'Festive decoration ideas for the hairy ones!',\n 'Damn',\n 'Hey! Anyone lost a sperm?',\n 'I was told to bring a gift for our office party. So I’m bringing tequila.',\n 'Out of deep frustration with a client, a hero was born: Badgeicus',\n 'is the world ready for this?',\n 'Say it really fast!',\n 'Rib Crib guy is a Golden Corral customer',\n 'Decorating for Christmas on a tight budget.',\n 'My Smart App is tired of me switching off the light switch instead of using the app to control the smart bulb.',\n 'my alarm',\n '“Hooman, your water supply is insufficient”, says cat, before booping it',\n 'A little worried about my kid',\n 'My wife went to the flea market and brought home a wall decoration for the bathroom',\n \"I must say I'm intrigued by the plot for this Barbie movie.\",\n 'Proctologist Santa',\n 'Santa had a little too much to drink last night.',\n 'Next to the Aquadome Berlin. it makes sense now',\n 'The Dubliners - The Sick Note',\n 'Perfect pause',\n 'Name that tactic',\n 'I guess my wife was right all along',\n 'Time to install some games!',\n 'Santa Clause in Brasil',\n 'Men are like waffles. Women are like spaghetti.',\n 'Bubble ball \"Football\", definately not just fighting',\n 'I now know what they do with deceased ppl in Belgium!…🤨',\n 'Is anyone behaving badly just to get coal in their stocking...',\n 'The missus asked if we could watch something Christmassy on the TV, so I switched FIFA to snowy conditions.',\n 'Landlords are people??',\n 'Pesky mechasauruses eating up the buildings >:(',\n 'Just another day in Norway',\n 'Great Company😂',\n 'TTS Bot has a major stroke',\n 'I made a ceramic incense holder that fits on a turntable.',\n 'Sign I encountered at my local beauty supply store in philly lol',\n \"Ellen's Tribute To DJ Twitch\",\n 'Reddit recap forgot to mention the tune of the year. So, here it is.',\n 'outta the way, people!',\n 'I’ve been waiting my whole life for this moment',\n 'anyone remember this joke of a flavor',\n 'Wonderfully inspiring some of these books! 🙌🏻',\n 'Daddy, do you know that knowledge can be glowing?',\n 'God bless Australians',\n 'This is why sticker placement (on library books) matters.',\n 'Sat down for a “comfort break” and couldn’t help but laugh',\n 'Cat doesn’t want to be woken up, knocks down camera!',\n \"My neighbor's favorite holiday will ALWAYS be Halloween :D (OC)\",\n 'Life is not a fairytale..',\n 'In case of fire...DANCE with the flames!',\n 'My husband, sisters, and I keep a group chat open and like to change it every so often',\n 'The Empire - Scranton, Pa',\n 'Before K-Drama, there was K-Anime',\n 'The secret ingredient is suffering.',\n 'A cave in “ pound town” Kenya',\n \"The perfect fortune cookie doesn't exist-\",\n \"From a Holocaust clown to disinheriting his kids - it's Jerry Lewis!\",\n 'merry Christmasfingers!',\n \"Y'all thought 'Not-So-Fun Size' wasn't real...\",\n 'My kid has a stomach ache',\n \"Keep Going, Y'all Seen Me Fall\",\n 'Oh shit oh fuck',\n 'Whole Foods ad has an itchy…',\n 'My oven is always so happy to see me.',\n 'Is this like the end of never?',\n 'How’s the war going?',\n '\"Officer I Swear Jesus was Driving\"',\n 'The tables have turned, cat!',\n 'Got a new ornament....',\n 'Hal Wilkerson Hit And Run',\n 'Bro I am getting bread how did you know?',\n 'Walter Runs Away (BrBa/MITM mashup)',\n 'Jana Pet Psychic - EXTENDED SCENE - Lunatics',\n 'Name a better duo',\n 'Tough decision while searching for gifts any woman would love',\n 'Flying sucks',\n 'Just a bit hot',\n 'The most famous german superhero.',\n 'Did I Die or Turn 50?',\n 'Wife got this for an office gift. Thought it was funny and I enjoyed the card that came with it.',\n 'Not-So-Fun Size',\n 'A typical Yale rejection',\n 'I rember perl horber',\n 'Just got my invite! I’ll be sure to think of you all while pulling strings of my shadow governments.',\n 'The work whiteboard needed a little holiday spirit.',\n 'It’s easy to tell who patted you on the back when only one of your friends has 4 fingers',\n 'Snoo IRL',\n 'Maybe it’s just me…',\n 'Name tag i found at work.',\n 'My neighbor took his complaining to the next level',\n 'Not even a day after our dog had a mass removal, I ended up having an emergency appendectomy. Wife is taking care of both of us.',\n 'You mess with a bee, you get the hive',\n 'Does she like it rough or should I',\n 'love the subtle humor! 😉',\n 'This pump has seen some shit',\n 'Otherworldly',\n 'Put a cutout of Nic Cage on our front door. Gives me a scare every time I walk by.',\n 'Any day you want, as long as you want Monday.',\n '11” x 9”',\n 'Fostered a dog for a few days after its owner passed, and the shelter was full. My sister-in-law (and all of us) were so smitten.',\n 'Don’t you hate it when Meowmans knock at your door?',\n 'cat playing hide&seek',\n 'Note with flowers',\n 'Graffiti is frowned upon, but this gave some housekeepers a good laugh today.',\n 'Engineers Celebrating Christmas',\n 'Judging by the company name, the founders’ English skills were rather poor.',\n 'Help me name the new smart appliance.',\n \"it's too easy for my brother\",\n 'My girlfriend picked out our tree herself this year. I think she might be pining for something.',\n 'I feel uneasy',\n 'You were supposed to destroy the Sith, not join them',\n 'Music from Therapy Session',\n 'Newfie drinkin',\n 'I work at a gym and this is the bottle of one of our members',\n 'F(un)',\n 'Any moment could be the last one...',\n 'Fancy shmancy',\n 'Damn, I missed the first part. Available on Steam maybe?',\n 'I started with the words \"Nintendo is bad because,\" and let autocorrect write the rest... 😅',\n \"We can't watch this episode any time soon.\",\n 'What standardized testing looks like for American adults.',\n 'Decisions , Decisions',\n 'Hard head crew’s first performance (OC)',\n 'Lets keep on throwing plastic into seas!',\n 'Icy steps in flip flops',\n 'caught red handed!',\n 'Hobby Lobby really trying diversify sales this holiday season',\n 'Croatian football fans have Knoll Doll, UK fans have Knoll Troll',\n 'Bought a vape today, here’s the cable that came with it',\n 'Triggered while house hunting',\n \"She's really like a Fortnite character\",\n 'Created this in my kids child/parent art class',\n 'Arizona Police Ticket Driver For Carpooling With Inflatable Grinch',\n 'Are these fireworks flashy enough?',\n 'Marker manufacturer left out a couple of key words',\n 'This should be Christmas number 1 every year',\n 'The Simpsons signs',\n 'confidence',\n 'Jordan Peterson tries to Tate',\n 'Advertisement for vodka in Utah',\n 'The gold standard in timely, honest reporting',\n 'I Wwon!',\n 'Took some gummies and got really into wrapping this pot.',\n 'Do you have a hall pass?',\n \"Some questions you just shouldn't answer\",\n 'Waste of 10 seconds',\n 'Y’all liked my chest nuts sweater last year… so here’s this year’s mistle toe',\n \"My Daughter's Letter to Santa from School\",\n \"My Doctor's Office is in the Holiday Spirit\",\n 'If there’s a mirror, there’s a way',\n 'Airfrying on a train. Why not?',\n \"Scene (and heard) at the doctor's office.\",\n 'The next evolution of AI has begun...',\n 'Mad science is naughty business',\n 'The cake I made for my little brothers 18th birthday',\n 'My husband will NEVER guess what I got him for Christmas',\n '“The investment guide the Antichrist doesn’t want you to read…”',\n 'Copying the humans in the yoga studio',\n 'This is an actual concept video for a flying car startup.',\n 'The DMV Gets What It Deserves!',\n 'But first, have a couple beers',\n 'I feel like Amazon should have charged more for these gloves. That’s one hell of a bombshell!',\n 'Alright so i messed with auto tune and stuff. Now im going to play this in discord on Christmas.',\n \"It's Christmas, time to summon MariahZord\",\n '“That Ones Not even Real”😂😂 Then we Have Ninu Blu Rapping his unreleased UTG Verse😂',\n 'The Mask in The Witcher 3',\n 'That’s not the marketing slogan I’d have gone for, but okay',\n 'I think Shein might need a proofreader...',\n 'Found in a 1991 world juniors magazine (my husband and his brothers were teens).',\n 'Are ready for Christmas now?',\n 'The Treaty of Westphalia - Diplomacy behind closed doors when a country is up for grabs in the 17th Century...',\n 'Orifice furniture that works',\n 'Our Hero 🦸\\u200d♂️ 😂',\n 'Tarzan',\n 'Never heard of this game before lol',\n \"I'm sick of these people blocking the vehicle recharging stations.\",\n 'someones mum said no',\n \"Found Remi murdered in the streets of Paris :'(\",\n 'looking for stocking stuff for the cats and cane across this.',\n 'This birthday card my roomate was given at his party',\n 'The placement of this security sticker',\n 'A 100 male smurfs and 1 female. The blue thing? Is that out of control STDs',\n 'Any ideas how you would say that?',\n 'Hmmmm…',\n 'Someone call 911, I think she’s underage driving.',\n 'Took our dog for Santa pictures... I got this in the photo package as an -extra-',\n 'My Desk Has a Large Banana',\n 'Saw this milk ad and immediately thought of Ron',\n 'My Funniest Valorant Clip!😂',\n 'You can try anything once!',\n 'Bringing back Einstein in a time machine',\n 'I was just reminiscing about the Jerky Boys. I miss prank calls. Maybe it’s a guy thing but my wife never heard of them.',\n 'Well on that note',\n 'Construction humor',\n 'Learning channel sure has changed since I was a kid',\n 'yum',\n 'My OXO bathroom squeegee created a face',\n 'Everyday my neighbors hotspot',\n 'The top suggestion when searching for charcuterie',\n 'Side act takes over Christmas Concert',\n 'Beard went gray. I had to update my yearbook stamp.',\n 'Shine It On, Rudolph!',\n 'woke up to this.',\n 'Only In Ohio',\n 'My Uber Eats Delivery Guy Tonight',\n 'Sign I made for Christmas',\n 'Triumph the Insult Comic Dog - Blackwolf The Dragon Master',\n 'my wife and I during our honeymoon',\n 'Merry Christmas! Shitter was full',\n 'New Alexa meets two toddlers',\n 'I see our scientists are doing important work.',\n 'Whoops',\n 'He’s doing what now?',\n 'Scrotisserie Chicken',\n 'Damn Harry.',\n 'This dudes hair on Dateline',\n 'Bearing it all',\n 'Why are you looking at me like that',\n 'A true mathematician',\n 'For Secually Active Men',\n 'Mario tells me I have no bitches',\n 'Wrapping paper is tribal yet futuristic.',\n 'Um, I’m confused',\n 'Ah yes, that beautiful province of Nouvelle-Ecosse as the locals would call it',\n 'I have achieved Easter egg status in Google maps!! Grabbed the closest thing to me which was a jug of Folgers coffee, I live in infamy....',\n 'need I say more?',\n 'Every xmas I give my kids a personalised card. This year I decided to mess with them.',\n 'Youtube being Youtube I guess, kinda creeps me out they allow these ads',\n 'Matt Damon has been arrested for shaving his head without a permit.',\n 'My dad has his colonoscopy tomorrow and this is what he put on his prescription laxative jug',\n 'Would you trust your health here?',\n 'ruroff the red-nosed reindeer',\n 'Alexa, play \"Hazzard to myself.\"',\n 'Charlie Day in Vacation',\n \"Happy Holidays from the neighbors who definitely won't murder you in your sleep\",\n 'I edited together clips from my auditions this year',\n \"My gift wrapping job for a gift exchange at my grandmother's house.\",\n 'My son is in kindergarten. One night i worked overnight on my town 911 and he was 20 minutes late because i overslept. This was the best i could do after the morning of bell i had. I didnt know it would end up on his record 😅😅',\n 'The gritters have names where I live',\n 'Don’t let female’s, Hot Cheerleaders or Cabin crew fly',\n 'The way my wife decorates for Christmas',\n 'Wasted Adulthood',\n 'Dating advice with Grandma',\n 'This elf on a shelf is helping himself',\n 'Greetings 101',\n 'FTX Saga',\n 'Oh yeaahuh',\n 'Our annual \"parenting chaos\" Christmas card - 9 years in a row...',\n '…',\n 'Bathtub Lego!',\n 'Glizzy Gladiator Trailer (2023 feature) -- a Cult Comedy Competitive Eating Flick',\n 'Not sure what’s worse, not getting any birthday cards or the only (physical) birthday card is from your StateFarm agent.',\n 'Family friendly',\n 'Ugly Beast',\n 'Winter 😏',\n 'Ah yes, inflation. Was $19.99. Now on sale for $21.59',\n 'No bridle no problem',\n 'Natures surprise',\n 'The way they look at me just makes my heart melt. High in Life game.',\n 'Laziest Tug-O-War Ever!!!',\n \"Haru doesn't like Hanukkah\",\n 'Why would the game put that at the end',\n 'Happy Holidays, ya creeps!',\n \"The most Florida picture I've ever taken.\",\n 'The ultimate move ever popped off 😂',\n 'The joy of Christmas is flooding us, and not only with snow, but with creativity as well ♡.',\n 'I saw el cheapo',\n 'Ouch 🤢',\n 'GET OUT THE WATER. (audio from👉 Easy way to lose your construction job by Active police cam/Youtube)',\n 'Damn Nicki. Why you gotta look at me like that?',\n 'A space family outing',\n 'Those twigs in your family tree that you neither knew nor cared about...',\n 'They just threw it up there to save time',\n \"this person decorating the bookshelf (hope it belongs here. it's funny for me at least)\",\n 'My friend today',\n 'Thanks Amazon',\n 'Tell me something from your childhood that still make you laugh as an adult.',\n 'Kevin Bacon Bacon',\n \"I've been working hard on my art for a while now and I feel like it's really coming along\",\n 'Got my fiance a big package for xmas. Gonna be spreading more than just christmas joy this year.',\n 'A fair rule spotted in a Vietnamese restaurant in NYC.',\n 'The Sign [OC]',\n 'Jousting in NYC',\n 'My wife didn’t have anything to put condiments in. She just threw it in with the bologna.',\n 'I was wondering why all my my floating plants were flipped over, then saw this turd…',\n 'coffee means life :D',\n 'DAILY AFFIRMATION',\n \"It's nice to see PJ Masks step up their game\",\n 'Ready to wrap my Christmas gifts.',\n 'thanks for the warning',\n 'The house where we used to live [OC]',\n \"It's like Daddy is always hiding behind a wall just to jump out whenever I pay my son a compliment...\",\n 'Introducing my son... Heat Miser!! 🤣🤣🤣',\n 'Cats fighting in slow motion with classical music in the background',\n 'That must be for me..',\n 'Microsoft Outlook wants me to talk like a pirate',\n 'Thrift store kettle has quite the sound',\n \"Santa's Coming!\",\n \"You've got to admit\",\n 'J-Raff Comics - The Beast',\n \"monster manual from the monster's perspective\",\n '\"I Forgot What I was Gonna Say\"',\n 'This is gonna be a great weekend',\n 'Madness',\n 'DPD showing me where my parcel is',\n 'Essays',\n 'Detroit Courthouse styling',\n 'Chairman of the Board [OC]',\n \"'Mortal Kombat' (1995)\",\n 'Squirrel was trying to square up with my sisters dog',\n 'The TV binge',\n '[OC] Teacher’s Pet',\n 'Grandpa spends a lot of time at the cemetery',\n 'Gotham Gym Leader',\n 'It’s cold out there today.',\n '10/10 buddy!',\n 'Job Hunt',\n \"In skin's wolf ship [OC]\",\n \"My Christmas's Cat!!!!!\",\n 'Human Hater',\n 'Left Overs',\n 'Knowledge',\n 'Unethical Private Investigator',\n '[OC] Devhead',\n 'My Mom tried to freeze soap bubbles. Guess what happened?🐱',\n 'some not so smart bread.',\n 'Master Oogway',\n 'Traffic light fail.',\n 'Warped - Transporter Malfunction',\n 'This was created by mistake',\n 'Fluffy Bits: Episode 1 | Gabriel Iglesias',\n 'For the low price of $99 how could you go wrong!',\n 'route rebuilt',\n 'Menopause Rhapsody',\n 'Robin Williams jokes around with Jim Varney.',\n 'The seldom seen snow snake.',\n 'well...',\n 'Gift',\n 'Breathe…',\n 'Tis the season',\n 'OKs happy hour. A criminally underrated. YouTube channel',\n 'Need to know if you have a princess on your hands? we come to you!',\n 'The card my 7 year old son gave me today that I will cherish forever.',\n 'They both did him dirty',\n 'The Peter Nguyen Essay Files',\n 'I think the pilot drank a couple too many martini’s…',\n 'OCD',\n 'Our neighbors have festive reindeer. Unfortunately for them, we have a bored Halloween skeleton looking for a bone to pick.',\n 'Always be riding that a*s',\n 'finally, a rectangle that suits MY needs.',\n 'Ludacris Fast and Furious- Triple F Podcast',\n 'The developer of elden ring',\n 'Poop',\n '3 more than me 🥲',\n 'How did I do',\n 'Consider it your final meal',\n 'Learn to Count With Reeses!',\n 'My cat demanding a bite of my food.',\n 'Oh God danm it.',\n 'Seems about right',\n 'True story',\n 'Shit Buddies',\n 'This was legitimately what came out of my fortune cookie. I am doomed',\n 'Fired',\n 'Your soul for the toilet.',\n '\"What seems to be the officer, problem?\"',\n 'How Jurassic park should have ended?',\n 'Training is hard',\n '\"I did NOT approve this sign...\"',\n 'Footage of Sam Harris ten minutes after he was transported to a world inhabited entirely by elf version of Sam Harris',\n 'Cashier says, “oooh, looks like you’re having sausage party!” No no no… it’s a Barbecue. We’re calling it a Barbecue.',\n 'Creative Shipping Company',\n '3AM Selfie During Guys Night Out',\n 'Bollywood is known for a lot of things but this has to be the funniest shit - that was meant to be serious - i have ever seen in my life (translation in comments)',\n 'Shiba Inu in kill mode',\n 'everyone needs to receive constructive criticism on their skills! Now you can review all the online scammers out there.',\n 'Picked up my daughter up at the airport after her first semester away from home and made a sign',\n 'Fries place in Melbourne',\n '\"hoothoot, enough. don\\'t scare the kid..\" \"b..but..\"',\n 'Forbidden biscuits.',\n 'The real reason there was no room for Jack on the door.',\n 'Asking the important questions in a Mexican restaurant bathroom.',\n 'well you know what they say, if one goes out then half go out',\n 'Un(fortunate)? Spot to stand',\n 'was it you, Joshua?',\n 'I was on a jog in rural Peru and heard something behind me...',\n 'My friend died because I couldn’t remember his blood type.',\n 'Merry Christmas!',\n 'Got the same card three years in a row..on accident',\n 'Successful Amazon Delivery and friendly chicken encounter',\n 'My freind loses a fortnite game',\n 'My keychain came with a screwdriver',\n 'Standing in line for the metro in Qatar',\n 'First rule of fart club is not to speak about fart club',\n 'This book I found in my college’s library',\n 'My new toilet seat came with special life instructions for men',\n 'Naming Wi-Fi Networks is one of the small joys in life',\n 'No more taking meds without glasses',\n 'Oilfield or adult entertainer?',\n 'This is Reacher. He wears sunglasses when we take him for rides 😎',\n 'Rest in piss',\n '\"That\\'s him in the picture\"',\n 'For the Baby Cheeses',\n 'This kids menu',\n 'Lil Guy Got The Moves',\n \"you are that person who doesn't like football;\",\n 'Failed guitar spin',\n 'All I want For Christmas Is VIEWS (Parody Song)',\n 'my search history is so quirky and funny guise',\n 'All I want For Christmas Is VIEWS (Parody Song)',\n \"Just celebrated a birthday. Didn't want to go Christmas decoration shopping.\",\n 'Classic United Airlines Solution',\n \"Modric may be losing, but he's still making time for impressions...\",\n 'Honesty from a kid.',\n 'Welcome to the hotel (sound needed)',\n \"The Coolest 12 y.o i've ever seen\",\n 'Phil Foden as a cat. Love it!',\n '*Deja Vu intensifies*',\n 'Can’t touch this',\n \"Children's entertainment on the snow. When we're child, we're made of plastic 😄.\",\n 'thought this was a kidnapping at first and second glance',\n 'Behold! The trifecta!',\n 'a dark joke',\n 'My dad broke the pole in his room',\n \"In case you've ever wondered what happens when the Rediwhip can gets dropped and breaks off most of the nozzle...(OC)\",\n 'My son thinks he is funny with the Christmas decorations.',\n 'I Tried a New Way to Hop a Fence',\n 'If looney tunes were produced in Bollywood',\n 'I finally know where babies come from...',\n 'Straight Comic is into man in audience',\n 'In Dimension A01 David Attenborough was Red in Shawshank Redemption.',\n 'Best ornament on my tree',\n 'oops',\n 'For a minute there I thought Geico had changed their mascot',\n 'Everyone knows about Spains famous Running of the Bulls, but how about the Dallas running of the Beds?',\n 'poor france district',\n '‘The Four Horsemen of Christmas’ ornaments I made for a co-worker during a slow day.',\n 'choose head',\n 'This was on a vending machine. CRONCH MMM',\n 'Nuclear Fusion Ignition Explainer',\n 'I luv them too.',\n 'Yelled “VAGINA!!” at my mom and aunts during a holiday party picture.',\n 'These instructions on my final',\n 'The cleaning robot quit today…',\n 'Man, coat and an orangutan',\n 'my kind of taxi',\n 'This instead of coal for Christmas',\n 'The apparently obvious choice for gamers',\n 'Snowmen aren’t supposed to have legs',\n 'The buttercup (this is what happens behind the scenes)',\n 'My wife made this sign for the holidays',\n 'This review for a pizza cutter',\n 'A squirrel gives a cookie to his neighbors',\n 'Messing with the wifey 101.',\n 'I had chatgpt rewrite the lyrics to the annoying song “Christmas Shoes” enjoy',\n 'Sonoran Desert Sense of Humor!',\n 'I can hear your eyes rolling from here',\n 'Not heard that one before',\n 'This targeted ad from Home Depot',\n \"Children's charity event coverage tainted by autocorrect\",\n 'Karate master entrance',\n 'unexpected cameo 👀',\n 'Whoopsies',\n 'Itsa Him!',\n 'Derp! I choose you!',\n 'My new favorite bumper sticker',\n 'Read the subject first then the email address',\n 'Another angle of granny falling into the pool.',\n 'Which Muffin are you feeling like today?',\n 'One minute late for feeding time… she is as bad as a cat, but can talk! (OC)',\n \"Some smokin' deals on Amazon this morning if you're looking for a inexpensive stocking stuffer!\",\n 'Lou Costello attempts to go ice-skating, and winds up playing \"crack the whip\" [from the 1943 Abbott & Costello film \"Hit the Ice\"]',\n 'The wreath in the hospital emergency department',\n 'Ooo, Gabriela! Who did you piss off?',\n 'The Ultimate “Ruh Roh” Face. (They Were Only Playing BTW)',\n '15 days could save you 15% or more on car insurance',\n 'watching me',\n 'no internet connection',\n \"I photoshop animals into things as a hobby. Here's a Pineappowl.\",\n 'cats are wild!!!',\n 'rat or a mouse',\n 'Jimmy Carr Edited... Hilarious!',\n 'Streamers discuss self-pleasure techniques',\n 'Funny and sad',\n 'Fetch!',\n 'We are all pieces of …',\n 'Got a new light today…kinda scared I might die of deeth today.',\n 'why are there dick trees in st. louis',\n '\" dance \"',\n 'mean what the?',\n 'Most BMW drivers are dicks but this is too much guys. 🤣',\n 'I hate people who say that Liam Neeson keeps making the same movie over and over.',\n 'I told my 8 year old to put these where the laundry stuff goes',\n 'Messi and vector',\n 'Great for a Christmas gift, I presume.',\n 'Catching your son being a little shit',\n 'Standing in line for check out, my wife turns to me and asks, \"weren\\'t you looking for cheesy tiddies?\"',\n 'A timely fortune I pulled',\n 'Fashion',\n 'Fun weekend planned',\n 'Nutkum i found in Turkey. Was a bit salty for my taste.',\n 'The Joke doesn’t go quite as planned.',\n \"I have no idea if this has been posted before but I'm laughing my ass off with every rewatch\",\n 'Is Delta messing with me?? I was researching flight prices to attend a metal show 😂',\n 'A neglected banana was sitting in the break room for a few days, so I decided to put it up on the wall and include some final touches…',\n 'Our Puppy’s Graduation from training photo. We are so proud.',\n \"Old habits die hard. Those pesky lip-readers don't stand a chance!\",\n 'Outside of Target. Dying to know the backstory…',\n 'Apparently, the Dodge was faster than poor Santa.',\n 'Quote the cat',\n \"Shee-e-ee-e-e-esh (found this in front of my job's building)\",\n 'I think I just missed my one chance at salvation.',\n 'Things are out of control in the housing market.',\n 'Keke Palmer SNL Reveal',\n 'Home',\n 'Thanks a lot, Amazon! My nephew’s xmas gift of finger skateboards has other stuff in it too (read the box!)',\n 'Maddie needs your wifi password to look for fucks to give.',\n 'I have ADHD, and I finally thought I found the answer guys',\n 'Family video is branching out',\n 'What do you get if you clone a member of the Wu-Tang Clan?',\n \"Got a thoughtful Christmas card from one of my neighbors (I don't smoke)\",\n 'SIRI NO-',\n 'The \"half\" part gets me every time for some reason...',\n 'The GREATEST GAME EVER!!!!!!!!!#%%^^',\n 'Positive shart',\n 'Was just gonna take a piss but.. ok, game on!',\n 'Killing Frosty with a Snowblower',\n 'Built a birdhouse with my 4 year. Accidentally sealed a banana in',\n 'This appeared without explanation in the lunch room',\n 'Merry Christmas, from Shaqta Claws',\n 'My sister sent this picture of her Nutcracker that lost its drum',\n 'Slipped on my way to work the other morning. Thought this was funny 💀',\n 'Christmas Gift',\n 'more toilet humour, courtesy of Japan',\n 'meat',\n 'We were having a nice moment...',\n 'What started as a joke has become a tradition.',\n 'Banana Republic has some interesting scarves on sale this season…',\n 'No games',\n 'Found this at school',\n 'Spotted dancing in village river',\n 'Construction worker by day and model night',\n 'This is a X-mas Sign😁😎🤣(OC)',\n 'Male existence summed up in a sentence.',\n 'This exercise in my workbook (remove the first sentence)',\n 'Mission snack get',\n 'She loves rolling down the stairs. [oc]',\n 'Glornack the destroyer and squish',\n 'get you some',\n \"My wife had to use a pair of pliers to turn on the hot water of our 70s era tub. We were trying to limp along until our full kitchen and bath remodel. It's finally done! This is one of my Christmas present to her this year.\",\n 'CRAZY ROCKET MAN SANTA WITH SNOW MISER MUSIC',\n 'Capitalism',\n 'Getting Londoners to work after the terrible snowstorms.',\n 'Gabry Landenkog',\n 'I asked my mom to send me a picture of my dog, who she is watching for the holidays. She sent me this \"proof of life\"',\n \"(I'm in 10th grade) For some form thing my teacher accidentally autofilled that everyone in the freshman and sophomore class's language is Arabic, our genders are all male, and we're all in elementary school and 3rd grade\",\n 'A car with hot wheels glued on it',\n \"Is this the Qatar's Hymn that everyone has been talking about?\",\n 'Our neighbour wanted to inform the residents about a reoccurring problem, but they made a grammatical mistake (forgot the\"the\"). I fixed it.',\n 'I animated a childhood story Bobby Lee told about his dad. Enjoy!',\n 'Saw this Moms when picking up my sister-in-law',\n 'egg',\n 'The White Lotus Monkey',\n 'Action Figure Manger',\n 'How big can she fit it?',\n \"This 'Reluctant Angel Doll' I found while Christmas thrift shopping\",\n 'woooOOOooooOOOOOOooooOO',\n '“What’s this? I’m bald with a beard? And my ears look normal? This could only be the work of… fAirY goDpArEnTS!!!”: Cosplay: Mr. Crocker from “The Fairly OddParents”: Feedback Appreciated!',\n 'I made a guide to the holidays',\n \"Day 3: They still haven't noticed.\",\n 'undeniable proof that bears shit in the woods..',\n 'Some child’s dream is coming true',\n 'In the restroom at my worksite today.',\n 'America The Beautiful',\n 'ScissorHands',\n \"Possibly the strangest bumper sticker I've ever seen\",\n 'Tick…tock…tick….tock…',\n 'Mondays after the weekend',\n 'Butt-ernut squash',\n 'My mom received this Christmas card in the mail from an old friend.',\n 'Unfortunately placed bat signal has made Batman look like he’s got terrible teeth',\n 'Television Power Couple! 📺',\n \"I'm A Better Arteest While Trippin. Dont ask What These Are, I'm Trying To Figure it Out\",\n 'So these are the Christmas cards my mum is sending out to her friends this year.',\n 'ah, human comedy, ever not changing.',\n 'These instructions in the (composting) toilets of a local skatepark/event centre',\n \"That's why i avoid anal\",\n 'The Perfect Man? :)',\n 'My mom made me the best bachelor party cake lol',\n 'I don’t this guy has any tolerance for BS….',\n 'Made my own holiday sweater for my company party',\n 'the only reason [OC]',\n 'merry christmas😁',\n 'Can’t wait to recommend this new product. Couldn’t be too hard, I’ll jump right on it boss.',\n \"I shouldn't have bought an ultra-low-cost airline ticket..\",\n 'Thanks for the sponsored ad Amazon!',\n 'for 2,50€, how bad could that be?',\n 'Look what they did to this poor car',\n 'I yelled at him for being noisy because he barked from the morning, and he was in vibrate mode from then on.',\n 'Did... Did Rick Astley just Rickroll me?',\n 'oh no..',\n 'Christmas completed in record time',\n 'I painted a cat exploring the cosmos',\n 'First Recorded Snowball Fight 1896 Revamped',\n 'my toilet has SEEN THINGS',\n 'Everyone is unique',\n 'What it should have been called.',\n 'Renewable you say?',\n 'It’s raining',\n 'WTF! Caroling Ornaments?',\n 'Wendigo',\n \"Elsa isn't sounding so good these days\",\n 'My mum always reminds me how I cried my eyes out the first time I saw Father Christmas. Took my daughter to visit him for the first time this week and she kept the tradition alive.',\n 'There is a festival in Nepal...',\n \"Took my dad's cat to the vet this morning. This was his reaction seeing me again later in the afternoon\",\n 'Honestly giving away a bike',\n 'DUI for Dr WHO.',\n 'will you accept',\n 'Guile delievering some cracking one-liners',\n '\"With a little Rust-ease, you too can look like me, kachow..\"',\n 'I played in a large Magic: The Gathering tournament this weekend. My opponent’s nearly $10k deck was in this box.',\n 'There is a Derpy Swordfish shark in my tapestry. 😅🤣 it’s supposed to be a feather but I can’t I see that face. LOL',\n 'Elf alternate ending',\n 'eggdog winter wonderland',\n 'Scheduked.',\n 'Coincidence? Or brilliant advertising?',\n 'Mayor Lois raising taxes',\n 'True story: Viagra Lowers the Risk of Alzheimer’s By 69%, Study Says',\n 'My man turned into a nipple',\n \"People love puzzles! This one is in NH, but don't all run out to get it at the same time ;)\",\n 'Suspect Not Mediocre',\n 'how one of my coworkers wrapped his secret santa gift',\n 'Best For Gift For Baby Showers!',\n 'Santa after all that milk & cookies',\n 'Best Car Ad Ever',\n 'What A Hog!',\n 'At parent - teacher night',\n 'Need a Winter Morning Pick-Me-Up? Try this!',\n 'Mom made me change the Elf’s hiding spot',\n 'My grocery keeping it real.',\n 'They tried...',\n 'I was sleeping peacefully while my girlfriend was watching The Goldbergs and I was awaken to this treat:',\n 'Silence [OC]',\n 'People',\n 'the commentator nearly killed me',\n 'do you guys like my snowflake?',\n 'Not size just technique',\n '130 lb newfie pulling little brother around',\n 'the name on this box made me burst out laughing',\n 'Work smarter, not harder',\n 'How can you put a price on such a masterpiece?',\n \"Banned from Twitter, I stared at my Cap'n McCain's and got an idea.\",\n 'Might as well give me a floppy drive.',\n 'My son fell perfectly timed with Joe Pesci in Home Alone',\n 'My neighbor’s 3-story tall Santa',\n \"As I'm getting older I'm starting to like my beard much more.\",\n 'In your mind…',\n 'Tumbleweeds attack City! My wife and I were first on the scene.',\n 'Customer service done right',\n \"My gf's gingerbread house...\",\n 'Yeah sure',\n ...]"
     },
     "execution_count": 93,
     "metadata": {},
     "output_type": "execute_result"
    }
   ],
   "source": [
    "titles"
   ],
   "metadata": {
    "collapsed": false
   }
  },
  {
   "cell_type": "code",
   "execution_count": 17,
   "outputs": [],
   "source": [
    "\n",
    "# Get the vectorized titles from the doc2vec model\n",
    "vectors = [model.infer_vector(title.split()) for title in titles]\n",
    "\n",
    "# Add the vectors to the dataframe as a new column\n",
    "df['vectors'] = vectors"
   ],
   "metadata": {
    "collapsed": false
   }
  },
  {
   "cell_type": "code",
   "execution_count": 18,
   "outputs": [
    {
     "data": {
      "text/plain": "                                                  title      subreddit  \\\n0     This subreddit is closed for new posts and com...  announcements   \n1             COVID denialism and policy clarifications  announcements   \n2                Debate, dissent, and protest on Reddit  announcements   \n3              Sunsetting Secret Santa and Reddit Gifts  announcements   \n4                                                Second  announcements   \n...                                                 ...            ...   \n8353                            Mukbang Has Gone To Far         videos   \n8354  GWAR goes door to door among the suburbs of Ri...         videos   \n8355  Justin Roiland & Mikey Spano join Oddheader to...         videos   \n8356                 Testing toilet flushing efficiency         videos   \n8357  My friend received a voicemail from his Dad, a...         videos   \n\n                                                vectors  \n0     [-1.1355639, -0.772142, 0.33601853, 0.30085954...  \n1     [-0.22140661, -0.042934902, 0.12624909, 0.0191...  \n2     [-0.23785444, 0.11020816, -0.059264645, -0.149...  \n3     [-0.26244256, -0.045981333, 0.28132874, -0.058...  \n4     [-0.034034044, 0.27952778, -0.053140096, 0.280...  \n...                                                 ...  \n8353  [0.13389727, 0.25366965, 0.034213733, -0.20066...  \n8354  [0.16855897, -0.30004513, -0.33736327, 1.26674...  \n8355  [-0.37707096, -0.0922984, -0.3191751, 0.096676...  \n8356  [0.012790001, -0.18439461, 0.113403104, -0.302...  \n8357  [-0.43146694, -0.04941784, 0.09678162, -0.0492...  \n\n[8358 rows x 3 columns]",
      "text/html": "<div>\n<style scoped>\n    .dataframe tbody tr th:only-of-type {\n        vertical-align: middle;\n    }\n\n    .dataframe tbody tr th {\n        vertical-align: top;\n    }\n\n    .dataframe thead th {\n        text-align: right;\n    }\n</style>\n<table border=\"1\" class=\"dataframe\">\n  <thead>\n    <tr style=\"text-align: right;\">\n      <th></th>\n      <th>title</th>\n      <th>subreddit</th>\n      <th>vectors</th>\n    </tr>\n  </thead>\n  <tbody>\n    <tr>\n      <th>0</th>\n      <td>This subreddit is closed for new posts and com...</td>\n      <td>announcements</td>\n      <td>[-1.1355639, -0.772142, 0.33601853, 0.30085954...</td>\n    </tr>\n    <tr>\n      <th>1</th>\n      <td>COVID denialism and policy clarifications</td>\n      <td>announcements</td>\n      <td>[-0.22140661, -0.042934902, 0.12624909, 0.0191...</td>\n    </tr>\n    <tr>\n      <th>2</th>\n      <td>Debate, dissent, and protest on Reddit</td>\n      <td>announcements</td>\n      <td>[-0.23785444, 0.11020816, -0.059264645, -0.149...</td>\n    </tr>\n    <tr>\n      <th>3</th>\n      <td>Sunsetting Secret Santa and Reddit Gifts</td>\n      <td>announcements</td>\n      <td>[-0.26244256, -0.045981333, 0.28132874, -0.058...</td>\n    </tr>\n    <tr>\n      <th>4</th>\n      <td>Second</td>\n      <td>announcements</td>\n      <td>[-0.034034044, 0.27952778, -0.053140096, 0.280...</td>\n    </tr>\n    <tr>\n      <th>...</th>\n      <td>...</td>\n      <td>...</td>\n      <td>...</td>\n    </tr>\n    <tr>\n      <th>8353</th>\n      <td>Mukbang Has Gone To Far</td>\n      <td>videos</td>\n      <td>[0.13389727, 0.25366965, 0.034213733, -0.20066...</td>\n    </tr>\n    <tr>\n      <th>8354</th>\n      <td>GWAR goes door to door among the suburbs of Ri...</td>\n      <td>videos</td>\n      <td>[0.16855897, -0.30004513, -0.33736327, 1.26674...</td>\n    </tr>\n    <tr>\n      <th>8355</th>\n      <td>Justin Roiland &amp; Mikey Spano join Oddheader to...</td>\n      <td>videos</td>\n      <td>[-0.37707096, -0.0922984, -0.3191751, 0.096676...</td>\n    </tr>\n    <tr>\n      <th>8356</th>\n      <td>Testing toilet flushing efficiency</td>\n      <td>videos</td>\n      <td>[0.012790001, -0.18439461, 0.113403104, -0.302...</td>\n    </tr>\n    <tr>\n      <th>8357</th>\n      <td>My friend received a voicemail from his Dad, a...</td>\n      <td>videos</td>\n      <td>[-0.43146694, -0.04941784, 0.09678162, -0.0492...</td>\n    </tr>\n  </tbody>\n</table>\n<p>8358 rows × 3 columns</p>\n</div>"
     },
     "execution_count": 18,
     "metadata": {},
     "output_type": "execute_result"
    }
   ],
   "source": [
    "df"
   ],
   "metadata": {
    "collapsed": false
   }
  },
  {
   "cell_type": "markdown",
   "source": [
    "### Train an XGBoost model to predict which subreddit each post belongs to"
   ],
   "metadata": {
    "collapsed": false
   }
  },
  {
   "cell_type": "code",
   "execution_count": 19,
   "outputs": [],
   "source": [
    "from sklearn.model_selection import train_test_split\n",
    "from sklearn.metrics import accuracy_score\n",
    "from sklearn.metrics import accuracy_score\n",
    "\n",
    "# Split the data into training and test sets\n",
    "X_train, X_test, y_train, y_test = train_test_split(df['vectors'].tolist(), df['subreddit'].tolist(), test_size=0.2, random_state=42)\n"
   ],
   "metadata": {
    "collapsed": false
   }
  },
  {
   "cell_type": "code",
   "execution_count": 20,
   "outputs": [],
   "source": [
    "# X_train = pd.DataFrame(X_train)\n",
    "# y_train = pd.DataFrame(y_train)"
   ],
   "metadata": {
    "collapsed": false
   }
  },
  {
   "cell_type": "code",
   "execution_count": 21,
   "outputs": [],
   "source": [
    "# X_train.info()"
   ],
   "metadata": {
    "collapsed": false
   }
  },
  {
   "cell_type": "code",
   "execution_count": 22,
   "outputs": [],
   "source": [
    "from sklearn.preprocessing import LabelEncoder\n",
    "\n",
    "# Convert the labels to numerical values\n",
    "le = LabelEncoder()\n",
    "y_train = np.array(y_train)\n",
    "y_train = le.fit_transform(y_train)\n",
    "y_test = le.transform(y_test)\n"
   ],
   "metadata": {
    "collapsed": false
   }
  },
  {
   "cell_type": "code",
   "execution_count": 26,
   "outputs": [],
   "source": [
    "# Convert the data to DMatrix objects\n",
    "dtrain = xgb.DMatrix(X_train, label=y_train, enable_categorical=True)\n",
    "dtest = xgb.DMatrix(X_test, label=y_test, enable_categorical=True)\n"
   ],
   "metadata": {
    "collapsed": false
   }
  },
  {
   "cell_type": "code",
   "execution_count": 27,
   "outputs": [],
   "source": [
    "# Set the XGBoost parameters\n",
    "param = {'max_depth': 3, 'eta': 0.1, 'objective': 'multi:softmax', 'num_class': 10}\n",
    "\n",
    "# Train the XGBoost model\n",
    "bst = xgb.train(param, dtrain, num_boost_round=10)"
   ],
   "metadata": {
    "collapsed": false
   }
  },
  {
   "cell_type": "code",
   "execution_count": 46,
   "outputs": [
    {
     "name": "stdout",
     "output_type": "stream",
     "text": [
      "Accuracy: 0.43\n"
     ]
    }
   ],
   "source": [
    "\n",
    "# Make predictions on the test set\n",
    "predictions = bst.predict(dtest)\n",
    "\n",
    "# Print the accuracy\n",
    "accuracy = accuracy_score(y_test, predictions)\n",
    "print(f'Accuracy: {accuracy:.2f}')\n"
   ],
   "metadata": {
    "collapsed": false
   }
  },
  {
   "cell_type": "code",
   "execution_count": 47,
   "outputs": [
    {
     "data": {
      "text/plain": "array([7, 0, 7, ..., 0, 5, 9])"
     },
     "execution_count": 47,
     "metadata": {},
     "output_type": "execute_result"
    }
   ],
   "source": [
    "predictions = np.array(list(map(int, predictions)))\n",
    "predictions"
   ],
   "metadata": {
    "collapsed": false
   }
  },
  {
   "cell_type": "code",
   "execution_count": 37,
   "outputs": [
    {
     "data": {
      "text/plain": "array([7., 0., 7., ..., 0., 5., 9.], dtype=float32)"
     },
     "execution_count": 37,
     "metadata": {},
     "output_type": "execute_result"
    }
   ],
   "source": [],
   "metadata": {
    "collapsed": false
   }
  },
  {
   "cell_type": "code",
   "execution_count": 52,
   "outputs": [
    {
     "data": {
      "text/plain": "                                                  title     actual  predicted\n0     [-0.6965856, -0.36041075, -0.016394246, 0.2248...    science    science\n1     [-0.19899519, -0.057780933, 0.101786934, 0.147...     gaming  AskReddit\n2     [-0.1301142, -0.3742794, 0.23896079, 0.0127759...    science    science\n3     [-0.010454829, 0.12601396, -0.04458673, -0.089...       pics       Awww\n4     [0.12843373, 0.27396354, 0.14378692, 0.1771490...  worldnews      Music\n...                                                 ...        ...        ...\n1667  [0.041328456, -0.01589865, 0.14951625, -0.0083...      funny       Awww\n1668  [-0.06795082, -0.063612305, 0.3198764, 0.38556...     videos     gaming\n1669  [-0.25345698, -0.010241983, 0.68700796, 0.0033...      funny  AskReddit\n1670  [0.04323784, -0.24545237, 0.18534826, -0.30235...  AskReddit     gaming\n1671  [0.57556236, 0.26346773, -0.211239, -0.0357169...       pics  worldnews\n\n[1672 rows x 3 columns]",
      "text/html": "<div>\n<style scoped>\n    .dataframe tbody tr th:only-of-type {\n        vertical-align: middle;\n    }\n\n    .dataframe tbody tr th {\n        vertical-align: top;\n    }\n\n    .dataframe thead th {\n        text-align: right;\n    }\n</style>\n<table border=\"1\" class=\"dataframe\">\n  <thead>\n    <tr style=\"text-align: right;\">\n      <th></th>\n      <th>title</th>\n      <th>actual</th>\n      <th>predicted</th>\n    </tr>\n  </thead>\n  <tbody>\n    <tr>\n      <th>0</th>\n      <td>[-0.6965856, -0.36041075, -0.016394246, 0.2248...</td>\n      <td>science</td>\n      <td>science</td>\n    </tr>\n    <tr>\n      <th>1</th>\n      <td>[-0.19899519, -0.057780933, 0.101786934, 0.147...</td>\n      <td>gaming</td>\n      <td>AskReddit</td>\n    </tr>\n    <tr>\n      <th>2</th>\n      <td>[-0.1301142, -0.3742794, 0.23896079, 0.0127759...</td>\n      <td>science</td>\n      <td>science</td>\n    </tr>\n    <tr>\n      <th>3</th>\n      <td>[-0.010454829, 0.12601396, -0.04458673, -0.089...</td>\n      <td>pics</td>\n      <td>Awww</td>\n    </tr>\n    <tr>\n      <th>4</th>\n      <td>[0.12843373, 0.27396354, 0.14378692, 0.1771490...</td>\n      <td>worldnews</td>\n      <td>Music</td>\n    </tr>\n    <tr>\n      <th>...</th>\n      <td>...</td>\n      <td>...</td>\n      <td>...</td>\n    </tr>\n    <tr>\n      <th>1667</th>\n      <td>[0.041328456, -0.01589865, 0.14951625, -0.0083...</td>\n      <td>funny</td>\n      <td>Awww</td>\n    </tr>\n    <tr>\n      <th>1668</th>\n      <td>[-0.06795082, -0.063612305, 0.3198764, 0.38556...</td>\n      <td>videos</td>\n      <td>gaming</td>\n    </tr>\n    <tr>\n      <th>1669</th>\n      <td>[-0.25345698, -0.010241983, 0.68700796, 0.0033...</td>\n      <td>funny</td>\n      <td>AskReddit</td>\n    </tr>\n    <tr>\n      <th>1670</th>\n      <td>[0.04323784, -0.24545237, 0.18534826, -0.30235...</td>\n      <td>AskReddit</td>\n      <td>gaming</td>\n    </tr>\n    <tr>\n      <th>1671</th>\n      <td>[0.57556236, 0.26346773, -0.211239, -0.0357169...</td>\n      <td>pics</td>\n      <td>worldnews</td>\n    </tr>\n  </tbody>\n</table>\n<p>1672 rows × 3 columns</p>\n</div>"
     },
     "execution_count": 52,
     "metadata": {},
     "output_type": "execute_result"
    }
   ],
   "source": [
    "# Create a list of the predicted subreddit names\n",
    "predicted_subreddits = le.inverse_transform(predictions)\n",
    "actual_subreddits = le.inverse_transform(y_test)\n",
    "\n",
    "# Create a dataframe with the post title, actual subreddit, and predicted subreddit\n",
    "df = pd.DataFrame({'title': X_test, 'actual': actual_subreddits, 'predicted': predicted_subreddits})\n",
    "df"
   ],
   "metadata": {
    "collapsed": false
   }
  },
  {
   "cell_type": "code",
   "execution_count": 49,
   "outputs": [
    {
     "data": {
      "text/plain": "                                                  title  actual  predicted\n0     [-0.6965856, -0.36041075, -0.016394246, 0.2248...       7    science\n1     [-0.19899519, -0.057780933, 0.101786934, 0.147...       5  AskReddit\n2     [-0.1301142, -0.3742794, 0.23896079, 0.0127759...       7    science\n3     [-0.010454829, 0.12601396, -0.04458673, -0.089...       6       Awww\n4     [0.12843373, 0.27396354, 0.14378692, 0.1771490...       9      Music\n...                                                 ...     ...        ...\n1667  [0.041328456, -0.01589865, 0.14951625, -0.0083...       4       Awww\n1668  [-0.06795082, -0.063612305, 0.3198764, 0.38556...       8     gaming\n1669  [-0.25345698, -0.010241983, 0.68700796, 0.0033...       4  AskReddit\n1670  [0.04323784, -0.24545237, 0.18534826, -0.30235...       0     gaming\n1671  [0.57556236, 0.26346773, -0.211239, -0.0357169...       6  worldnews\n\n[1672 rows x 3 columns]",
      "text/html": "<div>\n<style scoped>\n    .dataframe tbody tr th:only-of-type {\n        vertical-align: middle;\n    }\n\n    .dataframe tbody tr th {\n        vertical-align: top;\n    }\n\n    .dataframe thead th {\n        text-align: right;\n    }\n</style>\n<table border=\"1\" class=\"dataframe\">\n  <thead>\n    <tr style=\"text-align: right;\">\n      <th></th>\n      <th>title</th>\n      <th>actual</th>\n      <th>predicted</th>\n    </tr>\n  </thead>\n  <tbody>\n    <tr>\n      <th>0</th>\n      <td>[-0.6965856, -0.36041075, -0.016394246, 0.2248...</td>\n      <td>7</td>\n      <td>science</td>\n    </tr>\n    <tr>\n      <th>1</th>\n      <td>[-0.19899519, -0.057780933, 0.101786934, 0.147...</td>\n      <td>5</td>\n      <td>AskReddit</td>\n    </tr>\n    <tr>\n      <th>2</th>\n      <td>[-0.1301142, -0.3742794, 0.23896079, 0.0127759...</td>\n      <td>7</td>\n      <td>science</td>\n    </tr>\n    <tr>\n      <th>3</th>\n      <td>[-0.010454829, 0.12601396, -0.04458673, -0.089...</td>\n      <td>6</td>\n      <td>Awww</td>\n    </tr>\n    <tr>\n      <th>4</th>\n      <td>[0.12843373, 0.27396354, 0.14378692, 0.1771490...</td>\n      <td>9</td>\n      <td>Music</td>\n    </tr>\n    <tr>\n      <th>...</th>\n      <td>...</td>\n      <td>...</td>\n      <td>...</td>\n    </tr>\n    <tr>\n      <th>1667</th>\n      <td>[0.041328456, -0.01589865, 0.14951625, -0.0083...</td>\n      <td>4</td>\n      <td>Awww</td>\n    </tr>\n    <tr>\n      <th>1668</th>\n      <td>[-0.06795082, -0.063612305, 0.3198764, 0.38556...</td>\n      <td>8</td>\n      <td>gaming</td>\n    </tr>\n    <tr>\n      <th>1669</th>\n      <td>[-0.25345698, -0.010241983, 0.68700796, 0.0033...</td>\n      <td>4</td>\n      <td>AskReddit</td>\n    </tr>\n    <tr>\n      <th>1670</th>\n      <td>[0.04323784, -0.24545237, 0.18534826, -0.30235...</td>\n      <td>0</td>\n      <td>gaming</td>\n    </tr>\n    <tr>\n      <th>1671</th>\n      <td>[0.57556236, 0.26346773, -0.211239, -0.0357169...</td>\n      <td>6</td>\n      <td>worldnews</td>\n    </tr>\n  </tbody>\n</table>\n<p>1672 rows × 3 columns</p>\n</div>"
     },
     "execution_count": 49,
     "metadata": {},
     "output_type": "execute_result"
    }
   ],
   "source": [
    "df"
   ],
   "metadata": {
    "collapsed": false
   }
  },
  {
   "cell_type": "code",
   "execution_count": 64,
   "outputs": [
    {
     "name": "stdout",
     "output_type": "stream",
     "text": [
      "Awww\n",
      "funny\n",
      "Awww\n",
      "pics\n",
      "funny\n",
      "pics\n",
      "funny\n",
      "AskReddit\n",
      "Music\n",
      "funny\n"
     ]
    }
   ],
   "source": [
    "for label in y_train[:10]:\n",
    "    if not label.isascii():\n",
    "        print(f'Non-ASCII characters found in label: {label}')\n"
   ],
   "metadata": {
    "collapsed": false
   }
  },
  {
   "cell_type": "code",
   "execution_count": 65,
   "outputs": [
    {
     "name": "stdout",
     "output_type": "stream",
     "text": [
      "[[-0.03523372 -0.11046028 -0.1423582   0.4160329  -0.29461384 -0.4887824\n",
      "   0.69866467  1.0167252  -0.5445614  -0.5502897  -0.15627718 -0.55022484\n",
      "   0.41585827 -0.30390897 -0.27205878  0.41279483  0.56562847 -0.00461209\n",
      "  -0.6877157  -0.6729945   0.5200319  -0.35202685  0.13109298 -0.24230972\n",
      "   0.06181084 -0.2828839   0.13002984 -0.29786134 -0.09322817 -0.16211532\n",
      "   0.7680654   0.3817985   0.01414419 -0.03392706 -0.19665286  0.0705587\n",
      "   0.24197136 -0.10805511 -0.27039778 -0.13752991 -0.06370736 -0.27373213\n",
      "   0.09091808 -0.30996516  0.4304253  -0.5640691  -0.14220345  0.24700731\n",
      "   0.15278882  0.00705155  0.289233   -0.28843135  0.1336196  -0.5520374\n",
      "  -0.6056017   0.16359329  0.45646515  0.14271544 -0.0997751  -0.27343363\n",
      "  -0.08578045  0.12324178  0.91274434 -0.17022388 -0.37442383  0.18313143\n",
      "   0.21369663 -0.12813434 -0.49952796  0.25478166  0.03890992 -0.07900175\n",
      "   0.33613116 -0.12469764 -0.2777261   0.2407419   0.49526253  0.26033592\n",
      "   0.27007443  0.3625942   0.1401691  -0.58663476 -0.08631939  0.6696258\n",
      "   0.5072476   0.21837993  0.3436893   0.3567914   0.17906655  0.21086198\n",
      "  -0.11349262 -0.18424523 -0.20735738  0.27711996  0.75339323 -0.12751296\n",
      "   0.19376566 -0.42283067  0.01285603 -0.09819566]\n",
      " [-0.07034966  0.17675985  0.05020219 -0.05665804  0.13109942 -0.03639561\n",
      "  -0.29487953  0.52251077 -0.63127786 -0.01029909  0.15816139  0.02805693\n",
      "  -0.49747944  0.7762001  -0.25693014 -0.15049051  0.03846514 -0.57966304\n",
      "  -0.33081514 -0.26629665  0.01396098  0.5875134   0.6015651  -0.06277817\n",
      "  -0.10657699 -0.15219116 -0.03075411 -0.28004536 -0.14234297 -0.06206927\n",
      "   0.63287055 -0.08063138 -0.09087495  0.07897827  0.14871371  0.2253751\n",
      "   0.13670634  0.52753764  0.11121272 -0.36912253  0.34834242 -0.3698653\n",
      "  -0.07895864 -0.01797935 -0.17279549  0.10777702 -0.275463   -0.226492\n",
      "   0.09050535  0.19959766 -0.11811308 -0.07903928 -0.63948554 -0.11372664\n",
      "   0.09676384  0.13582511 -0.22007094 -0.28973895  0.17294249  0.18244846\n",
      "   0.05276513  0.04511201  0.38930508  0.13517354 -0.79645306  0.3339581\n",
      "   0.3401673   0.35028207 -0.09721221  0.31449938 -0.5599915   0.2620853\n",
      "   0.15273747  0.40520424  0.02163284 -0.19586575  0.3144217  -0.23817635\n",
      "  -0.41255614  0.13449302 -0.07691468 -0.10866107 -0.13290264  0.27502725\n",
      "  -0.30652606 -0.17084326  0.05738758  0.25249708  0.7321265   0.237201\n",
      "   0.12231987  0.16871554  0.38358822  0.41602546  0.09902342  0.34116113\n",
      "   0.18757921 -0.6022088   0.35372642 -0.57733226]\n",
      " [-0.09245458  0.03834384  0.15521407  0.12158214 -0.2826183  -0.30135304\n",
      "   0.44745222  0.5377222  -0.21296065 -0.23861669  0.05848525  0.03464681\n",
      "   0.00482926 -0.0198669  -0.14234932  0.18418789  0.16324899  0.01469198\n",
      "  -0.0342435  -0.6678813   0.16538757 -0.03420854  0.03263794  0.01160943\n",
      "   0.25336382  0.17200753 -0.12731424  0.08741329  0.08228166 -0.18216795\n",
      "   0.3133689   0.12328845  0.08546876  0.01425409  0.05837186  0.4208607\n",
      "   0.21400005 -0.18877812  0.11261757 -0.4466334  -0.0062545   0.15931039\n",
      "  -0.073222   -0.16169998  0.13312976 -0.622091    0.08437049 -0.2274898\n",
      "   0.24007884  0.04392242 -0.11750384  0.05373427 -0.39871636 -0.10730804\n",
      "   0.1307007   0.23370142  0.1832483  -0.10107367 -0.42801073  0.20731801\n",
      "  -0.16596927  0.32744122  0.01091568 -0.14267261 -0.31750807  0.3291037\n",
      "   0.03262277  0.28805658  0.11125015  0.09039682 -0.2473601  -0.03799275\n",
      "   0.3059888  -0.00141943 -0.03856092 -0.00163708 -0.27806196  0.0038508\n",
      "   0.00292712  0.01064552  0.290909   -0.39001763 -0.08582354  0.19812065\n",
      "  -0.13229708 -0.0095043   0.16503651  0.02955819  0.09224682  0.331959\n",
      "  -0.00995385  0.04458418 -0.21031053 -0.08064059  0.14185363 -0.21164401\n",
      "  -0.18952675 -0.17052324  0.03909797  0.14684089]\n",
      " [ 0.03865364 -0.13235612 -0.11785121  0.5090535  -0.23718087 -0.38467002\n",
      "   0.57942235  0.75045246 -0.29171073 -0.48454937 -0.0967372   0.0117303\n",
      "  -0.22099048  0.26165783  0.05742858 -0.02809457  0.39101693 -0.10062745\n",
      "  -0.49142674 -0.6100098   0.40770748 -0.1487825   0.2624885  -0.07815807\n",
      "   0.22378957  0.30049405 -0.39121523 -0.1946143  -0.05485281  0.02118764\n",
      "   0.5147599  -0.01622426  0.14363387 -0.48913592 -0.56257737 -0.10790785\n",
      "   0.11214941  0.12242211 -0.16613579 -0.2977954   0.03486381 -0.04590782\n",
      "  -0.24221918  0.08835202  0.2861063  -0.36881533 -0.11172924  0.41111898\n",
      "   0.17783503  0.16205753 -0.1726764  -0.2127704  -0.32283464 -0.04237632\n",
      "  -0.3134795   0.3899971  -0.10691549 -0.04276324 -0.13071972 -0.2987237\n",
      "   0.2777348   0.25709918  0.52320135 -0.130602   -0.5793207   0.48328426\n",
      "   0.09161059  0.1823713  -0.26749474  0.2157878   0.6544011   0.01344731\n",
      "   0.22589597  0.09147661  0.11214404 -0.04234238  0.04312243  0.12400272\n",
      "   0.12527467 -0.1173903   0.08726853 -0.45006496 -0.47220153  0.25964585\n",
      "  -0.15346906  0.03231815  0.44515672  0.22287385 -0.27423882 -0.24413025\n",
      "   0.05419087 -0.2795108   0.19234604 -0.04026664  0.3567504   0.19799031\n",
      "   0.0422047  -0.22736067  0.25528356 -0.0611317 ]\n",
      " [ 0.00999473 -0.0914243   0.06579671 -0.06782168  0.01311154 -0.22745559\n",
      "   0.01867494  0.2028619  -0.09543662  0.01939806 -0.06761225  0.22333276\n",
      "  -0.15648665 -0.02290283 -0.13479137 -0.8282261  -0.5223474  -0.59246624\n",
      "  -0.42707002 -1.2176723   0.12866922  0.5438264   0.1315915   0.09752648\n",
      "   0.39076093  0.11470333 -0.26252148  0.42827335 -0.0481507   0.08139943\n",
      "   0.71179926  0.38063356 -0.29243886 -0.38431954 -0.113607    0.32924825\n",
      "  -0.05331827  0.13476437 -0.28600308 -0.01800231  0.72806716 -0.8222332\n",
      "  -0.28709912 -0.11905231 -0.5138603   0.54228437 -0.3215349  -0.1122938\n",
      "   0.22716784  0.5501892   0.03776932 -0.5890772  -0.09019131  0.71225995\n",
      "  -0.20092483 -0.31285506  0.01688506  0.05654623 -0.3322992   0.17636402\n",
      "   0.6143651   0.14697553  0.11590861 -0.18523344 -0.79254556  0.39387017\n",
      "   0.76918846  0.81810343 -0.3468712   0.12741265 -0.13603473  0.1687581\n",
      "  -0.42392737 -0.54449904  0.11343142  0.53639674  0.39990425  0.656005\n",
      "   0.08583464  0.62740767 -0.42320126  0.4524322  -0.42405403  0.3570197\n",
      "  -0.8177171   0.34352714  0.13598129  0.27524745  0.25376797 -0.05834285\n",
      "   0.47153884  0.71979254  0.25605896  0.18703501  0.12537886 -0.43414104\n",
      "   0.74051046 -0.40773457  0.36652932  0.46078047]]\n",
      "['Awww' 'funny' 'Awww' 'pics' 'funny']\n"
     ]
    }
   ],
   "source": [
    "print(X_train[:5])\n",
    "print(y_train[:5])\n"
   ],
   "metadata": {
    "collapsed": false
   }
  }
 ],
 "metadata": {
  "kernelspec": {
   "display_name": "Python 3",
   "language": "python",
   "name": "python3"
  },
  "language_info": {
   "codemirror_mode": {
    "name": "ipython",
    "version": 2
   },
   "file_extension": ".py",
   "mimetype": "text/x-python",
   "name": "python",
   "nbconvert_exporter": "python",
   "pygments_lexer": "ipython2",
   "version": "2.7.6"
  }
 },
 "nbformat": 4,
 "nbformat_minor": 0
}
