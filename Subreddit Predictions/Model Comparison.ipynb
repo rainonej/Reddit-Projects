{
 "cells": [
  {
   "cell_type": "markdown",
   "source": [
    "# Model Comparison\n",
    "\n",
    "In this notebook we will create several new subreddit prediction models and systematically compare them.\n",
    "\n",
    "While looking at new models we want to answer the following questions:\n",
    "- What auxiliary information is important?\n",
    "- Are different tokenizers better?\n",
    "- How many words are needed in our Bag-of-Words?\n",
    "- Do different classification algorithms (XGBoost, Support Vector Machine, Multinomial Logistic Regression, Random Forest)?\n",
    "- Do more advanced embedding algorithms such as Averaged Word2Vec or Doc2Vec work better?"
   ],
   "metadata": {
    "collapsed": false
   }
  },
  {
   "cell_type": "markdown",
   "source": [
    "\n",
    "## Classes\n",
    "\n",
    "In order to improve the results I need to test a lot of models. In a separate notebook I've created three classes to help with that. This will organize the information better."
   ],
   "metadata": {
    "collapsed": false
   }
  },
  {
   "cell_type": "code",
   "execution_count": 1,
   "outputs": [],
   "source": [
    "%run Classes.ipynb"
   ],
   "metadata": {
    "collapsed": false
   }
  },
  {
   "cell_type": "code",
   "execution_count": 2,
   "outputs": [],
   "source": [
    "import pickle as pkl\n",
    "\n",
    "with open (\"human_results.pkl\", 'rb') as f:\n",
    "    data = pkl.load(f)\n"
   ],
   "metadata": {
    "collapsed": false
   }
  },
  {
   "cell_type": "code",
   "execution_count": 3,
   "outputs": [
    {
     "data": {
      "text/plain": "{'announcements': 0.75,\n 'funny': 0.55,\n 'AskReddit': 0.95,\n 'dataisbeautiful': 0.95,\n 'Awww': 0.9,\n 'datascience': 0.95,\n 'pics': 0.7,\n 'science': 0.8,\n 'worldnews': 0.95,\n 'videos': 0.35,\n 'AmItheAsshole': 1.0,\n 'Total': 0.8045454545454547}"
     },
     "execution_count": 3,
     "metadata": {},
     "output_type": "execute_result"
    }
   ],
   "source": [
    "data"
   ],
   "metadata": {
    "collapsed": false
   }
  },
  {
   "cell_type": "code",
   "execution_count": null,
   "outputs": [],
   "source": [],
   "metadata": {
    "collapsed": false
   }
  }
 ],
 "metadata": {
  "kernelspec": {
   "display_name": "Python 3",
   "language": "python",
   "name": "python3"
  },
  "language_info": {
   "codemirror_mode": {
    "name": "ipython",
    "version": 2
   },
   "file_extension": ".py",
   "mimetype": "text/x-python",
   "name": "python",
   "nbconvert_exporter": "python",
   "pygments_lexer": "ipython2",
   "version": "2.7.6"
  }
 },
 "nbformat": 4,
 "nbformat_minor": 0
}
