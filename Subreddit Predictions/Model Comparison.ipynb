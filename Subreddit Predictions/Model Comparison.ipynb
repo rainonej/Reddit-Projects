{
 "cells": [
  {
   "cell_type": "markdown",
   "source": [
    "# Model Comparison\n",
    "\n",
    "In this notebook we will create several new subreddit prediction models and systematically compare them.\n",
    "\n",
    "While looking at new models we want to answer the following questions:\n",
    "- What auxiliary information is important?\n",
    "- Are different tokenizers better?\n",
    "- How many words are needed in our Bag-of-Words?\n",
    "- Do different classification algorithms (XGBoost, Support Vector Machine, Multinomial Logistic Regression, Random Forest)?\n",
    "- Do more advanced embedding algorithms such as Averaged Word2Vec or Doc2Vec work better?"
   ],
   "metadata": {
    "collapsed": false
   }
  },
  {
   "cell_type": "markdown",
   "source": [
    "Obviously the first thing we need to do is load the data"
   ],
   "metadata": {
    "collapsed": false
   }
  },
  {
   "cell_type": "code",
   "execution_count": 1,
   "outputs": [
    {
     "data": {
      "text/plain": "           id                                              title  \\\n0      t93ec3  This subreddit is closed for new posts and com...   \n1      pg006s          COVID denialism and policy clarifications   \n2      pbmy5y             Debate, dissent, and protest on Reddit   \n3      nw2hs6           Sunsetting Secret Santa and Reddit Gifts   \n4      mi01fg                                             Second   \n...       ...                                                ...   \n9456  10mvmxu  WIBTA if I planned and threw a St. Patty’s par...   \n9457  10mvlnr                AITA for lashing out at my parents?   \n9458  10mvlgl  AITA for not wanting to spend time with my wif...   \n9459  10mvix4  WIBTA if I cancelled a vacation weekend becaus...   \n9460  10mvfki      AITA for not taking in my son and his family.   \n\n          subreddit  \n0     announcements  \n1     announcements  \n2     announcements  \n3     announcements  \n4     announcements  \n...             ...  \n9456  AmItheAsshole  \n9457  AmItheAsshole  \n9458  AmItheAsshole  \n9459  AmItheAsshole  \n9460  AmItheAsshole  \n\n[9461 rows x 3 columns]",
      "text/html": "<div>\n<style scoped>\n    .dataframe tbody tr th:only-of-type {\n        vertical-align: middle;\n    }\n\n    .dataframe tbody tr th {\n        vertical-align: top;\n    }\n\n    .dataframe thead th {\n        text-align: right;\n    }\n</style>\n<table border=\"1\" class=\"dataframe\">\n  <thead>\n    <tr style=\"text-align: right;\">\n      <th></th>\n      <th>id</th>\n      <th>title</th>\n      <th>subreddit</th>\n    </tr>\n  </thead>\n  <tbody>\n    <tr>\n      <th>0</th>\n      <td>t93ec3</td>\n      <td>This subreddit is closed for new posts and com...</td>\n      <td>announcements</td>\n    </tr>\n    <tr>\n      <th>1</th>\n      <td>pg006s</td>\n      <td>COVID denialism and policy clarifications</td>\n      <td>announcements</td>\n    </tr>\n    <tr>\n      <th>2</th>\n      <td>pbmy5y</td>\n      <td>Debate, dissent, and protest on Reddit</td>\n      <td>announcements</td>\n    </tr>\n    <tr>\n      <th>3</th>\n      <td>nw2hs6</td>\n      <td>Sunsetting Secret Santa and Reddit Gifts</td>\n      <td>announcements</td>\n    </tr>\n    <tr>\n      <th>4</th>\n      <td>mi01fg</td>\n      <td>Second</td>\n      <td>announcements</td>\n    </tr>\n    <tr>\n      <th>...</th>\n      <td>...</td>\n      <td>...</td>\n      <td>...</td>\n    </tr>\n    <tr>\n      <th>9456</th>\n      <td>10mvmxu</td>\n      <td>WIBTA if I planned and threw a St. Patty’s par...</td>\n      <td>AmItheAsshole</td>\n    </tr>\n    <tr>\n      <th>9457</th>\n      <td>10mvlnr</td>\n      <td>AITA for lashing out at my parents?</td>\n      <td>AmItheAsshole</td>\n    </tr>\n    <tr>\n      <th>9458</th>\n      <td>10mvlgl</td>\n      <td>AITA for not wanting to spend time with my wif...</td>\n      <td>AmItheAsshole</td>\n    </tr>\n    <tr>\n      <th>9459</th>\n      <td>10mvix4</td>\n      <td>WIBTA if I cancelled a vacation weekend becaus...</td>\n      <td>AmItheAsshole</td>\n    </tr>\n    <tr>\n      <th>9460</th>\n      <td>10mvfki</td>\n      <td>AITA for not taking in my son and his family.</td>\n      <td>AmItheAsshole</td>\n    </tr>\n  </tbody>\n</table>\n<p>9461 rows × 3 columns</p>\n</div>"
     },
     "execution_count": 1,
     "metadata": {},
     "output_type": "execute_result"
    }
   ],
   "source": [
    "import pandas as pd\n",
    "\n",
    "#df = pd.read_csv('reddit_data.csv').set_index('id')\n",
    "df_raw = pd.read_csv('reddit_data.csv')#.set_index('id')\n",
    "\n",
    "df_raw"
   ],
   "metadata": {
    "collapsed": false
   }
  },
  {
   "cell_type": "markdown",
   "source": [
    "\n",
    "## Classes\n",
    "\n",
    "In order to improve the results I need to test a lot of models. In a separate notebook I've created three classes to help with that. This will organize the information better."
   ],
   "metadata": {
    "collapsed": false
   }
  },
  {
   "cell_type": "code",
   "execution_count": 2,
   "outputs": [],
   "source": [
    "%run Classes.ipynb"
   ],
   "metadata": {
    "collapsed": false
   }
  },
  {
   "cell_type": "code",
   "execution_count": 3,
   "outputs": [],
   "source": [
    "obj = Subreddit_Predictor()\n",
    "obj.add_data(df_raw)\n",
    "obj.ready_data()"
   ],
   "metadata": {
    "collapsed": false
   }
  },
  {
   "cell_type": "markdown",
   "source": [
    "Obviously the first thing we need to do is load the data"
   ],
   "metadata": {
    "collapsed": false
   }
  },
  {
   "cell_type": "code",
   "execution_count": 4,
   "outputs": [
    {
     "data": {
      "text/plain": "           id                                              title  \\\n0      t93ec3  This subreddit is closed for new posts and com...   \n1      pg006s          COVID denialism and policy clarifications   \n2      pbmy5y             Debate, dissent, and protest on Reddit   \n3      nw2hs6           Sunsetting Secret Santa and Reddit Gifts   \n4      mi01fg                                             Second   \n...       ...                                                ...   \n9456  10mvmxu  WIBTA if I planned and threw a St. Patty’s par...   \n9457  10mvlnr                AITA for lashing out at my parents?   \n9458  10mvlgl  AITA for not wanting to spend time with my wif...   \n9459  10mvix4  WIBTA if I cancelled a vacation weekend becaus...   \n9460  10mvfki      AITA for not taking in my son and his family.   \n\n          subreddit  \n0     announcements  \n1     announcements  \n2     announcements  \n3     announcements  \n4     announcements  \n...             ...  \n9456  AmItheAsshole  \n9457  AmItheAsshole  \n9458  AmItheAsshole  \n9459  AmItheAsshole  \n9460  AmItheAsshole  \n\n[9461 rows x 3 columns]",
      "text/html": "<div>\n<style scoped>\n    .dataframe tbody tr th:only-of-type {\n        vertical-align: middle;\n    }\n\n    .dataframe tbody tr th {\n        vertical-align: top;\n    }\n\n    .dataframe thead th {\n        text-align: right;\n    }\n</style>\n<table border=\"1\" class=\"dataframe\">\n  <thead>\n    <tr style=\"text-align: right;\">\n      <th></th>\n      <th>id</th>\n      <th>title</th>\n      <th>subreddit</th>\n    </tr>\n  </thead>\n  <tbody>\n    <tr>\n      <th>0</th>\n      <td>t93ec3</td>\n      <td>This subreddit is closed for new posts and com...</td>\n      <td>announcements</td>\n    </tr>\n    <tr>\n      <th>1</th>\n      <td>pg006s</td>\n      <td>COVID denialism and policy clarifications</td>\n      <td>announcements</td>\n    </tr>\n    <tr>\n      <th>2</th>\n      <td>pbmy5y</td>\n      <td>Debate, dissent, and protest on Reddit</td>\n      <td>announcements</td>\n    </tr>\n    <tr>\n      <th>3</th>\n      <td>nw2hs6</td>\n      <td>Sunsetting Secret Santa and Reddit Gifts</td>\n      <td>announcements</td>\n    </tr>\n    <tr>\n      <th>4</th>\n      <td>mi01fg</td>\n      <td>Second</td>\n      <td>announcements</td>\n    </tr>\n    <tr>\n      <th>...</th>\n      <td>...</td>\n      <td>...</td>\n      <td>...</td>\n    </tr>\n    <tr>\n      <th>9456</th>\n      <td>10mvmxu</td>\n      <td>WIBTA if I planned and threw a St. Patty’s par...</td>\n      <td>AmItheAsshole</td>\n    </tr>\n    <tr>\n      <th>9457</th>\n      <td>10mvlnr</td>\n      <td>AITA for lashing out at my parents?</td>\n      <td>AmItheAsshole</td>\n    </tr>\n    <tr>\n      <th>9458</th>\n      <td>10mvlgl</td>\n      <td>AITA for not wanting to spend time with my wif...</td>\n      <td>AmItheAsshole</td>\n    </tr>\n    <tr>\n      <th>9459</th>\n      <td>10mvix4</td>\n      <td>WIBTA if I cancelled a vacation weekend becaus...</td>\n      <td>AmItheAsshole</td>\n    </tr>\n    <tr>\n      <th>9460</th>\n      <td>10mvfki</td>\n      <td>AITA for not taking in my son and his family.</td>\n      <td>AmItheAsshole</td>\n    </tr>\n  </tbody>\n</table>\n<p>9461 rows × 3 columns</p>\n</div>"
     },
     "execution_count": 4,
     "metadata": {},
     "output_type": "execute_result"
    }
   ],
   "source": [
    "import pandas as pd\n",
    "\n",
    "#df = pd.read_csv('reddit_data.csv').set_index('id')\n",
    "df_raw = pd.read_csv('reddit_data.csv')#.set_index('id')\n",
    "\n",
    "df_raw"
   ],
   "metadata": {
    "collapsed": false
   }
  },
  {
   "cell_type": "markdown",
   "source": [
    "\n",
    "## Classes\n",
    "\n",
    "In order to improve the results I need to test a lot of models. In a separate notebook I've created three classes to help with that. This will organize the information better."
   ],
   "metadata": {
    "collapsed": false
   }
  },
  {
   "cell_type": "code",
   "execution_count": 5,
   "outputs": [],
   "source": [
    "%run Classes.ipynb"
   ],
   "metadata": {
    "collapsed": false
   }
  },
  {
   "cell_type": "code",
   "execution_count": 6,
   "outputs": [],
   "source": [
    "obj = Subreddit_Predictor()\n",
    "obj.add_data(df_raw)\n",
    "obj.ready_data()"
   ],
   "metadata": {
    "collapsed": false
   }
  },
  {
   "cell_type": "markdown",
   "source": [
    "We also need to load the results from the previous notebook into this object. We can then compare our results to see improvements."
   ],
   "metadata": {
    "collapsed": false
   }
  },
  {
   "cell_type": "code",
   "execution_count": 7,
   "outputs": [],
   "source": [
    "import pickle as pkl\n",
    "\n",
    "with open (\"human_results.pkl\", 'rb') as f:\n",
    "    data = pkl.load(f)\n",
    "obj.Results.loc['Human'] = data\n",
    "\n",
    "with open (\"naive_results.pkl\", 'rb') as f:\n",
    "    data = pkl.load(f)\n",
    "obj.Results.loc['Naive'] = data\n",
    "\n",
    "with open (\"naive_results_mean.pkl\", 'rb') as f:\n",
    "    data = pkl.load(f)\n",
    "obj.Cross_Validation_Results_avg.loc['Naive'] = data\n",
    "\n",
    "with open (\"naive_results_std.pkl\", 'rb') as f:\n",
    "    data = pkl.load(f)\n",
    "obj.Cross_Validation_Results_std.loc['Naive'] = data\n"
   ],
   "metadata": {
    "collapsed": false
   }
  },
  {
   "cell_type": "markdown",
   "source": [
    "These results represent the Individual Recall Scores and the Total Accuracy Score of attempting the classify subreddits by hand, \"Human\", and using a naive Bag-of-Words with Random Forrest modle, \"Naive\"."
   ],
   "metadata": {
    "collapsed": false
   }
  },
  {
   "cell_type": "code",
   "execution_count": 8,
   "outputs": [
    {
     "data": {
      "text/plain": "<Figure size 640x480 with 2 Axes>",
      "image/png": "[encoded data removed]"
     },
     "metadata": {},
     "output_type": "display_data"
    }
   ],
   "source": [
    "obj.compare([ 'Naive', 'Human'], error_bars=True)"
   ],
   "metadata": {
    "collapsed": false
   }
  },
  {
   "cell_type": "markdown",
   "source": [
    "### Naive Model+\n",
    "\n",
    "The first thing we need to do is recreate our Naive Model. The embedding process uses Bag-of-Words. To make our lives easier in the future, we will create a generalized BoW embedding that can be easily modified.\n",
    "\n",
    "\n",
    "*Cleaning* - Make everythign lower case and fix some common terms like \"[oc]\" to make it easier for the tokenizer\n",
    "*Embedding* - \"Training\" a BoW model is really just creating a vacob list. We use NLTK's tokenizer\n",
    "*Classifying* - As in our first approach we will use Random Forrest."
   ],
   "metadata": {
    "collapsed": false
   }
  },
  {
   "cell_type": "code",
   "execution_count": 9,
   "outputs": [],
   "source": [
    "def clean_data(df):\n",
    "    \"\"\"\n",
    "    :param df: Pandas DataFrame with a column 'title', or a Series\n",
    "    :return: original df with the contents of the 'title' column altered. All lowercase. Replace \"[oc]\", \"(oc)\", and \"[nsfw]\" with \"_oc_\" and \"_nsfw_\" respectively.\n",
    "    \"\"\"\n",
    "\n",
    "    if type(df) == pd.Series:\n",
    "        df = pd.DataFrame(df)\n",
    "        series = True\n",
    "    else:\n",
    "        series = False\n",
    "\n",
    "    df['title'] = df['title'].apply(lambda s: s.lower())\n",
    "\n",
    "    df['title'] = df['title'].apply(lambda s: s.replace(\"[oc]\", \"_oc_\"))\n",
    "    df['title'] = df['title'].apply(lambda s: s.replace(\"(oc)\", \"_oc_\"))\n",
    "    df['title'] = df['title'].apply(lambda s: s.replace(\"[nsfw]\", \"_nsfw_\"))\n",
    "    df['title'] = df['title'].apply(lambda s: s.replace(\"(nsfw)\", \"_nsfw_\"))\n",
    "    df['title'] = df['title'].apply(lambda s: s.replace(\"[wip]\", \"_wip_\"))\n",
    "    df['title'] = df['title'].apply(lambda s: s.replace(\"(wip)\", \"_wip_\"))\n",
    "    df['title'] = df['title'].apply(lambda s: s.replace(\"[serious]\", \"_serious_\"))\n",
    "\n",
    "    if series: df = df['title']\n",
    "\n",
    "    return df"
   ],
   "metadata": {
    "collapsed": false
   }
  },
  {
   "cell_type": "code",
   "execution_count": 10,
   "outputs": [],
   "source": [
    "import nltk\n",
    "\n",
    "def get_vocab(corpus, tokenizer=nltk.word_tokenize, num_words=False, min_frequency=2):\n",
    "    \"\"\"\n",
    "    :param corpus: a Pandas Series, or other iterable of cleaned text sentences.\n",
    "    :param tokenizer: a function that takes in a sentence and outputs a list of tokens in that sentence.\n",
    "    :param num_words: If an integer is given, then this is the max number of words in the vocab.\n",
    "    :param min_frequency: If an integer is given, then this is the minimum number of times a word must appear in the corpus to be included in the vocab\n",
    "    :return: A list of all of the tokens in our vocab.\n",
    "    \"\"\"\n",
    "    tokenized_corpus = [tokenizer(sentence) for sentence in corpus]\n",
    "    flat_list = [word for sublist in tokenized_corpus for word in sublist]\n",
    "    freq_dist = FreqDist(flat_list)\n",
    "    vocab = [word for word, freq in freq_dist.items() if freq >= min_frequency]\n",
    "    if num_words:\n",
    "        vocab = sorted(vocab, key=lambda x: freq_dist[x], reverse=True)\n",
    "        vocab = vocab[:min(num_words, len(vocab))]\n",
    "    vocab.sort()\n",
    "    return vocab\n"
   ],
   "metadata": {
    "collapsed": false
   }
  },
  {
   "cell_type": "code",
   "execution_count": 11,
   "outputs": [],
   "source": [
    "\n",
    "from tqdm import tqdm\n",
    "\n",
    "\n",
    "def _BoW_embed(titles, vocab, tokenizer=nltk.word_tokenize):\n",
    "    \"\"\"\n",
    "    :param titles: A Pandas Series of titles to embed\n",
    "    :param vocab: A List of all the words in the vocab\n",
    "    :return:\n",
    "    \"\"\"\n",
    "    df = pd.DataFrame(titles)\n",
    "    df['title_tokens'] = df['title'].apply(tokenizer)\n",
    "    new_cols = {'BoW: ' + word: df['title_tokens'].apply(lambda x: Counter(x)[word]) for word in tqdm(vocab)}\n",
    "    #new_cols['Not in BoW'] = df['title_tokens'].apply(lambda lis: count_not_in_list2(lis, vocab))\n",
    "    new_df = pd.concat([df, pd.DataFrame(new_cols)], axis=1)\n",
    "    new_df = new_df.drop(columns=['title', 'title_tokens'])\n",
    "\n",
    "    return new_df\n"
   ],
   "metadata": {
    "collapsed": false
   }
  },
  {
   "cell_type": "code",
   "execution_count": 12,
   "outputs": [],
   "source": [
    "from nltk.probability import FreqDist\n",
    "from collections import Counter\n",
    "\n",
    "\n",
    "#Naive_BoW = Vectorizer('Naive BoW')"
   ],
   "metadata": {
    "collapsed": false
   }
  },
  {
   "cell_type": "code",
   "execution_count": 13,
   "outputs": [],
   "source": [
    "#Naive_BoW._train = (lambda corpus: get_vocab(clean_data(corpus), num_words=False, min_frequency=2))"
   ],
   "metadata": {
    "collapsed": false
   }
  },
  {
   "cell_type": "code",
   "execution_count": 14,
   "outputs": [],
   "source": [
    "#Naive_BoW._embed = (lambda titles, vocab: _BoW_embed(clean_data(titles), vocab))\n"
   ],
   "metadata": {
    "collapsed": false
   }
  },
  {
   "cell_type": "code",
   "execution_count": 15,
   "outputs": [],
   "source": [
    "#temp_X_train = obj.X_train\n",
    "#Naive_BoW.train(temp_X_train)"
   ],
   "metadata": {
    "collapsed": false
   }
  },
  {
   "cell_type": "code",
   "execution_count": 16,
   "outputs": [],
   "source": [
    "#Naive_BoW.embed(temp_X_train)\n"
   ],
   "metadata": {
    "collapsed": false
   }
  },
  {
   "cell_type": "code",
   "execution_count": null,
   "outputs": [
    {
     "name": "stderr",
     "output_type": "stream",
     "text": [
      " 40%|████      | 2575/6402 [00:40<00:58, 64.94it/s]"
     ]
    }
   ],
   "source": [
    "from nltk.probability import FreqDist\n",
    "from collections import Counter\n",
    "\n",
    "\n",
    "Naive_BoW = Vectorizer('Naive BoW')\n",
    "Naive_BoW._train = (lambda corpus: get_vocab(clean_data(corpus), num_words=False, min_frequency=2))\n",
    "Naive_BoW._embed = (lambda titles, vocab: _BoW_embed(clean_data(titles), vocab))\n",
    "temp_X_train = obj.X_train\n",
    "Naive_BoW.train(temp_X_train)\n",
    "Naive_BoW.embed(temp_X_train)\n"
   ],
   "metadata": {
    "collapsed": false
   }
  },
  {
   "cell_type": "code",
   "execution_count": null,
   "outputs": [],
   "source": [
    "\n",
    "from sklearn.ensemble import RandomForestClassifier\n",
    "\n",
    "\n",
    "def _RandomForest_train(X_train, Y_train):\n",
    "    # Initialize the Random Forest model\n",
    "    rf = RandomForestClassifier()\n",
    "    # Train the model on the input data\n",
    "    rf.fit(X_train, Y_train)\n",
    "    # Output the trained model\n",
    "    return rf\n",
    "\n",
    "\n",
    "def _RandomForest_predict(title_vectors, model):\n",
    "    # Make predictions on the input data\n",
    "    predictions = model.predict(title_vectors)\n",
    "    # Output the predictions as a pandas series\n",
    "    return pd.Series(predictions)\n"
   ],
   "metadata": {
    "collapsed": false
   }
  },
  {
   "cell_type": "code",
   "execution_count": null,
   "outputs": [],
   "source": [
    "\n",
    "RF = Classifier('RF')\n",
    "RF._train = _RandomForest_train\n",
    "RF._predict = _RandomForest_predict\n",
    "\n",
    "obj.add_vectorizer(Naive_BoW)\n",
    "obj.add_feature_vectors('Naive BoW')\n",
    "obj.add_classifier(RF)\n",
    "obj.train_model('Naive Model', 'Naive BoW', 'RF',\n",
    "                description=\"The Naive model using a full BoW vocab and RF with default parameters.\"\n",
    "                )\n",
    "obj.test_model('Naive Model')\n",
    "obj.compare(['Naive Model'])"
   ],
   "metadata": {
    "collapsed": false
   }
  },
  {
   "cell_type": "code",
   "execution_count": null,
   "outputs": [],
   "source": [],
   "metadata": {
    "collapsed": false
   }
  }
 ],
 "metadata": {
  "kernelspec": {
   "display_name": "Python 3",
   "language": "python",
   "name": "python3"
  },
  "language_info": {
   "codemirror_mode": {
    "name": "ipython",
    "version": 2
   },
   "file_extension": ".py",
   "mimetype": "text/x-python",
   "name": "python",
   "nbconvert_exporter": "python",
   "pygments_lexer": "ipython2",
   "version": "2.7.6"
  }
 },
 "nbformat": 4,
 "nbformat_minor": 0
}
