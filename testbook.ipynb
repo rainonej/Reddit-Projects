{
 "cells": [
  {
   "cell_type": "markdown",
   "id": "961e82d0-0253-40d6-a868-a61949f35658",
   "metadata": {},
   "source": [
    "# This notebook is for stuff"
   ]
  },
  {
   "cell_type": "code",
   "execution_count": 1,
   "outputs": [],
   "source": [
    "import pandas as pd\n",
    "import praw"
   ],
   "metadata": {
    "collapsed": false
   }
  },
  {
   "cell_type": "markdown",
   "source": [
    "Use Praw to instansiate 'reddit'"
   ],
   "metadata": {
    "collapsed": false
   }
  },
  {
   "cell_type": "code",
   "execution_count": 2,
   "outputs": [],
   "source": [
    "import secrets\n",
    "\n",
    "user_agent = \"Test 0.1 by /u/IsThisATrollBot\"\n",
    "\n",
    "reddit = praw.Reddit(\n",
    "    client_id=secrets.client_ID,\n",
    "    client_secret=secrets.client_secret,\n",
    "    password=secrets.password,\n",
    "    user_agent=user_agent,\n",
    "    username=secrets.username,\n",
    ")"
   ],
   "metadata": {
    "collapsed": false
   }
  },
  {
   "cell_type": "markdown",
   "source": [
    "Collect some data"
   ],
   "metadata": {
    "collapsed": false
   }
  },
  {
   "cell_type": "code",
   "execution_count": 3,
   "outputs": [
    {
     "data": {
      "text/plain": "        id                                              title   created_utc  \\\n0   zbqapd              AITA Monthly Open Forum December 2022  1.670101e+09   \n1   zo6jee  AITA if I tell my guests (family) that I need ...  1.671285e+09   \n2   zoa8ez  AITA (AWTA) for not giving our granddaughter t...  1.671295e+09   \n3   zo8iht  AITA for not switching seats with some lady on...  1.671291e+09   \n4   zod0ok  AITA for continuing to wear the engagement rin...  1.671303e+09   \n..     ...                                                ...           ...   \n95  zof4b4  AITA for wanting to go to my mom's wedding tho...  1.671308e+09   \n96  zocgz9  AITA for telling my husbands daughter I don't ...  1.671301e+09   \n97  zoce3b  AITA for letting my dog poop in someone else's...  1.671301e+09   \n98  zoeo2p  AITA For Telling My Daughter “Remember Who Is ...  1.671307e+09   \n99  zo6mfr        AITA for not wanted to open up to my cousin  1.671285e+09   \n\n    num_comments  \n0            453  \n1           4487  \n2            853  \n3            902  \n4            802  \n..           ...  \n95            11  \n96            19  \n97            83  \n98            21  \n99            11  \n\n[100 rows x 4 columns]",
      "text/html": "<div>\n<style scoped>\n    .dataframe tbody tr th:only-of-type {\n        vertical-align: middle;\n    }\n\n    .dataframe tbody tr th {\n        vertical-align: top;\n    }\n\n    .dataframe thead th {\n        text-align: right;\n    }\n</style>\n<table border=\"1\" class=\"dataframe\">\n  <thead>\n    <tr style=\"text-align: right;\">\n      <th></th>\n      <th>id</th>\n      <th>title</th>\n      <th>created_utc</th>\n      <th>num_comments</th>\n    </tr>\n  </thead>\n  <tbody>\n    <tr>\n      <th>0</th>\n      <td>zbqapd</td>\n      <td>AITA Monthly Open Forum December 2022</td>\n      <td>1.670101e+09</td>\n      <td>453</td>\n    </tr>\n    <tr>\n      <th>1</th>\n      <td>zo6jee</td>\n      <td>AITA if I tell my guests (family) that I need ...</td>\n      <td>1.671285e+09</td>\n      <td>4487</td>\n    </tr>\n    <tr>\n      <th>2</th>\n      <td>zoa8ez</td>\n      <td>AITA (AWTA) for not giving our granddaughter t...</td>\n      <td>1.671295e+09</td>\n      <td>853</td>\n    </tr>\n    <tr>\n      <th>3</th>\n      <td>zo8iht</td>\n      <td>AITA for not switching seats with some lady on...</td>\n      <td>1.671291e+09</td>\n      <td>902</td>\n    </tr>\n    <tr>\n      <th>4</th>\n      <td>zod0ok</td>\n      <td>AITA for continuing to wear the engagement rin...</td>\n      <td>1.671303e+09</td>\n      <td>802</td>\n    </tr>\n    <tr>\n      <th>...</th>\n      <td>...</td>\n      <td>...</td>\n      <td>...</td>\n      <td>...</td>\n    </tr>\n    <tr>\n      <th>95</th>\n      <td>zof4b4</td>\n      <td>AITA for wanting to go to my mom's wedding tho...</td>\n      <td>1.671308e+09</td>\n      <td>11</td>\n    </tr>\n    <tr>\n      <th>96</th>\n      <td>zocgz9</td>\n      <td>AITA for telling my husbands daughter I don't ...</td>\n      <td>1.671301e+09</td>\n      <td>19</td>\n    </tr>\n    <tr>\n      <th>97</th>\n      <td>zoce3b</td>\n      <td>AITA for letting my dog poop in someone else's...</td>\n      <td>1.671301e+09</td>\n      <td>83</td>\n    </tr>\n    <tr>\n      <th>98</th>\n      <td>zoeo2p</td>\n      <td>AITA For Telling My Daughter “Remember Who Is ...</td>\n      <td>1.671307e+09</td>\n      <td>21</td>\n    </tr>\n    <tr>\n      <th>99</th>\n      <td>zo6mfr</td>\n      <td>AITA for not wanted to open up to my cousin</td>\n      <td>1.671285e+09</td>\n      <td>11</td>\n    </tr>\n  </tbody>\n</table>\n<p>100 rows × 4 columns</p>\n</div>"
     },
     "execution_count": 3,
     "metadata": {},
     "output_type": "execute_result"
    }
   ],
   "source": [
    "AITAposts = {'id':[],'title':[], 'created_utc':[], 'num_comments':[]}\n",
    "\n",
    "for submission in reddit.subreddit('AmITheAsshole').hot(limit=100):\n",
    "    AITAposts['id'].append(submission.id)\n",
    "    AITAposts['title'].append(submission.title)\n",
    "    AITAposts['created_utc'].append(submission.created_utc)\n",
    "    AITAposts['num_comments'].append(submission.num_comments)\n",
    "\n",
    "df = pd.DataFrame(data = AITAposts)\n",
    "df"
   ],
   "metadata": {
    "collapsed": false
   }
  },
  {
   "cell_type": "markdown",
   "source": [
    "Convert the time to 'Weekday' and 'hour'"
   ],
   "metadata": {
    "collapsed": false
   }
  },
  {
   "cell_type": "code",
   "execution_count": 4,
   "outputs": [
    {
     "data": {
      "text/plain": "        id                                              title  num_comments  \\\n0   zbqapd              AITA Monthly Open Forum December 2022           453   \n1   zo6jee  AITA if I tell my guests (family) that I need ...          4487   \n2   zoa8ez  AITA (AWTA) for not giving our granddaughter t...           853   \n3   zo8iht  AITA for not switching seats with some lady on...           902   \n4   zod0ok  AITA for continuing to wear the engagement rin...           802   \n..     ...                                                ...           ...   \n95  zof4b4  AITA for wanting to go to my mom's wedding tho...            11   \n96  zocgz9  AITA for telling my husbands daughter I don't ...            19   \n97  zoce3b  AITA for letting my dog poop in someone else's...            83   \n98  zoeo2p  AITA For Telling My Daughter “Remember Who Is ...            21   \n99  zo6mfr        AITA for not wanted to open up to my cousin            11   \n\n    weekday  hour  \n0         5    20  \n1         5    13  \n2         5    16  \n3         5    15  \n4         5    18  \n..      ...   ...  \n95        5    20  \n96        5    18  \n97        5    18  \n98        5    19  \n99        5    13  \n\n[100 rows x 5 columns]",
      "text/html": "<div>\n<style scoped>\n    .dataframe tbody tr th:only-of-type {\n        vertical-align: middle;\n    }\n\n    .dataframe tbody tr th {\n        vertical-align: top;\n    }\n\n    .dataframe thead th {\n        text-align: right;\n    }\n</style>\n<table border=\"1\" class=\"dataframe\">\n  <thead>\n    <tr style=\"text-align: right;\">\n      <th></th>\n      <th>id</th>\n      <th>title</th>\n      <th>num_comments</th>\n      <th>weekday</th>\n      <th>hour</th>\n    </tr>\n  </thead>\n  <tbody>\n    <tr>\n      <th>0</th>\n      <td>zbqapd</td>\n      <td>AITA Monthly Open Forum December 2022</td>\n      <td>453</td>\n      <td>5</td>\n      <td>20</td>\n    </tr>\n    <tr>\n      <th>1</th>\n      <td>zo6jee</td>\n      <td>AITA if I tell my guests (family) that I need ...</td>\n      <td>4487</td>\n      <td>5</td>\n      <td>13</td>\n    </tr>\n    <tr>\n      <th>2</th>\n      <td>zoa8ez</td>\n      <td>AITA (AWTA) for not giving our granddaughter t...</td>\n      <td>853</td>\n      <td>5</td>\n      <td>16</td>\n    </tr>\n    <tr>\n      <th>3</th>\n      <td>zo8iht</td>\n      <td>AITA for not switching seats with some lady on...</td>\n      <td>902</td>\n      <td>5</td>\n      <td>15</td>\n    </tr>\n    <tr>\n      <th>4</th>\n      <td>zod0ok</td>\n      <td>AITA for continuing to wear the engagement rin...</td>\n      <td>802</td>\n      <td>5</td>\n      <td>18</td>\n    </tr>\n    <tr>\n      <th>...</th>\n      <td>...</td>\n      <td>...</td>\n      <td>...</td>\n      <td>...</td>\n      <td>...</td>\n    </tr>\n    <tr>\n      <th>95</th>\n      <td>zof4b4</td>\n      <td>AITA for wanting to go to my mom's wedding tho...</td>\n      <td>11</td>\n      <td>5</td>\n      <td>20</td>\n    </tr>\n    <tr>\n      <th>96</th>\n      <td>zocgz9</td>\n      <td>AITA for telling my husbands daughter I don't ...</td>\n      <td>19</td>\n      <td>5</td>\n      <td>18</td>\n    </tr>\n    <tr>\n      <th>97</th>\n      <td>zoce3b</td>\n      <td>AITA for letting my dog poop in someone else's...</td>\n      <td>83</td>\n      <td>5</td>\n      <td>18</td>\n    </tr>\n    <tr>\n      <th>98</th>\n      <td>zoeo2p</td>\n      <td>AITA For Telling My Daughter “Remember Who Is ...</td>\n      <td>21</td>\n      <td>5</td>\n      <td>19</td>\n    </tr>\n    <tr>\n      <th>99</th>\n      <td>zo6mfr</td>\n      <td>AITA for not wanted to open up to my cousin</td>\n      <td>11</td>\n      <td>5</td>\n      <td>13</td>\n    </tr>\n  </tbody>\n</table>\n<p>100 rows × 5 columns</p>\n</div>"
     },
     "execution_count": 4,
     "metadata": {},
     "output_type": "execute_result"
    }
   ],
   "source": [
    "df['date'] = pd.to_datetime(df['created_utc'],unit='s')\n",
    "df['weekday'] = pd.to_datetime(df[\"date\"]).dt.weekday\n",
    "df['hour'] = pd.to_datetime(df[\"date\"]).dt.hour\n",
    "df = df.drop(columns=['date', 'created_utc'])\n",
    "df"
   ],
   "metadata": {
    "collapsed": false
   }
  }
 ],
 "metadata": {
  "kernelspec": {
   "display_name": "Python 3 (ipykernel)",
   "language": "python",
   "name": "python3"
  },
  "language_info": {
   "codemirror_mode": {
    "name": "ipython",
    "version": 3
   },
   "file_extension": ".py",
   "mimetype": "text/x-python",
   "name": "python",
   "nbconvert_exporter": "python",
   "pygments_lexer": "ipython3",
   "version": "3.9.13"
  }
 },
 "nbformat": 4,
 "nbformat_minor": 5
}
