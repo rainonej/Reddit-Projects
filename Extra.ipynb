{
 "cells": [
  {
   "cell_type": "code",
   "execution_count": null,
   "metadata": {
    "collapsed": true
   },
   "outputs": [],
   "source": []
  },
  {
   "cell_type": "markdown",
   "source": [
    "# Everything after here is different"
   ],
   "metadata": {
    "collapsed": false
   }
  },
  {
   "cell_type": "code",
   "execution_count": null,
   "outputs": [],
   "source": [],
   "metadata": {
    "collapsed": false
   }
  },
  {
   "cell_type": "markdown",
   "source": [
    "Convert the time to 'Weekday' (Monday is 0 and Sunday is 6) and 'hour' (in UTC time/Greenwich Mean Time)"
   ],
   "metadata": {
    "collapsed": false
   }
  },
  {
   "cell_type": "code",
   "execution_count": 37,
   "outputs": [
    {
     "data": {
      "text/plain": "         id                                              title  num_comments  \\\n0    zbqapd              AITA Monthly Open Forum December 2022           455   \n1    zoa8ez  AITA (AWTA) for not giving our granddaughter t...          1083   \n2    zod0ok  AITA for continuing to wear the engagement rin...          1200   \n3    zo8iht  AITA for not switching seats with some lady on...          1055   \n4    zo3qbt  AITA for not taking my baby mama’s son on a tr...          1151   \n..      ...                                                ...           ...   \n659  zmty18  WIBTA if I asked my boss to stop bringing his ...            31   \n660  zmtu6y  AITA for not saying happy birthday to my best ...             9   \n661  zmuv12  AITA for not telling my friend all of my plans...             9   \n662  zmm156  WIBTA for getting mad at my for mom only takin...            29   \n663  zlztw5  AITA For telling my Friend to stop using her P...           166   \n\n     weekday  hour  \n0          5    20  \n1          5    16  \n2          5    18  \n3          5    15  \n4          5    10  \n..       ...   ...  \n659        3    19  \n660        3    19  \n661        3    20  \n662        3    14  \n663        2    19  \n\n[664 rows x 5 columns]",
      "text/html": "<div>\n<style scoped>\n    .dataframe tbody tr th:only-of-type {\n        vertical-align: middle;\n    }\n\n    .dataframe tbody tr th {\n        vertical-align: top;\n    }\n\n    .dataframe thead th {\n        text-align: right;\n    }\n</style>\n<table border=\"1\" class=\"dataframe\">\n  <thead>\n    <tr style=\"text-align: right;\">\n      <th></th>\n      <th>id</th>\n      <th>title</th>\n      <th>num_comments</th>\n      <th>weekday</th>\n      <th>hour</th>\n    </tr>\n  </thead>\n  <tbody>\n    <tr>\n      <th>0</th>\n      <td>zbqapd</td>\n      <td>AITA Monthly Open Forum December 2022</td>\n      <td>455</td>\n      <td>5</td>\n      <td>20</td>\n    </tr>\n    <tr>\n      <th>1</th>\n      <td>zoa8ez</td>\n      <td>AITA (AWTA) for not giving our granddaughter t...</td>\n      <td>1083</td>\n      <td>5</td>\n      <td>16</td>\n    </tr>\n    <tr>\n      <th>2</th>\n      <td>zod0ok</td>\n      <td>AITA for continuing to wear the engagement rin...</td>\n      <td>1200</td>\n      <td>5</td>\n      <td>18</td>\n    </tr>\n    <tr>\n      <th>3</th>\n      <td>zo8iht</td>\n      <td>AITA for not switching seats with some lady on...</td>\n      <td>1055</td>\n      <td>5</td>\n      <td>15</td>\n    </tr>\n    <tr>\n      <th>4</th>\n      <td>zo3qbt</td>\n      <td>AITA for not taking my baby mama’s son on a tr...</td>\n      <td>1151</td>\n      <td>5</td>\n      <td>10</td>\n    </tr>\n    <tr>\n      <th>...</th>\n      <td>...</td>\n      <td>...</td>\n      <td>...</td>\n      <td>...</td>\n      <td>...</td>\n    </tr>\n    <tr>\n      <th>659</th>\n      <td>zmty18</td>\n      <td>WIBTA if I asked my boss to stop bringing his ...</td>\n      <td>31</td>\n      <td>3</td>\n      <td>19</td>\n    </tr>\n    <tr>\n      <th>660</th>\n      <td>zmtu6y</td>\n      <td>AITA for not saying happy birthday to my best ...</td>\n      <td>9</td>\n      <td>3</td>\n      <td>19</td>\n    </tr>\n    <tr>\n      <th>661</th>\n      <td>zmuv12</td>\n      <td>AITA for not telling my friend all of my plans...</td>\n      <td>9</td>\n      <td>3</td>\n      <td>20</td>\n    </tr>\n    <tr>\n      <th>662</th>\n      <td>zmm156</td>\n      <td>WIBTA for getting mad at my for mom only takin...</td>\n      <td>29</td>\n      <td>3</td>\n      <td>14</td>\n    </tr>\n    <tr>\n      <th>663</th>\n      <td>zlztw5</td>\n      <td>AITA For telling my Friend to stop using her P...</td>\n      <td>166</td>\n      <td>2</td>\n      <td>19</td>\n    </tr>\n  </tbody>\n</table>\n<p>664 rows × 5 columns</p>\n</div>"
     },
     "execution_count": 37,
     "metadata": {},
     "output_type": "execute_result"
    }
   ],
   "source": [
    "df['date'] = pd.to_datetime(df['created_utc'],unit='s')\n",
    "df['weekday'] = pd.to_datetime(df[\"date\"]).dt.weekday\n",
    "df['hour'] = pd.to_datetime(df[\"date\"]).dt.hour\n",
    "df = df.drop(columns=['date', 'created_utc'])\n",
    "df"
   ],
   "metadata": {
    "collapsed": false
   }
  },
  {
   "cell_type": "code",
   "execution_count": 7,
   "outputs": [],
   "source": [
    "import nltk\n"
   ],
   "metadata": {
    "collapsed": false
   }
  },
  {
   "cell_type": "code",
   "execution_count": 8,
   "outputs": [
    {
     "name": "stderr",
     "output_type": "stream",
     "text": [
      "[nltk_data] Downloading package vader_lexicon to\n",
      "[nltk_data]     C:\\Users\\raino\\AppData\\Roaming\\nltk_data...\n"
     ]
    },
    {
     "data": {
      "text/plain": "True"
     },
     "execution_count": 8,
     "metadata": {},
     "output_type": "execute_result"
    }
   ],
   "source": [
    "nltk.download('vader_lexicon')"
   ],
   "metadata": {
    "collapsed": false
   }
  },
  {
   "cell_type": "code",
   "execution_count": 10,
   "outputs": [],
   "source": [
    "from nltk.sentiment.vader import SentimentIntensityAnalyzer as SIA\n",
    "sia = SIA()"
   ],
   "metadata": {
    "collapsed": false
   }
  },
  {
   "cell_type": "code",
   "execution_count": 17,
   "outputs": [
    {
     "data": {
      "text/plain": "       neg    neu    pos  compound  \\\n0    0.000  1.000  0.000    0.0000   \n1    0.000  1.000  0.000    0.0000   \n2    0.114  0.725  0.162    0.2177   \n3    0.000  1.000  0.000    0.0000   \n4    0.124  0.737  0.138    0.0772   \n..     ...    ...    ...       ...   \n660  0.189  0.811  0.000   -0.1027   \n661  0.000  0.870  0.130    0.2732   \n662  0.090  0.750  0.160    0.3400   \n663  0.000  0.722  0.278    0.4019   \n664  0.000  1.000  0.000    0.0000   \n\n                                                 title  \n0                AITA Monthly Open Forum December 2022  \n1    AITA if I tell my guests (family) that I need ...  \n2    AITA (AWTA) for not giving our granddaughter t...  \n3    AITA for not switching seats with some lady on...  \n4    AITA for continuing to wear the engagement rin...  \n..                                                 ...  \n660     AITA for questioning my husband about finances  \n661  AITA for calling my sister entitled and callin...  \n662  AITA for leaving the mall since my friend kept...  \n663  AITA for not attending husbands family's holid...  \n664             WIBTA If I spent the night at a hotel?  \n\n[665 rows x 5 columns]",
      "text/html": "<div>\n<style scoped>\n    .dataframe tbody tr th:only-of-type {\n        vertical-align: middle;\n    }\n\n    .dataframe tbody tr th {\n        vertical-align: top;\n    }\n\n    .dataframe thead th {\n        text-align: right;\n    }\n</style>\n<table border=\"1\" class=\"dataframe\">\n  <thead>\n    <tr style=\"text-align: right;\">\n      <th></th>\n      <th>neg</th>\n      <th>neu</th>\n      <th>pos</th>\n      <th>compound</th>\n      <th>title</th>\n    </tr>\n  </thead>\n  <tbody>\n    <tr>\n      <th>0</th>\n      <td>0.000</td>\n      <td>1.000</td>\n      <td>0.000</td>\n      <td>0.0000</td>\n      <td>AITA Monthly Open Forum December 2022</td>\n    </tr>\n    <tr>\n      <th>1</th>\n      <td>0.000</td>\n      <td>1.000</td>\n      <td>0.000</td>\n      <td>0.0000</td>\n      <td>AITA if I tell my guests (family) that I need ...</td>\n    </tr>\n    <tr>\n      <th>2</th>\n      <td>0.114</td>\n      <td>0.725</td>\n      <td>0.162</td>\n      <td>0.2177</td>\n      <td>AITA (AWTA) for not giving our granddaughter t...</td>\n    </tr>\n    <tr>\n      <th>3</th>\n      <td>0.000</td>\n      <td>1.000</td>\n      <td>0.000</td>\n      <td>0.0000</td>\n      <td>AITA for not switching seats with some lady on...</td>\n    </tr>\n    <tr>\n      <th>4</th>\n      <td>0.124</td>\n      <td>0.737</td>\n      <td>0.138</td>\n      <td>0.0772</td>\n      <td>AITA for continuing to wear the engagement rin...</td>\n    </tr>\n    <tr>\n      <th>...</th>\n      <td>...</td>\n      <td>...</td>\n      <td>...</td>\n      <td>...</td>\n      <td>...</td>\n    </tr>\n    <tr>\n      <th>660</th>\n      <td>0.189</td>\n      <td>0.811</td>\n      <td>0.000</td>\n      <td>-0.1027</td>\n      <td>AITA for questioning my husband about finances</td>\n    </tr>\n    <tr>\n      <th>661</th>\n      <td>0.000</td>\n      <td>0.870</td>\n      <td>0.130</td>\n      <td>0.2732</td>\n      <td>AITA for calling my sister entitled and callin...</td>\n    </tr>\n    <tr>\n      <th>662</th>\n      <td>0.090</td>\n      <td>0.750</td>\n      <td>0.160</td>\n      <td>0.3400</td>\n      <td>AITA for leaving the mall since my friend kept...</td>\n    </tr>\n    <tr>\n      <th>663</th>\n      <td>0.000</td>\n      <td>0.722</td>\n      <td>0.278</td>\n      <td>0.4019</td>\n      <td>AITA for not attending husbands family's holid...</td>\n    </tr>\n    <tr>\n      <th>664</th>\n      <td>0.000</td>\n      <td>1.000</td>\n      <td>0.000</td>\n      <td>0.0000</td>\n      <td>WIBTA If I spent the night at a hotel?</td>\n    </tr>\n  </tbody>\n</table>\n<p>665 rows × 5 columns</p>\n</div>"
     },
     "execution_count": 17,
     "metadata": {},
     "output_type": "execute_result"
    }
   ],
   "source": [
    "titles = list(df['title'])\n",
    "results = []\n",
    "for t in titles:\n",
    "    dic = sia.polarity_scores(t)\n",
    "    dic['title'] = t\n",
    "    results.append(dic)\n",
    "\n",
    "pd.DataFrame(results)"
   ],
   "metadata": {
    "collapsed": false
   }
  },
  {
   "cell_type": "code",
   "execution_count": 18,
   "outputs": [
    {
     "data": {
      "text/plain": "id              0\ntitle           0\nnum_comments    0\nweekday         0\nhour            0\ndtype: int64"
     },
     "execution_count": 18,
     "metadata": {},
     "output_type": "execute_result"
    }
   ],
   "source": [
    "df.isnull().sum()"
   ],
   "metadata": {
    "collapsed": false
   }
  },
  {
   "cell_type": "code",
   "execution_count": 28,
   "outputs": [
    {
     "data": {
      "text/plain": "24"
     },
     "execution_count": 28,
     "metadata": {},
     "output_type": "execute_result"
    }
   ],
   "source": [
    "pd.to_datetime(reddit.submission(\"8dmv8z\").created_utc)\n",
    "reddit.submission(\"8dmv8z\").num_comments"
   ],
   "metadata": {
    "collapsed": false
   }
  },
  {
   "cell_type": "code",
   "execution_count": 32,
   "outputs": [],
   "source": [
    "import praw\n",
    "from psaw import PushshiftAPI\n",
    "\n",
    "#api = PushshiftAPI(reddit)"
   ],
   "metadata": {
    "collapsed": false
   }
  },
  {
   "cell_type": "code",
   "execution_count": 35,
   "outputs": [
    {
     "ename": "KeyboardInterrupt",
     "evalue": "",
     "output_type": "error",
     "traceback": [
      "\u001B[1;31m---------------------------------------------------------------------------\u001B[0m",
      "\u001B[1;31mKeyboardInterrupt\u001B[0m                         Traceback (most recent call last)",
      "\u001B[1;32m~\\AppData\\Local\\Temp\\ipykernel_8408\\1060326395.py\u001B[0m in \u001B[0;36m<module>\u001B[1;34m\u001B[0m\n\u001B[1;32m----> 1\u001B[1;33m \u001B[0mapi\u001B[0m \u001B[1;33m=\u001B[0m \u001B[0mPushshiftAPI\u001B[0m\u001B[1;33m(\u001B[0m\u001B[0mreddit\u001B[0m\u001B[1;33m)\u001B[0m\u001B[1;33m\u001B[0m\u001B[1;33m\u001B[0m\u001B[0m\n\u001B[0m",
      "\u001B[1;32m~\\anaconda3\\lib\\site-packages\\psaw\\PushshiftAPI.py\u001B[0m in \u001B[0;36m__init__\u001B[1;34m(self, r, *args, **kwargs)\u001B[0m\n\u001B[0;32m    324\u001B[0m         \u001B[1;33m:\u001B[0m\u001B[0mtype\u001B[0m \u001B[0mshards_down_behavior\u001B[0m\u001B[1;33m:\u001B[0m \u001B[0mstr\u001B[0m\u001B[1;33m,\u001B[0m \u001B[0moptional\u001B[0m\u001B[1;33m\u001B[0m\u001B[1;33m\u001B[0m\u001B[0m\n\u001B[0;32m    325\u001B[0m         \"\"\"\n\u001B[1;32m--> 326\u001B[1;33m         \u001B[0msuper\u001B[0m\u001B[1;33m(\u001B[0m\u001B[1;33m)\u001B[0m\u001B[1;33m.\u001B[0m\u001B[0m__init__\u001B[0m\u001B[1;33m(\u001B[0m\u001B[1;33m*\u001B[0m\u001B[0margs\u001B[0m\u001B[1;33m,\u001B[0m \u001B[1;33m**\u001B[0m\u001B[0mkwargs\u001B[0m\u001B[1;33m)\u001B[0m\u001B[1;33m\u001B[0m\u001B[1;33m\u001B[0m\u001B[0m\n\u001B[0m\u001B[0;32m    327\u001B[0m         \u001B[0mself\u001B[0m\u001B[1;33m.\u001B[0m\u001B[0mr\u001B[0m \u001B[1;33m=\u001B[0m \u001B[0mr\u001B[0m\u001B[1;33m\u001B[0m\u001B[1;33m\u001B[0m\u001B[0m\n\u001B[0;32m    328\u001B[0m         \u001B[0mself\u001B[0m\u001B[1;33m.\u001B[0m\u001B[0m_search_func\u001B[0m \u001B[1;33m=\u001B[0m \u001B[0mself\u001B[0m\u001B[1;33m.\u001B[0m\u001B[0m_search\u001B[0m\u001B[1;33m\u001B[0m\u001B[1;33m\u001B[0m\u001B[0m\n",
      "\u001B[1;32m~\\anaconda3\\lib\\site-packages\\psaw\\PushshiftAPI.py\u001B[0m in \u001B[0;36m__init__\u001B[1;34m(self, max_retries, max_sleep, backoff, rate_limit_per_minute, max_results_per_request, detect_local_tz, utc_offset_secs, domain, https_proxy, shards_down_behavior)\u001B[0m\n\u001B[0;32m     92\u001B[0m         \u001B[1;32mif\u001B[0m \u001B[0mrate_limit_per_minute\u001B[0m \u001B[1;32mis\u001B[0m \u001B[1;32mNone\u001B[0m\u001B[1;33m:\u001B[0m\u001B[1;33m\u001B[0m\u001B[1;33m\u001B[0m\u001B[0m\n\u001B[0;32m     93\u001B[0m             \u001B[0mlog\u001B[0m\u001B[1;33m.\u001B[0m\u001B[0mdebug\u001B[0m\u001B[1;33m(\u001B[0m\u001B[1;34m\"Connecting to /meta endpoint to learn rate limit.\"\u001B[0m\u001B[1;33m)\u001B[0m\u001B[1;33m\u001B[0m\u001B[1;33m\u001B[0m\u001B[0m\n\u001B[1;32m---> 94\u001B[1;33m             \u001B[0mresponse\u001B[0m \u001B[1;33m=\u001B[0m \u001B[0mself\u001B[0m\u001B[1;33m.\u001B[0m\u001B[0m_get\u001B[0m\u001B[1;33m(\u001B[0m\u001B[0mself\u001B[0m\u001B[1;33m.\u001B[0m\u001B[0mbase_url\u001B[0m\u001B[1;33m.\u001B[0m\u001B[0mformat\u001B[0m\u001B[1;33m(\u001B[0m\u001B[0mendpoint\u001B[0m\u001B[1;33m=\u001B[0m\u001B[1;34m'meta'\u001B[0m\u001B[1;33m)\u001B[0m\u001B[1;33m)\u001B[0m\u001B[1;33m\u001B[0m\u001B[1;33m\u001B[0m\u001B[0m\n\u001B[0m\u001B[0;32m     95\u001B[0m             \u001B[0mrate_limit_per_minute\u001B[0m \u001B[1;33m=\u001B[0m \u001B[0mresponse\u001B[0m\u001B[1;33m[\u001B[0m\u001B[1;34m'server_ratelimit_per_minute'\u001B[0m\u001B[1;33m]\u001B[0m\u001B[1;33m\u001B[0m\u001B[1;33m\u001B[0m\u001B[0m\n\u001B[0;32m     96\u001B[0m             \u001B[0mlog\u001B[0m\u001B[1;33m.\u001B[0m\u001B[0mdebug\u001B[0m\u001B[1;33m(\u001B[0m\u001B[1;34m\"server_ratelimit_per_minute: %s\"\u001B[0m \u001B[1;33m%\u001B[0m \u001B[0mrate_limit_per_minute\u001B[0m\u001B[1;33m)\u001B[0m\u001B[1;33m\u001B[0m\u001B[1;33m\u001B[0m\u001B[0m\n",
      "\u001B[1;32m~\\anaconda3\\lib\\site-packages\\psaw\\PushshiftAPI.py\u001B[0m in \u001B[0;36m_get\u001B[1;34m(self, url, payload)\u001B[0m\n\u001B[0;32m    179\u001B[0m             \u001B[1;32mif\u001B[0m \u001B[0mi\u001B[0m \u001B[1;33m>\u001B[0m \u001B[1;36m0\u001B[0m\u001B[1;33m:\u001B[0m\u001B[1;33m\u001B[0m\u001B[1;33m\u001B[0m\u001B[0m\n\u001B[0;32m    180\u001B[0m                 \u001B[0mwarnings\u001B[0m\u001B[1;33m.\u001B[0m\u001B[0mwarn\u001B[0m\u001B[1;33m(\u001B[0m\u001B[1;34m\"Unable to connect to pushshift.io. Retrying after backoff.\"\u001B[0m\u001B[1;33m)\u001B[0m\u001B[1;33m\u001B[0m\u001B[1;33m\u001B[0m\u001B[0m\n\u001B[1;32m--> 181\u001B[1;33m             \u001B[0mself\u001B[0m\u001B[1;33m.\u001B[0m\u001B[0m_impose_rate_limit\u001B[0m\u001B[1;33m(\u001B[0m\u001B[0mi\u001B[0m\u001B[1;33m)\u001B[0m\u001B[1;33m\u001B[0m\u001B[1;33m\u001B[0m\u001B[0m\n\u001B[0m\u001B[0;32m    182\u001B[0m             \u001B[0mi\u001B[0m\u001B[1;33m+=\u001B[0m\u001B[1;36m1\u001B[0m\u001B[1;33m\u001B[0m\u001B[1;33m\u001B[0m\u001B[0m\n\u001B[0;32m    183\u001B[0m             \u001B[1;32mtry\u001B[0m\u001B[1;33m:\u001B[0m\u001B[1;33m\u001B[0m\u001B[1;33m\u001B[0m\u001B[0m\n",
      "\u001B[1;32m~\\anaconda3\\lib\\site-packages\\psaw\\PushshiftAPI.py\u001B[0m in \u001B[0;36m_impose_rate_limit\u001B[1;34m(self, nth_request)\u001B[0m\n\u001B[0;32m    149\u001B[0m         \u001B[1;32mif\u001B[0m \u001B[0minterval\u001B[0m \u001B[1;33m>\u001B[0m \u001B[1;36m0\u001B[0m\u001B[1;33m:\u001B[0m\u001B[1;33m\u001B[0m\u001B[1;33m\u001B[0m\u001B[0m\n\u001B[0;32m    150\u001B[0m             \u001B[0mlog\u001B[0m\u001B[1;33m.\u001B[0m\u001B[0mdebug\u001B[0m\u001B[1;33m(\u001B[0m\u001B[1;34m\"Imposing rate limit, sleeping for %s\"\u001B[0m \u001B[1;33m%\u001B[0m \u001B[0minterval\u001B[0m\u001B[1;33m)\u001B[0m\u001B[1;33m\u001B[0m\u001B[1;33m\u001B[0m\u001B[0m\n\u001B[1;32m--> 151\u001B[1;33m             \u001B[0mtime\u001B[0m\u001B[1;33m.\u001B[0m\u001B[0msleep\u001B[0m\u001B[1;33m(\u001B[0m\u001B[0minterval\u001B[0m\u001B[1;33m)\u001B[0m\u001B[1;33m\u001B[0m\u001B[1;33m\u001B[0m\u001B[0m\n\u001B[0m\u001B[0;32m    152\u001B[0m \u001B[1;33m\u001B[0m\u001B[0m\n\u001B[0;32m    153\u001B[0m     \u001B[1;32mdef\u001B[0m \u001B[0m_add_nec_args\u001B[0m\u001B[1;33m(\u001B[0m\u001B[0mself\u001B[0m\u001B[1;33m,\u001B[0m \u001B[0mpayload\u001B[0m\u001B[1;33m)\u001B[0m\u001B[1;33m:\u001B[0m\u001B[1;33m\u001B[0m\u001B[1;33m\u001B[0m\u001B[0m\n",
      "\u001B[1;31mKeyboardInterrupt\u001B[0m: "
     ]
    }
   ],
   "source": [
    "api = PushshiftAPI(reddit)"
   ],
   "metadata": {
    "collapsed": false
   }
  },
  {
   "cell_type": "code",
   "execution_count": 34,
   "outputs": [
    {
     "data": {
      "text/plain": "4"
     },
     "execution_count": 34,
     "metadata": {},
     "output_type": "execute_result"
    }
   ],
   "source": [
    "2+2"
   ],
   "metadata": {
    "collapsed": false
   }
  },
  {
   "cell_type": "code",
   "execution_count": 58,
   "outputs": [
    {
     "data": {
      "text/plain": "         id                                              title   created_utc  \\\n0    zobjia  2 legged dog teaches younger dog with same bir...  1.671299e+09   \n1    zoc82m            Don't worry, you haven't been cancelled  1.671301e+09   \n2    zoa5ed  X-ray reveals 8-year-old boy hidden in woman’s...  1.671295e+09   \n3    zoa9gj                                    problem solved.  1.671295e+09   \n4    zo8y8v  🔥The beautiful, acellular or (Myxogastria) sli...  1.671292e+09   \n..      ...                                                ...           ...   \n995  zoa72v  mrekk | Yooh - MariannE [Collab] +HDDTHR (neon...  1.671295e+09   \n996  zo7j4h                                   Right? Sure Jan.  1.671288e+09   \n997  zo6ej7                                            Alucard  1.671284e+09   \n998  zo33ne  Questa è l'unica immagine che sono riuscito a ...  1.671271e+09   \n999  zoa93y                  This faction was wasted potential  1.671295e+09   \n\n     num_comments  score           subreddit subreddit_id  \n0             472  22866    nextfuckinglevel     t5_m0bnr  \n1             426  14318     MurderedByWords     t5_3hx3r  \n2             741  24850     oddlyterrifying     t5_2yo6b  \n3            2331  49822               memes     t5_2qjpg  \n4             265  19900  NatureIsFuckingLit     t5_3gdh7  \n..            ...    ...                 ...          ...  \n995            21    417             osugame     t5_2s3lm  \n996           123    579         FunnyandSad     t5_2z7qd  \n997            48    699      DestinyFashion     t5_38c6g  \n998            47   1380            memesITA    t5_258mfq  \n999           104    386         AEWOfficial     t5_ubkze  \n\n[1000 rows x 7 columns]",
      "text/html": "<div>\n<style scoped>\n    .dataframe tbody tr th:only-of-type {\n        vertical-align: middle;\n    }\n\n    .dataframe tbody tr th {\n        vertical-align: top;\n    }\n\n    .dataframe thead th {\n        text-align: right;\n    }\n</style>\n<table border=\"1\" class=\"dataframe\">\n  <thead>\n    <tr style=\"text-align: right;\">\n      <th></th>\n      <th>id</th>\n      <th>title</th>\n      <th>created_utc</th>\n      <th>num_comments</th>\n      <th>score</th>\n      <th>subreddit</th>\n      <th>subreddit_id</th>\n    </tr>\n  </thead>\n  <tbody>\n    <tr>\n      <th>0</th>\n      <td>zobjia</td>\n      <td>2 legged dog teaches younger dog with same bir...</td>\n      <td>1.671299e+09</td>\n      <td>472</td>\n      <td>22866</td>\n      <td>nextfuckinglevel</td>\n      <td>t5_m0bnr</td>\n    </tr>\n    <tr>\n      <th>1</th>\n      <td>zoc82m</td>\n      <td>Don't worry, you haven't been cancelled</td>\n      <td>1.671301e+09</td>\n      <td>426</td>\n      <td>14318</td>\n      <td>MurderedByWords</td>\n      <td>t5_3hx3r</td>\n    </tr>\n    <tr>\n      <th>2</th>\n      <td>zoa5ed</td>\n      <td>X-ray reveals 8-year-old boy hidden in woman’s...</td>\n      <td>1.671295e+09</td>\n      <td>741</td>\n      <td>24850</td>\n      <td>oddlyterrifying</td>\n      <td>t5_2yo6b</td>\n    </tr>\n    <tr>\n      <th>3</th>\n      <td>zoa9gj</td>\n      <td>problem solved.</td>\n      <td>1.671295e+09</td>\n      <td>2331</td>\n      <td>49822</td>\n      <td>memes</td>\n      <td>t5_2qjpg</td>\n    </tr>\n    <tr>\n      <th>4</th>\n      <td>zo8y8v</td>\n      <td>🔥The beautiful, acellular or (Myxogastria) sli...</td>\n      <td>1.671292e+09</td>\n      <td>265</td>\n      <td>19900</td>\n      <td>NatureIsFuckingLit</td>\n      <td>t5_3gdh7</td>\n    </tr>\n    <tr>\n      <th>...</th>\n      <td>...</td>\n      <td>...</td>\n      <td>...</td>\n      <td>...</td>\n      <td>...</td>\n      <td>...</td>\n      <td>...</td>\n    </tr>\n    <tr>\n      <th>995</th>\n      <td>zoa72v</td>\n      <td>mrekk | Yooh - MariannE [Collab] +HDDTHR (neon...</td>\n      <td>1.671295e+09</td>\n      <td>21</td>\n      <td>417</td>\n      <td>osugame</td>\n      <td>t5_2s3lm</td>\n    </tr>\n    <tr>\n      <th>996</th>\n      <td>zo7j4h</td>\n      <td>Right? Sure Jan.</td>\n      <td>1.671288e+09</td>\n      <td>123</td>\n      <td>579</td>\n      <td>FunnyandSad</td>\n      <td>t5_2z7qd</td>\n    </tr>\n    <tr>\n      <th>997</th>\n      <td>zo6ej7</td>\n      <td>Alucard</td>\n      <td>1.671284e+09</td>\n      <td>48</td>\n      <td>699</td>\n      <td>DestinyFashion</td>\n      <td>t5_38c6g</td>\n    </tr>\n    <tr>\n      <th>998</th>\n      <td>zo33ne</td>\n      <td>Questa è l'unica immagine che sono riuscito a ...</td>\n      <td>1.671271e+09</td>\n      <td>47</td>\n      <td>1380</td>\n      <td>memesITA</td>\n      <td>t5_258mfq</td>\n    </tr>\n    <tr>\n      <th>999</th>\n      <td>zoa93y</td>\n      <td>This faction was wasted potential</td>\n      <td>1.671295e+09</td>\n      <td>104</td>\n      <td>386</td>\n      <td>AEWOfficial</td>\n      <td>t5_ubkze</td>\n    </tr>\n  </tbody>\n</table>\n<p>1000 rows × 7 columns</p>\n</div>"
     },
     "execution_count": 58,
     "metadata": {},
     "output_type": "execute_result"
    }
   ],
   "source": [
    "posts = {'id':[],'title':[], 'created_utc':[], 'num_comments':[], 'score':[], 'subreddit':[], 'subreddit_id':[]}\n",
    "\n",
    "for submission in reddit.subreddit('all').hot(limit=1000):\n",
    "    posts['id'].append(submission.id)\n",
    "    posts['title'].append(submission.title)\n",
    "    posts['created_utc'].append(submission.created_utc)\n",
    "    posts['num_comments'].append(submission.num_comments)\n",
    "    posts['score'].append(submission.score)\n",
    "    posts['subreddit'].append(submission.subreddit.display_name)\n",
    "    posts['subreddit_id'].append(submission.subreddit_id)\n",
    "\n",
    "\n",
    "df2 = pd.DataFrame(data = posts)\n",
    "df2"
   ],
   "metadata": {
    "collapsed": false
   }
  },
  {
   "cell_type": "code",
   "execution_count": 47,
   "outputs": [],
   "source": [
    "for i in reddit.subreddit('all').hot(limit=1): a = i"
   ],
   "metadata": {
    "collapsed": false
   }
  },
  {
   "cell_type": "code",
   "execution_count": 57,
   "outputs": [
    {
     "data": {
      "text/plain": "22431"
     },
     "execution_count": 57,
     "metadata": {},
     "output_type": "execute_result"
    }
   ],
   "source": [
    "a.score"
   ],
   "metadata": {
    "collapsed": false
   }
  }
 ],
 "metadata": {
  "kernelspec": {
   "display_name": "Python 3",
   "language": "python",
   "name": "python3"
  },
  "language_info": {
   "codemirror_mode": {
    "name": "ipython",
    "version": 2
   },
   "file_extension": ".py",
   "mimetype": "text/x-python",
   "name": "python",
   "nbconvert_exporter": "python",
   "pygments_lexer": "ipython2",
   "version": "2.7.6"
  }
 },
 "nbformat": 4,
 "nbformat_minor": 0
}
